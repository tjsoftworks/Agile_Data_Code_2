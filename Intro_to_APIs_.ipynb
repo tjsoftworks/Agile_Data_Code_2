{
  "nbformat": 4,
  "nbformat_minor": 0,
  "metadata": {
    "colab": {
      "name": "Intro to APIs_",
      "provenance": [],
      "toc_visible": true,
      "include_colab_link": true
    },
    "kernelspec": {
      "name": "python3",
      "display_name": "Python 3"
    }
  },
  "cells": [
    {
      "cell_type": "markdown",
      "metadata": {
        "id": "view-in-github",
        "colab_type": "text"
      },
      "source": [
        "<a href=\"https://colab.research.google.com/github/tjsoftworks/Agile_Data_Code_2/blob/master/Intro_to_APIs_.ipynb\" target=\"_parent\"><img src=\"https://colab.research.google.com/assets/colab-badge.svg\" alt=\"Open In Colab\"/></a>"
      ]
    },
    {
      "cell_type": "markdown",
      "metadata": {
        "id": "RtjcaDCwXSZt"
      },
      "source": [
        "# Welcome to Google Colab\n",
        "\n",
        "Colab is essentially Google's way of hosting a [jupyter notebook](https://jupyter.org/). A very popular tool to use as a data scientist!\n",
        "\n",
        "It allows us to write code, documentation, and output visuals all in one place.\n",
        "\n",
        "To be able to and edit the code in this workshop. Please make a copy for yourself\n",
        "\n",
        "`file > save a copy in drive`\n",
        "\n",
        "This should open a new tab with your own copy of this notebook. It can take a minute to load.\n",
        "\n",
        "Colab also gives you some options for running complicated computations such as training deep learning model. To see access those options:\n",
        "\n",
        "`Runtime > change runtime type` Select `GPU`, `TPU`, or `None`\n",
        "\n",
        "We don't need to change anything for this workshop, but its a great resource if you start learning deep learning and don't have a powerful GPU at home. \n",
        "\n",
        "This is a text cell. \n",
        "\n",
        "You can add a new text cell by clicking `+ Text` above. \n",
        "\n",
        "It does not highlight wrong spelling. I apologize for any typos!\n"
      ]
    },
    {
      "cell_type": "markdown",
      "metadata": {
        "id": "9S3jIeHP9hF-"
      },
      "source": [
        "# REST"
      ]
    },
    {
      "cell_type": "markdown",
      "metadata": {
        "id": "x31VIyd3mdla"
      },
      "source": [
        "## Let's cover a simple REST GET request\n",
        "\n",
        "The TacoFancy API was built on top of TacoFancy. \n",
        "\n",
        "See https://github.com/evz/tacofancy-api and https://github.com/sinker/tacofancy for more details."
      ]
    },
    {
      "cell_type": "markdown",
      "metadata": {
        "id": "ZaTYm7Wu72fv"
      },
      "source": [
        "One of the most difficult parts of APIs can be discovering valid ways to interact with them. \n",
        "\n",
        "In a best-case scenario, the API is thoroughly documented AND kept current...\n",
        "\n",
        "> Just like all programmers documenting their code...\n",
        "\n",
        "So with that in mind, lets check out the source code for the TacoFancy API to discover the Flask Endpoints: https://github.com/evz/tacofancy-api/blob/master/app.py"
      ]
    },
    {
      "cell_type": "code",
      "metadata": {
        "id": "4VCCjv59Yv4D"
      },
      "source": [
        "import requests\n",
        "\n",
        "# main endpoint url\n",
        "taco_url='http://taco-randomizer.herokuapp.com/'\n",
        "\n",
        "# specific endpoint for a random full-taco\n",
        "taco_options='/random/?full-taco=true'"
      ],
      "execution_count": null,
      "outputs": []
    },
    {
      "cell_type": "markdown",
      "metadata": {
        "id": "39A8jL8ao6pU"
      },
      "source": [
        "#### Now we'll use the URL with the endpoint `/random/?full-taco=true` to GET a random taco."
      ]
    },
    {
      "cell_type": "code",
      "metadata": {
        "colab": {
          "base_uri": "https://localhost:8080/"
        },
        "id": "nBq0hEMalJfm",
        "outputId": "3d253250-7b26-4694-fb79-316273c7c3df"
      },
      "source": [
        "response = requests.get(taco_url+taco_options)\n",
        "\n",
        "# We can access the JSON payload response by calling the json method\n",
        "response.json()"
      ],
      "execution_count": null,
      "outputs": [
        {
          "output_type": "execute_result",
          "data": {
            "text/plain": [
              "{'base_layer': {'name': 'Garlic Black Beans',\n",
              "  'recipe': \"Garlic Black Beans\\n==================\\n\\nVegetarian/Vegan\\n----------------\\n\\n* Can of plain black beans\\n* 3 - 6 cloves of garlic chopped fine\\n* Vegetable oil of your choice\\n* Cumin\\n* Cayenne or Chipotle pepper (optional)\\n* Lemon juice (optional)\\n\\n1. Heat a tablespoon of olive oil in a saucepan over medium heat. \\n2. When olive oil starts to shimmer, add the garlic and let it simmer for about 10 seconds.\\n3. Add cumin and pepper (if wanted) and simmer for another 10 seconds.\\n4. Pour in the entire can of beans, don't drain or rinse them.\\n5. Simmer for about 15 minutes or until the bean broth has thickened to your liking. If the beans will be the main ingredient of your tacos, cook until the beans are just about totally dry. If you're using them in a mixture (like the [Black Bean, Potato, and Onion Tacos](/full_tacos/black_bean_potato_onion_tacos.md) ), let the broth stay a little bit runny.\\n6. Add a squeeze or two of lemon juice if you like. \\n\\ntags: vegetarian, vegan\\n\",\n",
              "  'slug': 'garlic_black_beans',\n",
              "  'url': 'https://raw.github.com/sinker/tacofancy/master/base_layers/garlic_black_beans.md'},\n",
              " 'base_layer_url': 'https://raw.github.com/sinker/tacofancy/master/base_layers/garlic_black_beans.md',\n",
              " 'condiment_url': None,\n",
              " 'mixin_url': None,\n",
              " 'name': 'Black Bean, Potato, and Onion Tacos',\n",
              " 'recipe': \"Black Bean, Potato, and Onion Tacos\\n===================================\\n\\nVegetarian; vegan if you omit the cheese\\n-----------------------------------------\\n\\n* 1 recipe [Garlic Black Beans](/base_layers/garlic_black_beans.md) (broth left slightly soupy)\\n* Potatoes, peeled and sliced into rounds (best results with baby yellow, red, or purple/blue potatoes if you can get them)\\n* Large Onion, cut in half and sliced into half-moons\\n* Vegetable oil of your choice\\n* Salty cheese of your choice (cotija ftw)\\n\\n1. Heat two tablespoons vegetable oil in large skillet over medium heat.\\n2. Once olive oil begins to shimmer, add onions. \\n3. When onions start becoming translucent, turn the heat down a tiny bit and saute them until they turn very slightly brown on the edges. \\n4. Add the peeled and sliced potato rounds and saute them along with the onions until the potatoes are fork-tender.\\n5. Add the garlic black beans and simmer until any bean broth is incorporated into the potato/onion mix.\\n6. Let cool a little bit before serving, potatoes retain heat really really well. \\n\\nServe on corn or flour tortillas. Hard or soft shell, doesn't matter. Sprinkle on salty cheese as desired.\\n\\ntags: vegetarian, vegan\\n\",\n",
              " 'seasoning_url': None,\n",
              " 'shell_url': None,\n",
              " 'slug': 'black_bean_potato_and_onion_tacos',\n",
              " 'url': 'https://raw.github.com/sinker/tacofancy/master/full_tacos/black_bean_potato_onion_tacos.md'}"
            ]
          },
          "metadata": {
            "tags": []
          },
          "execution_count": 27
        }
      ]
    },
    {
      "cell_type": "code",
      "metadata": {
        "id": "zL7IfK7zlLMI"
      },
      "source": [
        "import time\n",
        "\n",
        "random_tacos=[]\n",
        "\n",
        "for _ in range(10):\n",
        "  # Retreive the page\n",
        "  response = requests.get(taco_url+taco_options)\n",
        "  random_tacos.append(response.json())\n",
        "  # Wait between requests to avoid overloading the app\n",
        "  time.sleep(5)"
      ],
      "execution_count": null,
      "outputs": []
    },
    {
      "cell_type": "markdown",
      "metadata": {
        "id": "uIusahUVrBbD"
      },
      "source": [
        "#### We can store these random tacos in a list and turn them into a Pandas DataFrame"
      ]
    },
    {
      "cell_type": "code",
      "metadata": {
        "id": "TuK-i4c-lObA"
      },
      "source": [
        "import pandas as pd\n",
        "\n",
        "df = pd.DataFrame(random_tacos)"
      ],
      "execution_count": null,
      "outputs": []
    },
    {
      "cell_type": "code",
      "metadata": {
        "colab": {
          "base_uri": "https://localhost:8080/",
          "height": 534
        },
        "id": "c1OKoRCnmNbO",
        "outputId": "2afb9400-8c68-4c21-a29e-f7208c48051d"
      },
      "source": [
        "df.head()"
      ],
      "execution_count": null,
      "outputs": [
        {
          "output_type": "execute_result",
          "data": {
            "text/html": [
              "<div>\n",
              "<style scoped>\n",
              "    .dataframe tbody tr th:only-of-type {\n",
              "        vertical-align: middle;\n",
              "    }\n",
              "\n",
              "    .dataframe tbody tr th {\n",
              "        vertical-align: top;\n",
              "    }\n",
              "\n",
              "    .dataframe thead th {\n",
              "        text-align: right;\n",
              "    }\n",
              "</style>\n",
              "<table border=\"1\" class=\"dataframe\">\n",
              "  <thead>\n",
              "    <tr style=\"text-align: right;\">\n",
              "      <th></th>\n",
              "      <th>base_layer</th>\n",
              "      <th>condiment</th>\n",
              "      <th>slug</th>\n",
              "      <th>mixin_url</th>\n",
              "      <th>seasoning_url</th>\n",
              "      <th>url</th>\n",
              "      <th>shell_url</th>\n",
              "      <th>recipe</th>\n",
              "      <th>base_layer_url</th>\n",
              "      <th>name</th>\n",
              "      <th>condiment_url</th>\n",
              "      <th>mixin</th>\n",
              "    </tr>\n",
              "  </thead>\n",
              "  <tbody>\n",
              "    <tr>\n",
              "      <th>0</th>\n",
              "      <td>{'url': 'https://raw.github.com/sinker/tacofan...</td>\n",
              "      <td>{'url': 'https://raw.github.com/sinker/tacofan...</td>\n",
              "      <td>asian_style_tacos</td>\n",
              "      <td>None</td>\n",
              "      <td>None</td>\n",
              "      <td>https://raw.github.com/sinker/tacofancy/master...</td>\n",
              "      <td>None</td>\n",
              "      <td>Asian Style Tacos\\n=================\\n\\nIf you...</td>\n",
              "      <td>https://raw.github.com/sinker/tacofancy/master...</td>\n",
              "      <td>Asian Style Tacos</td>\n",
              "      <td>https://raw.github.com/sinker/tacofancy/master...</td>\n",
              "      <td>NaN</td>\n",
              "    </tr>\n",
              "    <tr>\n",
              "      <th>1</th>\n",
              "      <td>{'url': 'https://raw.github.com/sinker/tacofan...</td>\n",
              "      <td>{'url': 'https://raw.github.com/sinker/tacofan...</td>\n",
              "      <td>fish_tacos</td>\n",
              "      <td>https://raw.github.com/sinker/tacofancy/master...</td>\n",
              "      <td>None</td>\n",
              "      <td>https://raw.github.com/sinker/tacofancy/master...</td>\n",
              "      <td>None</td>\n",
              "      <td>Fish Tacos\\n==========\\n\\nFish tacos tend to o...</td>\n",
              "      <td>https://raw.github.com/sinker/tacofancy/master...</td>\n",
              "      <td>Fish Tacos</td>\n",
              "      <td>https://raw.github.com/sinker/tacofancy/master...</td>\n",
              "      <td>{'url': 'https://raw.github.com/sinker/tacofan...</td>\n",
              "    </tr>\n",
              "    <tr>\n",
              "      <th>2</th>\n",
              "      <td>{'url': 'https://raw.github.com/sinker/tacofan...</td>\n",
              "      <td>{'url': 'https://raw.github.com/sinker/tacofan...</td>\n",
              "      <td>chicken_verde_corn_and_black_bean_tacos_with_p...</td>\n",
              "      <td>None</td>\n",
              "      <td>None</td>\n",
              "      <td>https://raw.github.com/sinker/tacofancy/master...</td>\n",
              "      <td>None</td>\n",
              "      <td>Chicken Verde, Corn and Black Bean Tacos with ...</td>\n",
              "      <td>https://raw.github.com/sinker/tacofancy/master...</td>\n",
              "      <td>Chicken Verde, Corn and Black Bean Tacos with ...</td>\n",
              "      <td>https://raw.github.com/sinker/tacofancy/master...</td>\n",
              "      <td>NaN</td>\n",
              "    </tr>\n",
              "    <tr>\n",
              "      <th>3</th>\n",
              "      <td>{'url': 'https://raw.github.com/sinker/tacofan...</td>\n",
              "      <td>{'url': 'https://raw.github.com/sinker/tacofan...</td>\n",
              "      <td>chorizo_sweet_potato_and_apple_tacos_with_chip...</td>\n",
              "      <td>https://raw.github.com/sinker/tacofancy/master...</td>\n",
              "      <td>None</td>\n",
              "      <td>https://raw.github.com/sinker/tacofancy/master...</td>\n",
              "      <td>None</td>\n",
              "      <td>Chorizo, Sweet Potato and Apple Tacos with Chi...</td>\n",
              "      <td>https://raw.github.com/sinker/tacofancy/master...</td>\n",
              "      <td>Chorizo, Sweet Potato and Apple Tacos with Chi...</td>\n",
              "      <td>https://raw.github.com/sinker/tacofancy/master...</td>\n",
              "      <td>{'url': 'https://raw.github.com/sinker/tacofan...</td>\n",
              "    </tr>\n",
              "    <tr>\n",
              "      <th>4</th>\n",
              "      <td>{'url': 'https://raw.github.com/sinker/tacofan...</td>\n",
              "      <td>NaN</td>\n",
              "      <td>swiss_chard_tacos</td>\n",
              "      <td>None</td>\n",
              "      <td>None</td>\n",
              "      <td>https://raw.github.com/sinker/tacofancy/master...</td>\n",
              "      <td>None</td>\n",
              "      <td># Swiss Chard Tacos\\n\\nGot chard or another le...</td>\n",
              "      <td>https://raw.github.com/sinker/tacofancy/master...</td>\n",
              "      <td>Swiss Chard Tacos</td>\n",
              "      <td>None</td>\n",
              "      <td>NaN</td>\n",
              "    </tr>\n",
              "  </tbody>\n",
              "</table>\n",
              "</div>"
            ],
            "text/plain": [
              "                                          base_layer  ...                                              mixin\n",
              "0  {'url': 'https://raw.github.com/sinker/tacofan...  ...                                                NaN\n",
              "1  {'url': 'https://raw.github.com/sinker/tacofan...  ...  {'url': 'https://raw.github.com/sinker/tacofan...\n",
              "2  {'url': 'https://raw.github.com/sinker/tacofan...  ...                                                NaN\n",
              "3  {'url': 'https://raw.github.com/sinker/tacofan...  ...  {'url': 'https://raw.github.com/sinker/tacofan...\n",
              "4  {'url': 'https://raw.github.com/sinker/tacofan...  ...                                                NaN\n",
              "\n",
              "[5 rows x 12 columns]"
            ]
          },
          "metadata": {
            "tags": []
          },
          "execution_count": 30
        }
      ]
    },
    {
      "cell_type": "code",
      "metadata": {
        "id": "CjshjDkFmTQL"
      },
      "source": [
        "response=requests.get(taco_url+'/base_layers/')"
      ],
      "execution_count": null,
      "outputs": []
    },
    {
      "cell_type": "code",
      "metadata": {
        "id": "8bp5VN-JnqZH"
      },
      "source": [
        "base_layers_df = pd.DataFrame(response.json())"
      ],
      "execution_count": null,
      "outputs": []
    },
    {
      "cell_type": "code",
      "metadata": {
        "colab": {
          "base_uri": "https://localhost:8080/",
          "height": 366
        },
        "id": "tWik0LcSnrzA",
        "outputId": "62ef73b8-35fa-48bb-c4b0-d5897bf77a94"
      },
      "source": [
        "base_layers_df.head()"
      ],
      "execution_count": null,
      "outputs": [
        {
          "output_type": "execute_result",
          "data": {
            "text/html": [
              "<div>\n",
              "<style scoped>\n",
              "    .dataframe tbody tr th:only-of-type {\n",
              "        vertical-align: middle;\n",
              "    }\n",
              "\n",
              "    .dataframe tbody tr th {\n",
              "        vertical-align: top;\n",
              "    }\n",
              "\n",
              "    .dataframe thead th {\n",
              "        text-align: right;\n",
              "    }\n",
              "</style>\n",
              "<table border=\"1\" class=\"dataframe\">\n",
              "  <thead>\n",
              "    <tr style=\"text-align: right;\">\n",
              "      <th></th>\n",
              "      <th>url</th>\n",
              "      <th>recipe</th>\n",
              "      <th>name</th>\n",
              "      <th>slug</th>\n",
              "    </tr>\n",
              "  </thead>\n",
              "  <tbody>\n",
              "    <tr>\n",
              "      <th>0</th>\n",
              "      <td>https://raw.github.com/sinker/tacofancy/master...</td>\n",
              "      <td>Soyrizo\\n=======\\n\\n* Soyrizo (The El Burrito ...</td>\n",
              "      <td>Soyrizo</td>\n",
              "      <td>soyrizo</td>\n",
              "    </tr>\n",
              "    <tr>\n",
              "      <th>1</th>\n",
              "      <td>https://raw.github.com/sinker/tacofancy/master...</td>\n",
              "      <td>Roasted Butternut Squash\\n====================...</td>\n",
              "      <td>Roasted Butternut Squash</td>\n",
              "      <td>roasted_butternut_squash</td>\n",
              "    </tr>\n",
              "    <tr>\n",
              "      <th>2</th>\n",
              "      <td>https://raw.github.com/sinker/tacofancy/master...</td>\n",
              "      <td>Baja Beer Battered Fish\\n=====================...</td>\n",
              "      <td>Baja Beer Battered Fish</td>\n",
              "      <td>baja_beer_battered_fish</td>\n",
              "    </tr>\n",
              "    <tr>\n",
              "      <th>3</th>\n",
              "      <td>https://raw.github.com/sinker/tacofancy/master...</td>\n",
              "      <td>Carnitas\\n========\\n\\nThis recipe calls for bo...</td>\n",
              "      <td>Carnitas</td>\n",
              "      <td>carnitas</td>\n",
              "    </tr>\n",
              "    <tr>\n",
              "      <th>4</th>\n",
              "      <td>https://raw.github.com/sinker/tacofancy/master...</td>\n",
              "      <td>Chopped Steak\\n=============\\n\\nI like all kin...</td>\n",
              "      <td>Chopped Steak</td>\n",
              "      <td>chopped_steak</td>\n",
              "    </tr>\n",
              "  </tbody>\n",
              "</table>\n",
              "</div>"
            ],
            "text/plain": [
              "                                                 url  ...                      slug\n",
              "0  https://raw.github.com/sinker/tacofancy/master...  ...                   soyrizo\n",
              "1  https://raw.github.com/sinker/tacofancy/master...  ...  roasted_butternut_squash\n",
              "2  https://raw.github.com/sinker/tacofancy/master...  ...   baja_beer_battered_fish\n",
              "3  https://raw.github.com/sinker/tacofancy/master...  ...                  carnitas\n",
              "4  https://raw.github.com/sinker/tacofancy/master...  ...             chopped_steak\n",
              "\n",
              "[5 rows x 4 columns]"
            ]
          },
          "metadata": {
            "tags": []
          },
          "execution_count": 33
        }
      ]
    },
    {
      "cell_type": "code",
      "metadata": {
        "colab": {
          "base_uri": "https://localhost:8080/"
        },
        "id": "6iOgKc-ZocR7",
        "outputId": "ba699154-f9db-4b00-fa62-469c4baa33a9"
      },
      "source": [
        "response=requests.get(taco_url+'/base_layers/chorizo')\n",
        "response.json()\n"
      ],
      "execution_count": null,
      "outputs": [
        {
          "output_type": "execute_result",
          "data": {
            "text/plain": [
              "{'name': 'Chorizo',\n",
              " 'recipe': \"Chorizo\\n=======\\n\\n_Adapted from [Aredridel's Lightly Seasoned Beef](aredridel_lightly_seasoned_beef.md)_\\n\\n* 20 oz chorizo\\n* 20 g black cumin seed, ground\\n* 2 cloves garlic\\n* 15 ml white wine\\n* 4 g salt if wine is unsalted\\n* 1/2 small white onion, diced\\n* Oil to coat the pan\\n\\n__Directions__\\n\\n1. Heat oil in the pan.\\n2. Add in onions, stirring occasionally until onions become translucent.\\n3. Toss in the garlic, and the chorizo on top of that.\\n4. Add the cumin. Brown the chorizo.\\n5. Use the splash of wine to loosen anything stuck to the pan.\\n\\nPerfect, lightly seasoned taco meat.\\n\",\n",
              " 'slug': 'chorizo',\n",
              " 'url': 'https://raw.github.com/sinker/tacofancy/master/base_layers/chorizo.md'}"
            ]
          },
          "metadata": {
            "tags": []
          },
          "execution_count": 34
        }
      ]
    },
    {
      "cell_type": "markdown",
      "metadata": {
        "id": "uRdYrQuC9mJq"
      },
      "source": [
        "#SOAP"
      ]
    },
    {
      "cell_type": "markdown",
      "metadata": {
        "id": "65iQavw2KDna"
      },
      "source": [
        "## What about SOAP APIs? \n",
        "\n",
        "Here we will work with a SOAP API dedicated to validating ISBNs.\n",
        "\n",
        "ISBN - International Standard Book Number\n",
        "\n",
        "ISBNs are 10 or 13 Digits long. Here we will work through an example of making a SOAP request for a 10 digit ISBN.\n",
        "\n",
        "---\n",
        "\n",
        "\n",
        "We can check out the service at: http://webservices.daehosting.com/services/isbnservice.wso\n",
        "\n"
      ]
    },
    {
      "cell_type": "code",
      "metadata": {
        "id": "K5DCG4tfKj8_"
      },
      "source": [
        "# URL of SOAP Endpoint\n",
        "soap_url='http://webservices.daehosting.com/services/isbnservice.wso'\n",
        "\n",
        "# Header to indicate content type\n",
        "headers={'content-type':'text/xml'}\n",
        "\n",
        "# The bulk of the request which must match the SOAP specification of the server\n",
        "body10=\"\"\"<?xml version=\"1.0\" encoding=\"utf-8\"?>\n",
        "<soap:Envelope xmlns:soap=\"http://schemas.xmlsoap.org/soap/envelope/\">\n",
        " <soap:Body>\n",
        "  <IsValidISBN10 xmlns=\"http://webservices.daehosting.com/ISBN\">\n",
        "   <sISBN>0-19-852663-6</sISBN>\n",
        "  </IsValidISBN10>\n",
        " </soap:Body>\n",
        "</soap:Envelope>\"\"\""
      ],
      "execution_count": null,
      "outputs": []
    },
    {
      "cell_type": "code",
      "metadata": {
        "id": "nYFzkBe4KpiM"
      },
      "source": [
        "response = requests.post(soap_url,data=body10,headers=headers)"
      ],
      "execution_count": null,
      "outputs": []
    },
    {
      "cell_type": "code",
      "metadata": {
        "colab": {
          "base_uri": "https://localhost:8080/"
        },
        "id": "vTJw-QonKsno",
        "outputId": "f12b004b-0a35-4337-e29a-a3a3138b552c"
      },
      "source": [
        "from xml.dom import minidom\n",
        "\n",
        "xml = minidom.parseString(response.text)\n",
        "print(xml.toprettyxml())"
      ],
      "execution_count": null,
      "outputs": [
        {
          "output_type": "stream",
          "text": [
            "<?xml version=\"1.0\" ?>\n",
            "<soap:Envelope xmlns:soap=\"http://schemas.xmlsoap.org/soap/envelope/\">\n",
            "\t\n",
            "  \n",
            "\t<soap:Body>\n",
            "\t\t\n",
            "    \n",
            "\t\t<m:IsValidISBN10Response xmlns:m=\"http://webservices.daehosting.com/ISBN\">\n",
            "\t\t\t\n",
            "      \n",
            "\t\t\t<m:IsValidISBN10Result>true</m:IsValidISBN10Result>\n",
            "\t\t\t\n",
            "    \n",
            "\t\t</m:IsValidISBN10Response>\n",
            "\t\t\n",
            "  \n",
            "\t</soap:Body>\n",
            "\t\n",
            "\n",
            "</soap:Envelope>\n",
            "\n"
          ],
          "name": "stdout"
        }
      ]
    },
    {
      "cell_type": "markdown",
      "metadata": {
        "id": "5uYJbPcA96Aw"
      },
      "source": [
        "## Challenge: \n",
        "\n",
        "Create a new request given an ISBN of your choosing"
      ]
    },
    {
      "cell_type": "code",
      "metadata": {
        "id": "yNfV3Dvu-Dds"
      },
      "source": [
        "# Your code here\n"
      ],
      "execution_count": null,
      "outputs": []
    },
    {
      "cell_type": "markdown",
      "metadata": {
        "id": "3iEFsM0v-H7r"
      },
      "source": [
        "## Challenge:\n",
        "\n",
        "Try validating a 13 digit ISBN\n",
        "\n",
        "## Extra Challenge:\n",
        "\n",
        "Turn those steps into a custom function"
      ]
    },
    {
      "cell_type": "code",
      "metadata": {
        "id": "2v57ItvV-Fvo"
      },
      "source": [
        "# 13 digit ISBN validation code\n"
      ],
      "execution_count": null,
      "outputs": []
    },
    {
      "cell_type": "code",
      "metadata": {
        "id": "fqpQChWp-bhq"
      },
      "source": [
        "# Create a function that can work with either\n"
      ],
      "execution_count": null,
      "outputs": []
    },
    {
      "cell_type": "code",
      "metadata": {
        "id": "b_m9FLoqN1aT"
      },
      "source": [
        "# Can you integrate the above with this new function?\n",
        "\n",
        "def parse_isbn_xml(xml, length=10):\n",
        "  \"\"\"\n",
        "  Return Boolean result of an XML response from ISBN validator \n",
        "  \"\"\"\n",
        "  tag_name=f'm:IsValidISBN{length}Result'\n",
        "  element = xml.getElementsByTagName(tag_name)[0]\n",
        "  node = element.lastChild\n",
        "  if node.nodeValue == 'true':\n",
        "    return True\n",
        "  else:\n",
        "    return False"
      ],
      "execution_count": null,
      "outputs": []
    },
    {
      "cell_type": "code",
      "metadata": {
        "colab": {
          "base_uri": "https://localhost:8080/"
        },
        "id": "403GTFRFK2UK",
        "outputId": "f952db07-ca25-4e63-88a5-614c3520ee33"
      },
      "source": [
        "parse_isbn_xml(xml)"
      ],
      "execution_count": null,
      "outputs": [
        {
          "output_type": "execute_result",
          "data": {
            "text/plain": [
              "True"
            ]
          },
          "metadata": {
            "tags": []
          },
          "execution_count": 42
        }
      ]
    },
    {
      "cell_type": "markdown",
      "metadata": {
        "id": "csrn1BlX9sBY"
      },
      "source": [
        "#GraphQL"
      ]
    },
    {
      "cell_type": "markdown",
      "metadata": {
        "id": "9iyyn_HVunlX"
      },
      "source": [
        "#### Now onto GraphQL!!!\n",
        "\n",
        "GraphQL is one of the closest API structures to direct access to a database SQL-like experience.\n",
        "\n",
        "Check out the API explorer at https://api.graphql.jobs/"
      ]
    },
    {
      "cell_type": "code",
      "metadata": {
        "id": "Soi4xjkdorEh"
      },
      "source": [
        "query=\"\"\"{\n",
        "  jobs{\n",
        "    id\n",
        "    title\n",
        "    cities{\n",
        "      name\n",
        "    }\n",
        "    company{\n",
        "      name\n",
        "    }\n",
        "    description\n",
        "  }\n",
        "}\"\"\""
      ],
      "execution_count": null,
      "outputs": []
    },
    {
      "cell_type": "code",
      "metadata": {
        "id": "53LSRbvHvCBl"
      },
      "source": [
        "graphql_url=\"https://api.graphql.jobs/\""
      ],
      "execution_count": null,
      "outputs": []
    },
    {
      "cell_type": "code",
      "metadata": {
        "id": "JFdvSthzvGWx"
      },
      "source": [
        "response=requests.post(graphql_url,json={'query':query})"
      ],
      "execution_count": null,
      "outputs": []
    },
    {
      "cell_type": "code",
      "metadata": {
        "colab": {
          "base_uri": "https://localhost:8080/"
        },
        "id": "L162HyEBwxhT",
        "outputId": "68ad77ab-a024-4f72-ecb7-770f3fe7355a"
      },
      "source": [
        "response.json()"
      ],
      "execution_count": null,
      "outputs": [
        {
          "output_type": "execute_result",
          "data": {
            "text/plain": [
              "{'data': {'jobs': [{'cities': [{'name': 'San Francisco'}],\n",
              "    'company': {'name': 'Segment'},\n",
              "    'description': \"# **Overview\\xa0**\\n\\nAt Segment, we believe companies should be able to send their customer data wherever they want, whenever they want, with no fuss.\\xa0We make this easy with a single pipeline that collects, stores, filters, transforms, and sends data to hundreds of business tools with the flip of a switch.\\xa0Historically, we’ve built integrations with more than 250 different customer data tools ourselves(think Mixpanel, Google Analytics, Stripe).This March, we opened up our [++**Developer Center**++](https://segment.com/partners/developer-center/). For the first time, new companies could build integrations upon Segment data, using our self-service workflow. In that time, we’ve onboarded **60 separate companies**, each of whom built endpoints to work with our spec.\\xa0We're now looking for a Senior Fullstack Engineer to help us expand our platform…we want to offer every kind of developer (partners, customers, and indie devs) the means to use Segment data.\\xa0\\n\\n## **Project we are working on:**\\n\\nWe want to give our users and partners:\\n\\n- the ability to submit custom logic which we run as part of a high-throughput pipeline (think high throughput Lambda at 1/1000th the cost)\\n- the ability to query Segment data on the fly, from a big multi-tenant database (online data of our user’s users)\\n- new superpowers to combine, modify, and transform data coming through the pipeline (createa visual chain of transformations and steps)\\n\\nWe want to do all of this across a pipeline which processes hundreds of thousands of events per second for some of the worlds largest brands, like Github, Nike, and Intuit.\\n\\n## **What We Do:**\\n\\n- We implement [++high-performance data pipelines with Go, Kafka, and Docker++](https://segment.com/blog/allocation-efficiency-in-high-performance-go-services/)\\n- We’re focused on building incredible developer experiences, with tools like our debugger, [++event delivery view++](https://segment.com/blog/new-data-visibility-features/), and asynchronous client libraries.\\n- We want to give our users ‘data superpowers’\\n- We handle [++billions of messages per day++](https://segment.com/blog/introducing-centrifuge/), putting a [++premium on correctness++](https://segment.com/blog/exactly-once-delivery/)\\n\\n## **Who** **We're** **Looking** **For:**\\n\\n- You come from a background of delivering projects from start to finish\\n- You love the challenge of building a platform, where users will surprise and delight you with what they build\\n- You feel relatively comfortable up and down the stack (both frontend and backend)\\n\\n## **Tools we use:**\\n\\n- AWS (EC2, ECS, RDS, S3, and more!)\\n- Docker\\n- GraphQL\\n- Typescript\\n- React\\n\\n## **Requirements:**\\n\\n- Strong track record of delivering product and internal systems\\n- Great computing fundamentals\\n- Experience at many levels of the stack (building out some frontend and some backend code)\\n\\nSegment is an equal opportunity employer. We believe that everyone should receive equal consideration and treatment in all terms and conditions of employment regardless of sex, gender (including pregnancy, childbirth, breastfeeding or related medical conditions), sexual orientation, gender identity, gender expression, race, color, religion, creed, national origin, ancestry, age (over 40), physical disability, mental disability, medical condition, genetic information, marital status, domestic partner status, military or veteran status, height, weight, AIDS/HIV status, and any other protected category under federal, state or local law. Pursuant to the San Francisco Fair Chance Ordinance, we will consider for employment qualified applicants with arrest and conviction records.\\n\",\n",
              "    'id': 'cjz1ipl9x009a0758hg68h7vy',\n",
              "    'title': 'Senior Fullstack Engineer - Platform'},\n",
              "   {'cities': [{'name': 'Berlin'}],\n",
              "    'company': {'name': 'Unrealists'},\n",
              "    'description': 'We are looking for a strong (Midlevel to Senior) Javascript Developer with to join our team. You will be working on extending and maintaining frontend code and serverless backend.\\n\\nFull-time or part-time. In Berlin or remote.\\n\\n\\u200b\\n\\n**Job Description**\\n\\n- Proven knowledge in JavaScript related to design, analysis, development and maintenance\\n- Understanding the nature of asynchronous programming and its quirks and workarounds\\n- Fundamental knowledge about design principles behind a scalable application\\n- Good understanding of security and data protection concepts\\n- Well rounded knowledge of application architecture\\n- Ability to form and communicate architecture decisions\\n- Focus on code quality and deliver projects with high business impact\\n\\n**Qualifications**\\n\\n- Good verbal and written English communication skills (German is a plus but no must)\\n- Experience in serverless architecture (firebase, serverless, aws lambda, ...)\\n- Experience in Redux or similar state management framework\\n- Degree in Computer Science or related field with 3+ years of experience on frontend development in a startup or similar work environment\\n- Experience with modern JavaScript frameworks like React, AngularJS, Vue etc\\n- The ability to rapidly learn and explain technical concepts\\n- A passion for making beautiful, smooth, delightful web experiences\\n- Ability to use Git and experience with Jira project management software or similar\\n- An eagerness to learn and teach new disciplines, methodologies, stay up to date with the community and develop best practices\\n\\n**Good to have**\\n\\n- Experience with web security/pen testing\\n- Working knowledge of cloud platforms like AWS, Azure, Digital Ocean\\n- Working experience with Agile Methodology and well versed with tools like Jira\\n- Experience with API integrations like (JWT, Social Media Services)\\n',\n",
              "    'id': 'cjwt2a8j700by0793lnvon5c9',\n",
              "    'title': 'Full Stack JavaScript Developer'},\n",
              "   {'cities': [{'name': 'London'}],\n",
              "    'company': {'name': 'DeepCrawl'},\n",
              "    'description': \"**Overview of DeepCrawl**\\n\\nDeepCrawl is the world’s most comprehensive website crawler, providing actionable data for flawless website architecture. By identifying and monitoring key issues that could affect SEO performance, we empower our clients to optimize their websites for users and search engines alike. This enables our clients to drive further traffic and revenue from their organic channel.\\n\\nWinner of Best SEO Software at the European Search Awards, we're proud to be trusted by some of the world's top SEOs in over 50 countries.\\n\\nOur ultimate vision is to become the tool of choice for marketers across the world - letting them crawl and analyse all of their websites to identify key insights. To help us support that vision we’re looking for bright, ambitious, and passionate talent to join us across our London, New York City, and Krakow offices.\\n\\nWe are looking for the best people around the world, so foreign nationals are welcome to apply, we can sponsor your visa if you are interested in relocating.\\n\\n**The role**\\n\\nAt DeepCrawl we are solving big data problems. We crawl absolutely huge websites, producing many terabytes of data and even more after we process it. We then apply queries at scale in order to provide world class insights to our customers who need to manage their SEO.\\n\\nIn this role you will be part of the team responsible for re-imagining existing DeepCrawl API using TypeScript and GraphQL. You will be creating testable, efficient, clean and maintainable code following DDD + BDD practices.\\n\\n**Our stack**\\n\\nTypeScript, Elasticsearch, PostgreSQL, Redis, Amazon ECS, MySQL, Docker, Terraform, Node.Js, Apollo server + GraphQL (type-graphql), TypeORM, Cucumber, Jest, TSLint, Love\\n\\n**What you’ll get to do**\\n\\n- Contribute directly to the development of our new GraphQL API\\n- Develop new features and move existing API feature to the new API\\n- Creation of possible new microservices as needed for new tools the company creates\\n- Come up with creative solutions to scale microservices for different cloud applications\\n- Develop software following DDD + BDD practices and working in Agile Kanban environment.\\n- Code review\\n- Requirements\\n\\n**What you’ll bring**\\n\\n- Solid software engineering experience\\n- Extensive background developing large node.js applications in TypeScript\\n- Adherence to always writing your test first and code against that failing test\\n- A love for clean code concepts by Bob C Martin\\n- Experience with .feature files and ability to write step definitions against them\\n- Familiarity with example and rule mapping in a 3 amigo session\\n- Passion for learning and desire to help us learn as well\\n- Belief in the craft of software engineering, but are pragmatic when necessary\\n- Respect whilst challenging your peers and welcome their reciprocated challenge\\n\\n**We’d especially love it if you have**\\n\\n- Developed and used GraphQL APIs.\\n- Exposure to software architectures like Hexagonal, Onion, DDD\\n- A keen understanding of software design patterns and where each can be applied\\n- Worked with ElasticSearch.\\n- Lead and mentored junior developers\\n- Flirted with other typed languages such as C#, Java, Scala etc\\n\\n### **Benefits**\\n\\n**Why work with DeepCrawl?**\\n\\n- We're an innovative and fast growing tech start-up\\n- Raised our series A investment from a prominent venture capitalist\\n- An international business, with clients all over the world and offices across London, New York City and Krakow\\n- Flexible working from home & remote working policy\\n- Potential to travel to other offices\\n- Annual personal education budget\\n- Company trips\\n- Monthly office drinks & lunches\\n- Comprehensive private healthcare cover\\n- Company option shares participation\\n- Newest hardware\\n\\nIf you’re looking for an exciting opportunity to work with a fast-growing and innovative tech company, then please get in touch!\\n\",\n",
              "    'id': 'cjw1yogu0007j079339al4zyu',\n",
              "    'title': 'Senior Software Engineer, API Development'},\n",
              "   {'cities': [],\n",
              "    'company': {'name': 'Theorem'},\n",
              "    'description': \"Do you enjoy collaborating in a consultative environment and guiding people using best practices to achieve great results? Do you want to influence and contribute to the growth of a high performing, quality focused team? If so, Theorem wants to know more about you!\\n\\n[Theorem](http://theorem.co/) is a software consultancy that believes in simplicity in software design. We deliver solutions for startups and enterprises - You can see our [portfolio](https://theorem.co/portfolio) to learn more about the results we’ve delivered for our clients.\\n\\nThis is a remote role. We are a remote first company with offices in Los Angeles and New York. We have team members all around the world.\\n\\nPlease note this role may require occasional travel to client sites within the USA. Candidates located within UTC - 3 to UTC - 8 will be given priority for team time zone alignment.\\n\\nAt Theorem you can make a significant impact while enjoying a flexible work schedule.\\n\\n**As Experienced Go Engineer \\xa0at Theorem You Will:**\\n\\n- Architect components and build distributed systems, APIs, and web applications\\n- Write lots of high performing Go (golang)\\n- Tackle complex problems in distributed computing, fault-tolerant storage, distributed queuing\\n- Build high quality, well-designed, and scalable SaaS platform\\n- Work with Docker, Kubernetes, and NoSQL databases\\n- Work with product designers and clients to clarify requirements, prototype functionality and build features and products\\n- Participate in code and design reviews, teaching and learning from other engineers\\n- Plan, estimate and prioritize work in a collaborative and distributed team\\n\\n**Requirements:**\\n\\n- 5+ years of relevant professional experience\\n- 1+ years working with Go\\xa0and 3+ with at least one other programming language\\n- Previous experience collaborating on highly distributed teams\\n- Possess a passion for software development\\n- Possess a drive to get things done\\n- Experience working within an Agile/Scrum environment\\n- Open-minded and demonstrates a passion for continuously learning\\n- Possess a strong and reliable Internet connection\\n- Align a portion of your day with the business hours of Pacific Time Zone - UTC - 8\\n\\n**Skills that would be nice to have:**\\n\\n- Previous consulting experience\\n- Experience building service-oriented architectures\\n- Experience building non-REST APIs such as GraphQL\\n- Experience with JavaScript (ES6) and modern web development tools such as Webpack, React, and GraphQL\\n\\n**About Theorem**\\n\\nTheorem is a team of experts steeped in the theory and practice of mathematics and computer science. This is the core of our iterative, hypothesis-driven process. We are craftspeople who build amazing products for some of the largest global household names. We believe in cultivating a high degree of leadership and technical excellence in all of our team members. Together we build applications that solve our customers' business-critical problems.\\n\\nWhile we have offices in LA and New York, we work remotely with team members around the world\\n\\n- 100% REMOTE - Work from your remote location if you are not called to travel to client site\\n- TEAM RETREATS - We get together at an inspiring location to meet, work and play\\n- HEALTHY BODY, HEALTHY MIND - HAPPY TEAM - We offer vacation and support healthy lifestyles through our physical fitness and continuing education benefits program.\\n\\n_Theorem expects team members to be honest, kind, trustworthy, and operate with integrity. Discrimination and all unlawful harassment (including sexual harassment) in employment is not tolerated. We encourage success based on our individual merits and abilities, and all decisions regarding recruitment, hiring, promotion, compensation, skills development decisions such as training, and all other terms and conditions of our relationship, will be made without regard to race, nationality, national origin, citizenship status, employment engagement status, ethnicity, ethnic origin, color, creed, religion, belief, age, marital status, pregnancy, gender, gender identity, sexual preference, lifestyle, social class, military status, disability, physical features, or any other protected status. We oppose all forms of unlawful or unfair discrimination._\\n\\n_Theorem is an equal opportunity employer._\\n\\n_No statements by Theorem are intended to create an offer of employment unless made in writing signed by an officer of the company and no offer shall become effective unless countersigned by the prospective employee._\\n\",\n",
              "    'id': 'cjwqsa7wj007d0778obv0dfs9',\n",
              "    'title': 'Experienced Backend Engineer - Go'},\n",
              "   {'cities': [],\n",
              "    'company': {'name': 'Close'},\n",
              "    'description': \"**About Us**\\n\\nAt [Close](https://close.com/), we're building the sales communication platform of the future. With our roots as the very first sales CRM to include built-in calling, we're leading the industry toward eliminating manual processes and helping companies to close more deals (faster). Since our founding in 2013, we've grown to become a profitable, 100% globally distributed team of ~33 high-performing, happy people that are dedicated to building a product our customers love.\\n\\n\\nOur app’s frontend is a single-page JavaScript web app mostly written in React (originally built with Backbone.js). We bundle with Webpack and target only modern browsers. We test with Enzyme and Mocha run via Puppeteer. Our UI updates in near real-time and is written in LESS/CSS (with flexbox and grid layout) using BEM methodology and takes advantage of fun technologies like Websockets and WebRTC.\\xa0\\n\\n\\nWe care about performance (e.g. route-based code splitting), maintainability, and testability of our frontend code. We sweat the UI/UX details and work collaboratively with the Product team throughout the design process. This means diving into lo-fi Freehand wireframes, and communicating continuously when those ideas are brought to life using Sketch/Abstract and code.\\n\\n\\nOur frontend app is built on top of our REST API & GraphQL endpoints. Our backend [tech stack](https://stackshare.io/close-crm/close) consists of Python/Flask, MongoDB, Postgres, Elasticsearch, and Redis. We run our services in Docker on AWS.\\nWe ❤ open source – using dozens of open source projects with contributions to many of them, and released some of our own like [Microphone Recorder to Mp3](https://github.com/closeio/mic-recorder-to-mp3), [filevalidator.js](https://github.com/closeio/filevalidator.js), [addresscompiler](https://github.com/closeio/addresscompiler), [backbone.mousetrap](https://github.com/closeio/backbone.mousetrap)and more at [https://github.com/closeio](https://github.com/closeio).\\n\\n\\n**About You**\\n\\nWe're looking for an experienced full-time Frontend Software Engineer to join our engineering team. Someone who has a solid understanding of web technologies and wants to help design, implement, and launch major user-facing features.\\n\\n\\nYou should have senior level experience (~5 years) building modern frontend applications in JavaScript, HTML, and CSS, with at least 3 years of that experience using a JS framework (React, Vue, Angular, Backbone etc). \\n\\n\\nYou should have significant experience designing, debugging, and optimizing frontend applications to make them fast and reliable. You have significant experience with REST APIs and thoroughly understand HTTP requests. You have experience participating in code reviews and providing overall code quality suggestions to help maintain the structure and quality of the codebase.\\nYou should have great product sense and be able to think through user experience issues before diving into the code, and you exhibit a love for great UI.\\n\\n\\nYou’re comfortable working in a fast-paced environment with a small and talented team where you're supported in your efforts to grow professionally. You are able to manage your time well, communicate effectively and collaborate in a fully distributed team.\\nYou are located in an American or European time zone.\\n\\n### **Bonus points if you...**\\n\\n- Experience implementing real-time (e.g. websockets, polling, etc.) web apps\\n- Experience working with GraphQL endpoints\\n- An eye for design and experience with Sketch, Abstract, Photoshop, or similar\\n- Led small project teams building and launching features\\n- Contributed open source code (core or plugins) for a popular frontend framework such as React, Vue, or Angular\\n- Built B2B SaaS products\\n- Experience with sales or sales tools\\n\\n### **Come help us with projects like...** \\n\\n- Conceiving, designing, building, and launching new user-facing features\\n- Working with Twilio's API, WebSockets, and WebRTC to improve our [calling features](https://close.com/calling/)\\n- Building user-facing analytics features that provide actionable insights based on sales activity data\\n- Improving real-time collaboration user experience\\n- Expanding our frontend GraphQL usage\\n- Extending our React component library\\n\\n### **Why work with us?** \\n\\n- 100% Remote (we believe in trust and autonomy)\\n- 2 x Annual Team Retreats ([Lisbon Retreat Video](https://www.youtube.com/watch?v=gKjyXMz-q-Q&feature=youtu.be))\\n- Competitive salary\\n- Medical, Dental with HSA option - 99% premiums paid (_US residents_)\\n- 5 Weeks PTO + 6 Government Holidays + Dec 24 - Jan 1 Company Holiday\\n- Parental Leave (10 wks primary caregiver / 4 wks secondary caregiver)\\n- 401k matching at 4% (_US residents_)\\n- Paid 1 month Sabbatical after 5 years \\n- [Our story and team](https://close.io/about/)\\n- [Glassdoor Reviews](https://www.glassdoor.co.uk/Reviews/Close-io-Reviews-E1155591.htm) \\n\\nAt Close, everyone has a voice. We encourage transparency and practicing a mature approach to the work-place. In general, we don’t have strict policies, we have guidelines. Work/Life harmony is an important part of our organization - we believe you bring your best to work when you practice self care (whatever that looks like for you).\\n\\n\\nWe come from 12 countries and 14 states; a collection of talented humans rich in diverse backgrounds, lifestyles and cultures. Twice a year we meet up somewhere around the world to spend time with one another. We see these retreats as an opportunity to strengthen the social fiber of our community.\\n\\n\\nThis team is growing in more ways than one - we’ve recently launched 8 babies (and counting!). Unanimously, our favorite and most impactful value is “Build a house you want to live in.” We strive to make decisions that are authentic for our organization. At Close, we have a high care factor for one another, in making an awesome product and championing the success of our customers. \\xa0\\n\",\n",
              "    'id': 'cjwnlolmk03hm0756mmvkw5d2',\n",
              "    'title': 'Senior Software Engineer - Frontend'},\n",
              "   {'cities': [],\n",
              "    'company': {'name': 'Close'},\n",
              "    'description': \"**About Us**\\n\\nAt [Close](https://close.com/), we're building the sales communication platform of the future. With our roots as the very first sales CRM to include built-in calling, we're leading the industry toward eliminating manual processes and helping companies to close more deals (faster). Since our founding in 2013, we've grown to become a profitable, 100% globally distributed team of ~33 high-performing, happy people that are dedicated to building a product our customers love.\\n\\nOur backend [tech stack](https://stackshare.io/close-crm/close) currently consists of Python Flask/Gunicorn web apps with our [TaskTiger](https://github.com/closeio/tasktiger) scheduler handling many of the backend asynchronous task processing. Our data stores include MongoDB, Postgres, Elasticsearch, and Redis. The underlying infrastructure runs on AWS using a combination of managed services like RDS and ElasticCache and non-managed services running on EC2 instances. All of our compute runs through CI/CD pipelines that build Docker images, run automated tests and deploy to our Kubernetes clusters. Our backend primarily serves a well-documented [public API](https://developer.close.io/) that our front-end JavaScript app consumes.\\n\\nWe ❤️open source – using dozens of open source projects with contributions to many of them, and released some of our own like [ciso8601](https://github.com/closeio/ciso8601)**,** [LimitLion](https://github.com/closeio/limitlion), [SocketShark](https://github.com/closeio/socketshark), [TaskTiger](https://github.com/closeio/tasktiger), and more at [https://github.com/closeio](https://github.com/closeio)\\n\\n\\n**About You** \\n\\nWe're looking for an experienced full-time Software Engineer to join our engineering team. Someone who has a solid understanding of web technologies and wants to help design, implement, launch, and scale major systems and user-facing features.\\n\\n\\nYou should have senior level experience (~5 years) building modern back-end systems, with at least 3 years of that experience using Python. \\n\\n\\nYou also have around five years experience using MongoDB, PostgreSQL, Elasticsearch, or similar data stores. You have significant experience designing, scaling, debugging, and optimizing systems to make them fast and reliable. You have experience participating in code reviews and providing overall code quality suggestions to help maintain the structure and quality of the codebase. \\n\\n\\nYou’re comfortable working in a fast-paced environment with a small and talented team where you're supported in your efforts to grow professionally. You are able to manage your time well, communicate effectively and collaborate in a fully distributed team. \\nYou are located in an American or European time zone. \\n\\n### **Bonus point if you have...**\\n\\n- Contributed open source code related to our tech stack\\n- Led small project teams building and launching features\\n- Built B2B SaaS products\\n- Experience with sales or sales tools\\n\\n### **Come help us with projects like...**\\n\\n- Conceiving, designing, building, and launching new user-facing features\\n- Improving the performance and scalability our [API](https://developer.close.com/). Help expand our GraphQL implementation.\\n- Improving how we [sync](https://close.com/emailing/) millions of sales emails each month\\n- Working with Twilio's API, WebSockets, and WebRTC to improve our [calling features](https://close.com/calling/)\\n- Building user-facing analytics features that provide actionable insights based on sales activity data\\n- Improving our Elasticsearch-backed powerful [search features](https://close.com/search/)\\n- Improving our internal messaging infrastructure using streaming technologies like Kafka and Redis\\xa0\\n- Building new and enhancing existing integrations with other SaaS platforms like Google’s G Suite, Zapier, and Web Conferencing providers\\n\\n### **Why work with us?**\\n\\n- 100% Remote (we believe in trust and autonomy)\\n- 2 x Annual Team Retreats ✈️ ([Lisbon Retreat Video](https://www.youtube.com/watch?v=gKjyXMz-q-Q&feature=youtu.be))\\n- Competitive salary\\n- Medical, Dental with HSA option - 99% premiums paid (_US residents_)\\n- 5 Weeks PTO + 6 Government Holidays + Dec 24 - Jan 1 Company Holiday\\n- Parental Leave (10 wks primary caregiver / 4 wks secondary caregiver) \\n- 401k matching at 4% (_US residents_)\\n- Paid 1 month Sabbatical after 5 years \\n- [Our story and team](https://close.io/about/) 🚀\\n- [Glassdoor Reviews](https://www.glassdoor.co.uk/Reviews/Close-io-Reviews-E1155591.htm) \\n\\nAt Close, everyone has a voice. We encourage transparency and practicing a mature approach to the work-place. In general, we don’t have strict policies, we have guidelines. Work/Life harmony is an important part of our organization - we believe you bring your best to work when you practice self care (whatever that looks like for you). \\n\\n\\nWe come from 12 countries and 14 states; a collection of talented humans rich in diverse backgrounds, lifestyles and cultures. Twice a year we meet up somewhere around the world to spend time with one another. We see these retreats as an opportunity to strengthen the social fiber of our community. \\n\\n\\nThis team is growing in more ways than one - we’ve recently launched 8 babies (and counting!). Unanimously, our favorite and most impactful value is “Build a house you want to live in.” We strive to make decisions that are authentic for our organization. At Close, we have a high care factor for one another, in making an awesome product and championing the success of our customers. \\xa0\\n\",\n",
              "    'id': 'cjwnlegxb03dv0756ysmiqd0y',\n",
              "    'title': 'Senior Software Engineer - Backend'},\n",
              "   {'cities': [],\n",
              "    'company': {'name': 'AddJust'},\n",
              "    'description': \"## **DESCRIPTION**\\n\\nWe are looking to add a full stack JavaScript developer to our engineering team.\\n\\nYou would be part of a small team that is responsible for building out our latest product, which is currently in the design phase.\\n\\nSome of the things we value:\\n\\n- Clean code - We believe the key to moving fast is to write simple, maintainable code, and that the time spent refactoring to a simpler solution pays for itself many times over.\\n- Autonomy - We are a small team with minimal process, so we look for people who can take ownership of features from inception through to production deployment.\\n- Code reviews - We believe code review is important for both maintaining the standard of our code and as a learning tool.\\n- Working at a sustainable pace\\n\\n## **REQUIREMENTS**\\n\\nThese are the technologies we use: \\n\\n- TypeScript - For all frontend and backend code.\\n- React - For our web applications (New components are written using Hooks).\\n- Apollo Client - To connect our frontend react components to our graphql backend.\\n- Postgraphile - To generate a secure graphql schema from our postgresql database.\\n- Postgresql - For our relational database\\n- Firestore - For our real time messaging\\n- Jest - For unit tests on the frontend and backend.\\n- Cypress.io - For integration testing.\\n- Flutter - Our mobile application is written in Flutter\\n- CircleCI - For our CI/CD server.\\n- AWS - Hosting.\\n\\nIdeally we are looking for a full stack developer that has experience with the technologies listed above.\\n\\nHowever, even if you don’t match the skill set exactly, if you have experience shipping web software for a number of years, but don't have experience in all the technologies listed, we're more than happy to teach you on the job.\\n\\n## **BENEFITS**\\n\\nThis is a remote position. We are looking for a 40 hour per week commitment, but if you would prefer to do a 32 or 24 hour week that could be an option for the right candidate. There would need to be at least 4 hours overlap with a 9:00am - 5:00pm window in GMT.\\n\\nIt would also be an advantage if you can meet up somewhere close to Clare (Limerick, Galway etc) on a semi-regular basis (twice a month).\\n\\nNo agencies please.\\n\",\n",
              "    'id': 'cjwnkzzh003bh0756hc34rui5',\n",
              "    'title': 'Full Stack Javascript Developer'},\n",
              "   {'cities': [{'name': 'Oakland'}],\n",
              "    'company': {'name': 'Stockwell'},\n",
              "    'description': \"At Stockwell, we are using machine learning and computer vision to build the retail platform of the future. In our world, brick and mortar stores look much different - we place stores right where our customers live, work and play so we can curate the products in our stores with the help of our customers. This is all possible because we design, build and operate automated stores that put the customer first with a seamless, frictionless checkout experience. \\n\\n\\n\\n### **You'll make an impact on one or more of these areas:**\\n\\n- **Design end-to-end pipelines for new vision models**: We have a unique asset in that our fleet of stores generates hundreds of transactions a day, each of which is a similarly structured problem with rich collected context. You will build pipelines that operate on a per transaction basis that help determine the state of inventory in each of our stores after transaction and restocking events. This involves 1) adapting and inventing novel model architecture, 2) designing training data for\\xa0those model\\xa03) working with our internal ops teams or vendors to generate training data, and 4) deploying inference services against our incoming transaction queue.\\n- **Retrain metrics and item introduction pipeline**: Although\\xa0all of\\xa0our stores share a similar form factor, they operate in different contexts, with different lighting, and with different items. Help us learn and establish pipeline best practices around training data requirements on a per store and per item basis.\\n- **Journal Club**: You will help drive our internal journal club, where we review the latest and greatest papers, demos, and novel methods in your field of expertise.\\n\\n### **Qualifications:**\\n\\n- Masters or PhD in machine learning or a machine learning related field\\n- 1+ years of experience building nets in\\xa0Tensorflow, Caffe, Torch,\\xa0Keras, Theano (we use\\xa0Tensorflow)\\n- Experience with GPU computing including\\xa0multigpu\\xa0training and CUDA management.\\n- Strong written and verbal communication skills\\n- Incredibly fast learner, hungry for growth and/or ready to lead.\\n\\n### **Preferred/Bonus Qualifications:**\\n\\n- 1+ years of full-stack software development experience.\\n- 3+\\xa0years experience\\xa0with one or more general purpose programming languages including but not limited to: Java, C/C++, C#, Objective C, Python, JavaScript, or Go\\n- Experience with classical computer vision and machine learning techniques.\\n- Experience with the Google Cloud Platform\\n- An interest in Advertising/Retail/CPG\\n\",\n",
              "    'id': 'cjvnpsy2900ed0704atnvb6r9',\n",
              "    'title': 'Deep Learning Engineer'},\n",
              "   {'cities': [{'name': 'Oakland'}],\n",
              "    'company': {'name': 'Stockwell'},\n",
              "    'description': \"At Stockwell, we are using machine learning and computer vision to build the retail platform of the future. In our world, brick and mortar stores look much different - we place stores right where our customers live, work and play so we can curate the products in our stores with the help of our customers. This is all possible because we design, build and operate automated stores that put the customer first with a seamless, frictionless checkout experience. \\nWe’re looking for a full-stack engineer to round out our skillsets and help lead our growing engineering team. Our ideal candidate is someone with meaningful SWE experience who wants to expand their responsibilities and own projects across our tech stack, and who can design and build end-to-end solutions from scratch.\\n\\n\\n### **You'll make an impact on 1 or more of these areas:**\\n\\n- **React Native App**: Today our customers use our app to gain access to our stores, to view receipts, and to change payment information. This just scratches the surface of what our app experience needs to be. Own and help define the product and development roadmap for managing a slew of new features.\\n- **Internal Logistics Tools**: Our goal is to democratize physical distribution, so that mom and pop store owners, boutique brands, and large retailers can reach customers in ways they’ve never been able to before. Own and help define the product and development roadmap to manage and optimize our complex supply chain.\\n- **Retail Experimentation**: To bring the relevant slice of retail to customers, we need to know what products they want. Help build and define a retail experimentation framework that brings the efficacy and data-orientation of e-commerce to the real world, while tying into the financial realities of running a physical retail business.\\n\\n### **Qualifications:**\\n\\n- 3+ years of full-stack software development experience. Experience with React/Redux or similar JS frameworks.\\n- 2+ years of database experience with\\xa0mySQL,\\xa0sql-lite or Postgres\\n- A knack for architecture: You strive to design and implement elegant and scalable software systems.\\n- BS or MS degree in Computer Science (or a related field)\\n- Strong written and verbal communication skills, as you will need to interface with functional leads in our operations, retail, and sales organizations.\\n- Incredibly fast learner, hungry for growth and/or ready to lead.\\n\\n### **Preferred/Bonus Qualifications:**\\n\\n- 5+ years of experience with one or more general purpose programming languages. including but not limited to: Java, C/C++, C#, Objective C, Python, JavaScript, or Go.\\n- Experience with Django and the Django REST Framework.\\n- Experience with GraphQL.\\n- Experience with the Google Cloud Platform.\\n- An interest in Advertising/Retail/CPG.\\n- An interest in AI and Machine Learning.\\n\",\n",
              "    'id': 'cjvnpnno700c90704rfmmyce4',\n",
              "    'title': 'Full Stack Engineer'},\n",
              "   {'cities': [{'name': 'Boulder'}, {'name': 'Providence'}],\n",
              "    'company': {'name': 'MojoTech'},\n",
              "    'description': 'Whether Back-End, Front-End, Full-Stack, Dev-Ops, or Mobile, a big part of what makes being a member of the engineering team at MojoTech so rewarding is the challenge. The job starts hard, and only gets harder. If you believe in constant improvement, and want to join a team that helps one another achieve that goal, please continue reading.\\n\\nAs a React Developer at MojoTech you will utilize your experience with React, Redux, and the larger React ecosystem and best practices to deliver high-quality, reliable, and maintainable code on multiple projects per year. You will work closely with product managers, designers, and clients, to ensure the focus is on quickly delivering valuable working software in a pragmatic and agile manner.\\n\\n## Skills & Requirements\\n\\nThe people we’re looking for should be able to check off all of this:\\n\\n- 3+ years experience building front end or mobile applications, most recently with React.js\\n- Familiarity with Redux, Jest, and many of the other tools and libraries used to build front end applications.\\n- BA/BS in Computer Science or a related field, or equivalent experience\\n- Understanding of version control (Git) and code documentation\\n- A strong desire to improve yourself and improve those around you\\n\\nAnd they should also be able to check off some of this:\\n\\n- Expertise with Javascript or Typescript and its nuances\\n- Understanding of browsers, the DOM, and how to build rich user interfaces\\n- Familiarity integrating with REST and GraphQL APIs.\\n- Awareness of how to build GraphQL APIs\\n- Proficiency with React Native mobile development; Android or iOS\\n- Exposure to leadership or mentorship roles, particularly on a development team\\n- Experience working in an agency, as a software consultant, or tailoring solutions to match client requirements and capability\\n- Ability to formulate and communicate opinions on what makes software good or bad to both technical and business client stakeholders\\n- Contributed to open source projects or presented at a conference\\n- Built and deployed 12-factor apps as part of a collaborative project team\\n\\n_Relocation assistance may be offered to exceptional candidates._\\n\\n## Working at MojoTech\\n\\nMojoTech is a growing team of ambitious, authentic, smart, pragmatic people. Our mission is to practice engineering excellence, to foster an enjoyable environment that allows everyone to reach their potential, to work in a sustainable way, and to help our clients succeed.\\n\\nWe design and engineer distributed systems and mobile applications for big, and soon-to-big companies – helping enterprises move faster, and startups build smarter.\\n\\nLearn more about our [culture and comprehensive benefits here.](https://www.mojotech.com/jobs/)\\n\\nLearn more about our engineering [approach and philosophy here.](https://www.mojotech.com/engineering)\\n\\n_MojoTech is an Equal Employment Opportunity employer that will consider all qualified applicants, regardless of race, color, religion, gender, sexual orientation, marital status, gender identity or expression, national origin, genetics, age, disability status, protected veteran status, or any other characteristic protected by applicable law._\\n',\n",
              "    'id': 'cjvnp9t44009y0704sqv10qg9',\n",
              "    'title': 'React Developer'},\n",
              "   {'cities': [{'name': 'San Francisco'}],\n",
              "    'company': {'name': 'Kittyhawk'},\n",
              "    'description': 'If you need to run a pre-flight checklist, scope out the airspace, or fly, the Kittyhawk.io iOS application is your starting point. You will be working with the rest of the engineering team to build new features, optimize existing code, and prototype features we can disclose to the public yet.\\n\\n### **Must Haves**\\n\\n- Team Player\\n- Fluent in SWIFT\\n- Comfort using \\\\`git\\\\` and \\\\*nix\\n\\n### **Nice to Haves**\\n\\n- Experience working with GraphQL APIs\\n- Experience working with DJI SDKs\\n- Stellar Objective-C skills\\n- Experience writing tests\\n- Passionate for aviation\\n\\n### **What We Offer**\\n\\nCompetitive startup salaries, full benefits, flexible vacation, and generous equity are just starters. We’re offering a chance to help build a massive company in one of the most interesting industries in the world today.\\n',\n",
              "    'id': 'cjvjww28x00e80715lcroye4a',\n",
              "    'title': 'iOS Engineer'},\n",
              "   {'cities': [{'name': 'San Francisco'}],\n",
              "    'company': {'name': 'Kittyhawk'},\n",
              "    'description': 'The Kittyhawk.io Android application is a key differentiator for our customers. The ability to work across devices separates Kittyhawk from the rest of the pack. Like our iOS offering, Kittyhawk’s Android offering is undergoing constant development and improvement. You will be working with the rest of the engineering team to build new features for our Android customers.\\n\\n### **Must Haves**\\n\\n- Team Player\\n- Fluent in Java & Android SDKs\\n- Experience working with Gradle and Android Studio\\n- Full understanding of the client-server architecture\\n- Comfort using \\\\`git\\\\` and \\\\*nix\\n\\n### **Nice to Haves**\\n\\n- Understanding or Material Design guidelines, UI principles, patterns, and best practices\\n- Experience working with GraphQL APIs\\n- Experience working with DJI SDKs\\n- Experience writing tests\\n- Passion for aviation\\n\\n### **What We Offer**\\n\\nCompetitive startup salaries, full benefits, flexible vacation, and generous equity are just starters. We’re offering a chance to help build a massive company in one of the most interesting industries in the world today.\\n',\n",
              "    'id': 'cjvjwr8tk00db071512tp2sms',\n",
              "    'title': 'Android Engineer'},\n",
              "   {'cities': [{'name': 'San Francisco'}],\n",
              "    'company': {'name': 'Kittyhawk'},\n",
              "    'description': 'Kittyhawk is the market leader in enterprise drone operations and trusted by the largest commercial teams from insurance, energy, media, and law enforcement. You will be the first frontend engineer hire and will be building the future of our business. Our team is lean and motivated to take the drone market by storm. Join us in making the future a better place to fly!\\n\\n### **Your First 6 Months**\\n\\n- Build the foundation for our customer-facing applications\\n- Break out multiple customer-facing applications from a monolith\\n- Work with our designers to translate ideas into a beautiful UI for our customers\\n- Work with many internal and partner APIs to accomplish tasks throughout our system\\n- Dockerize customer-facing applications and work with DevOps to deploy on scalable infrastructure\\n\\n### **Must Haves**\\n\\n- Team Player\\n- Experience building single page frontend applications\\n- Experience building reusable components\\n- Master of HTML, CSS, and other display-centric web technologies\\n- Comfort using \\\\`git\\\\` and \\\\*nix\\n\\n### **Nice to Haves**\\n\\n- Experience working with GraphQL APIs\\n- Experience writing frontend tests\\n- Understanding of MySQL databases\\n- Passion for aviation\\n\\n### **What We Offer**\\n\\nCompetitive startup salaries, full benefits, flexible vacation, and generous equity are just starters. We’re offering a chance to help build a massive company in one of the most interesting industries in the world today.\\n',\n",
              "    'id': 'cjvjwo9a400ca07154gm6uv0t',\n",
              "    'title': 'Senior Frontend Engineer'},\n",
              "   {'cities': [{'name': 'London'}],\n",
              "    'company': {'name': 'Catapult'},\n",
              "    'description': '_Before you start reading, keep in mind that the aim of this job ad is to give you a feel for what it’s like to work at Catapult. There’s lots of research that suggests people often don’t apply because of so-called “requirements” in a job description. If you’re an experienced React engineer with some commercial experience in either Ruby on Rails or Elixir + Phoenix, we’d like to hear from you!_\\n\\n**What you’re getting yourself in for**\\n\\nOur mission is to build the world’s best part time job. We spend our time thinking about how to give a global workforce complete control of their own work life while automating the hundreds of thousands of man hours which would normally be required to manage people on this scale.\\n\\nWe do this using React & Typescript on the frontend backed up by GraphQL servers, some written in Ruby and Rails and some in Elixir and Phoenix.\\n\\nBusinesses ranging from the largest high-street retailers to five star hotels and independent coffee boutiques rely on Catapult as their casual workforce. If you’ve spent time in a large UK city, you’ve probably been served by a Catapult waiter or sales assistant without even realising it! \\n\\nWe’re well funded by some amazing investors, our product is live in over 100 locations across the UK and we’ve recently launched in Berlin making us the first and only pan-european player in this space.\\n\\nOur company values [https://writing.joincatapult.com/our-values/](https://workable.com/nr?l=https%3A%2F%2Fwriting.joincatapult.com%2Four-values%2F) are really important to us and influence every facet of how we work together.\\n\\n**Things we’ve been working on recently**\\n\\nNo two days are ever the same in a startup, but to give you a flavour of what we’ve been up to recently:\\n\\n- Standardising on React, Typescript and GraphQL across our suite of applications\\n- Using Kubernetes to automatically deploy standalone environments for our feature branches, complete with anonymised production data\\n- Applying machine learning to the billions of data points we generate each year to completely obsolete the interview process\\n- Preparing the entire Rails, Phoenix, React and React Native environment for Globalization\\n\\n**About the role**\\n\\nWe’ve been growing rapidly over the last three years and as we continue our international roll out, we’re looking for ambitious engineers to help us build the future of work. Our engineering principles [https://writing.joincatapult.com/engineering-principles/](https://workable.com/nr?l=https%3A%2F%2Fwriting.joincatapult.com%2Fengineering-principles%2F) give a good feel for how we work together and what we value. \\n\\nWe’re a distributed, remote first engineering organisation with team members in Prague, Warsaw, London, Bristol and Bangkok. We work in autonomous pods, each of which has ownership of one area of our business. We’re open to remote applicants from anywhere within the EU.\\n\\n## **REQUIREMENTS**\\n\\n**About You**\\n\\n- Your real passion is for the front end, finding ways to deliver innovative, polished user experiences and you’re experienced supporting this by working in either Ruby & Rails or Elixir & Phoenix backends\\n- You’re excited about the potential technologies like GraphQL and Typescript have to speed up and improve the process of building complex client side applications\\n- You really buy into the importance of getting things into the hands of a user quickly and then iterating\\n- You actively think about when to incur technical debt and when to pay it back\\n- You like to explore new technologies and have a keen eye for when something new can add real business value \\n- You’ve probably spent most of your time over the last few years focussed on building React applications\\n- You’re in favour of, but pragmatic about, automated testing. You like all production grade code to have good test coverage but understand when it may make sense to test MVP’s with a lower degree of test coverage\\n- Bonus points for experience with Typescript / GraphQL \\n\\n## **BENEFITS**\\n\\nAs well as being a part of a well funded startup at one of the most exciting phases of it’s growth, you’ll get:\\n\\n- Competitive salary + stock options + 25 days paid holiday per year\\n- A strong approach to professional development and mentorship, everyone has a dedicated L&D budget for books, training and the like\\n- Several product retreats per year where the whole team goes on a team retreat, looks back on how we can improve and then spends a week or so hacking on new ideas and exploring new technologies\\n- Regular social events & the opportunity to travel to our other offices\\n- Company Macbook Pro which you’re free to take home \\n- A flexible work environment focussed on output not hours\\n',\n",
              "    'id': 'cjvjw5ajp00ag0715p073feg9',\n",
              "    'title': 'React Focused Fullstack Developer'},\n",
              "   {'cities': [{'name': 'Lehi'}],\n",
              "    'company': {'name': 'Blender Bottle'},\n",
              "    'description': '**Picture Yourself as BlenderBottle\\'s New** **Software Developer Intern**\\n\\n**Beyond the Bottle**\\n\\nA career at BlenderBottle is not about punching the clock. It\\'s about embracing exciting and fast-paced opportunities that sharpen your skills, drive innovation, and play an integral role in growing a global brand. Your work will not only impact the company, it will impact the lives of millions of people around the world. When you step up to a career at BlenderBottle Company, you step up to cutting-edge. You sign up for bold action and invigorating synergy. You agree to face\\'and break through\\'new challenges every day.\\n\\nAs a Software Developer Intern, your primary responsibility involves taking designs and ideas and bringing them to life. You will see projects through the phases of pre-production and ideation, collaboration with design, building, tests, and validation. Every day will bring new opportunities to simplify and improve the lives of those who use our products.\\n\\n**How We\\'ll Help You Succeed**\\n\\nOur culture is passionate, entrepreneurial, and energetic. We innovate. We collaborate. We strive for excellence. We recognize. We celebrate. We connect. We host athletic events, seasonal celebrations, and team-building activities to create unity and reward accomplishment. Bottom line? You\\'ll love it here.\\n\\n- Comprehensive medical, dental, and vision care\\n- 401k package with employer matching\\n- Paid Time Off\\n- Maternity/Paternity leave\\n- Full indoor basketball/volleyball court\\n- Fully equipped fitness center (cardio, weights, functional fitness area, lockers and showers, etc.)\\n- Yoga studio\\n- Meditation/Nap room\\n- And much more!\\n\\n**How You\\'ll Make an Impact**\\n\\nEvery role at BlenderBottle is critical to our successful functioning as a whole. Your specific responsibilities as a part of our team will include:\\n\\n- Collaborate with stakeholders and other developers to build, release, and maintain software (including web) applications\\n- Troubleshoot and fix bugs, write and maintain automated unit and system-level tests\\n- Develop and support improvements to operating infrastructure, including security improvements or transitions to elastic/ \"cloud\"-based infrastructure\\n- Make project time-to-complete estimates, follow up by tracking project time and tasks in project management software\\n\\n**What You\\'ll Bring to the Team**\\n\\nWe seek employees who are adept at contributing their personal expertise to a collaborative work environment. For this role, we\\'re looking for someone with the following skills and experience:\\n\\n- Proficient development skills in HTML, CSS, Javascript, with experience in Node JS and React being preferred\\n- Experience with Shopify a plus\\n- Strong SQL knowledge and experience (preferred MSSQL)\\n- Experience with cloud infrastructure (AWS)\\n- Experience with GraphQL, APIs, Docker/Rancher all a plus\\n- Proficient in troubleshooting and code testing\\n- Experience in both front and back-end development\\n- Some Linux/Apache server administration experience preferred\\n- Experience with version control (preferably Git)\\n- Strong communication skills; professionalism\\n- Quick learner\\n\\n_BlenderBottle Company is an equal opportunity employer._\\n\\n_Phone calls regarding this position are not accepted._\\n',\n",
              "    'id': 'cjvh36efu005z0779beju4usa',\n",
              "    'title': 'Software Developer Intern'},\n",
              "   {'cities': [{'name': 'Porto'}],\n",
              "    'company': {'name': 'Taikai'},\n",
              "    'description': \"Have you ever dreamed of landing on the Moon? Being a part of the Taikai team is just like being an astronaut. We want to make a difference, not only on what we do but on who is with us on this journey. We're an ambitious startup, which is why we want the best talent to work alongside us and help us to be the best. Your Mission: We're hiring an experienced frontend developer to join the Taikai's team in Porto. Your mission will be to build and maintain the frontend of this platform.\\n\\n## **Requirements:**\\n\\n- 2 to 5 years of experience as Web Developer.\\n- You must have a strong understanding of UX, UI, cross-browser compatibility, general web functions and standards.\\n- Experience with a modern Javascript, [React.js](https://reactjs.org/) and its ecosystem.\\n- Good understanding of underlying web technologies (eg. HTTP, HTML, CSS, JavaScript).\\n- Interest and curiosity about challenge-driven innovation.\\n\\n## **Cool to Have:**\\n\\n- Experience with [GraphQL](https://graphql.org/)\\n- Familiarity with javascript testing frameworks, such as (Jest, Cypress, Mocha, ...)\\n- Interest in blockchain technologies and crypto currencies\\n\\n## **What We offer:**\\n\\n- Partially remote and flexible hours\\n- Startup well funded by venture capital\\n- Macbook\\n\\n## **Our Software Stack:**\\n\\n- React.js\\n- Next.js\\n- Styled components\\n- Cypress.io\\n- React-testing-library\\n- Apollo GraphQL\\n- Node.js\\n- Prisma\\n- EOSIO ( C++ )\\n\",\n",
              "    'id': 'cjvh20vy5002g07793ef6iakc',\n",
              "    'title': 'React Frontend Developer'},\n",
              "   {'cities': [{'name': 'Taipei'}],\n",
              "    'company': {'name': 'Appier'},\n",
              "    'description': 'Appier is a technology company which aims to provide artificial intelligence platforms to help enterprises solve their most challenging business problems. Appier was established in 2012 by a passionate team of computer scientists and engineers with expertise in AI, data analysis, distributed systems, and marketing.\\n\\n\\n**About the role**\\n\\n**Software Engineer, Backend Development** at Appier focus on designing the most flexible, scalable backend architecture with optimized performance to pave the engineering road of our new products.\\n\\n**Task of the role**\\n\\n- Developing and operate scalable, reliable and maintainable service-based softwares and related components.\\n- Cowork with team members to design system architecture, choose proper technologies and plan development.\\n- Design & develop server-side architecture & function logic of new services \\n- Design and maintain database schemas for new services \\n- Ensures the scalability of the system \\n- Ensure the high performance of responsiveness to requests from the front-end \\n- Integrate the front-end modules built by your coworkers into new services \\n- Responsible for laying the foundation for the platform as well as proposing solutions to ease software development, monitoring of software, etc.\\n- Profiling and performance tuning of critical components\\n- Deploy system to production and monitor service health\\n- Participate in idea brainstorming and contribute ideas to technology, algorithms and products\\n\\n**About you**\\n\\n[Essential]\\n\\n- BS/BA degree in Computer Science or related field with 5+ years experience in related industry \\n- Ability to build web services on Linux.\\n- Good at any of the listed language: Python / C / C++ / Scala / Go.\\n- Good knowledge of Network API Design ( e.g. REST or GraphQL).\\n- Good understanding of any SQL/NoSQL database (MySQL / MongoDB / Redis / etc.)\\n- Familiar with git.\\n- Team player and able to work independently.\\n- Proactive, good interpersonal and problem-solving skill.\\n\\n[Nice to have]\\n\\n- MS degree in Computer Science or related field.\\n- Good at profiler and debugging tools.\\n- High performance network service on Linux.\\n- Design and architect large scale distributed system.\\n- Design and implement distributed algorithm and data structure.\\n- Familiar with HTML and Javascript.\\n- Familiar with Nginx / HAProxy.\\n- Familiar with operation automation tool (such as Ansible).\\n- Familiar with continuous integration / continuous deployment\\n- Familiar with monitoring and alert system (Prometheus / Nagios).\\n- Familiar with functional programming.\\n- Familiar with Amazon Web Service or Google Compute Engine.\\n\\n**Why join us?**\\n\\nWe believe in building a great working environment where passionate individual can give their best, and to work with a talented team. To reward Appiers for their contribution, we also work hard to offer perks and benefits to make their life better\\n\\n**Perks and benefits**\\n\\n- Company office locations at the heart of central business district (CBD) in all our countries.\\n- Well stocked pantry with snacks and drinks\\n- Competitive salary\\n- Equity in one of the most exciting Artificial Intelligence startup in Asia\\n- Health insurance for all employees\\n- Your choice between Mac and Microsoft OS\\n- Frequent company and team gatherings to celebrate success and life in general\\n',\n",
              "    'id': 'cjvdrajj400eg0758lnb8o9m1',\n",
              "    'title': 'Senior Software Engineer, Backend Development'},\n",
              "   {'cities': [{'name': 'Taipei'}],\n",
              "    'company': {'name': 'Appier'},\n",
              "    'description': 'Appier is a technology company which aims to provide artificial intelligence platforms to help enterprises solve their most challenging business problems. Appier was established in 2012 by a passionate team of computer scientists and engineers with expertise in AI, data analysis, distributed systems, and marketing.\\n\\n\\n**About the role**\\n\\n**Software Engineer, Backend Development** at Appier focus on designing the most flexible, scalable backend architecture with optimized performance to pave the engineering road of our new products.\\n\\n**Task of the role**\\n\\n- Developing and operate scalable, reliable and maintainable service-based softwares and related components.\\n- Cowork with team members to design system architecture, choose proper technologies and plan development.\\n- Design & develop server-side architecture & function logic of new services \\n- Design and maintain database schemas for new services \\n- Ensures the scalability of the system \\n- Ensure the high performance of responsiveness to requests from the front-end \\n- Integrate the front-end modules built by your coworkers into new services \\n- Responsible for laying the foundation for the platform as well as proposing solutions to ease software development, monitoring of software, etc.\\n- Profiling and performance tuning of critical components\\n- Deploy system to production and monitor service health\\n- Participate in idea brainstorming and contribute ideas to technology, algorithms and products\\n\\n**About you**\\n\\n[Essential]\\n\\n- BS/BA degree in Computer Science or related field with 3+ years experience in related industry \\n- Ability to build web services on Linux.\\n- Good at any of the listed language: Python / C / C++ / Scala / Go.\\n- Good knowledge of Network API Design ( e.g. REST or GraphQL).\\n- Good understanding of any SQL/NoSQL database (MySQL / MongoDB / Redis / etc.)\\n- Familiar with git.\\n- Team player and able to work independently.\\n- Proactive, good interpersonal and problem-solving skill.\\n\\n[Nice to have]\\n\\n- MS degree in Computer Science or related field.\\n- Good at profiler and debugging tools.\\n- High performance network service on Linux.\\n- Design and architect large scale distributed system.\\n- Design and implement distributed algorithm and data structure.\\n- Familiar with HTML and Javascript.\\n- Familiar with Nginx / HAProxy.\\n- Familiar with operation automation tool (such as Ansible).\\n- Familiar with continuous integration / continuous deployment\\n- Familiar with monitoring and alert system (Prometheus / Nagios).\\n- Familiar with functional programming.\\n- Familiar with Amazon Web Service or Google Compute Engine.\\n\\n**Why join us?**\\n\\nWe believe in building a great working environment where passionate individual can give their best, and to work with a talented team. To reward Appiers for their contribution, we also work hard to offer perks and benefits to make their life better \\n\\n**Perks and benefits**\\n\\n- Company office locations at the heart of central business district (CBD) in all our countries.\\n- Well stocked pantry with snacks and drinks\\n- Competitive salary\\n- Equity in one of the most exciting Artificial Intelligence startup in Asia\\n- Health insurance for all employees\\n- Your choice between Mac and Microsoft OS\\n- Frequent company and team gatherings to celebrate success and life in general\\n',\n",
              "    'id': 'cjvdnrig800am0758ntclpnyl',\n",
              "    'title': 'Software Engineer, Backend Development'},\n",
              "   {'cities': [{'name': 'Taipei'}],\n",
              "    'company': {'name': 'Appier'},\n",
              "    'description': 'Appier is a technology company which aims to provide artificial intelligence platforms to help enterprises solve their most challenging business problems. Appier was established in 2012 by a passionate team of computer scientists and engineers with expertise in AI, data analysis, distributed systems, and marketing.\\n\\n\\n**About the role**\\n\\n**Frontend engineers** at Appier focus on handcrafting sophisticated web UI using cutting-edge front-end development technologies / tools. We work closely with UI/UX designers and backend engineers and deliver high-quality, fluent and elegant web applications to our enterprise customers, or to aid daily operations within Appier.\\n\\n**Task of the role**\\n\\n- Design & develop front-end architecture & interactive user interfaces \\n- Integrate the back-end modules built by your coworkers into new services \\n- Ensures the flexibility of front-end architecture \\n- Ensure the high performance of responsiveness \\n- Build reusable code and libraries for future use \\n- Build unit tests and test automation \\n- Perform code reviews to ensure existing code stay high-quality, fast, and flexible \\n- Handle and resolve issues escalated from the production operational environment \\n- Participate in idea brainstorming and contribute ideas to technology, algorithms and products\\n\\n**About you**\\n\\n[Essential]\\n\\n- Good knowledge of HTTP, CSS, JavaScript, HTML, DOM, and web standards.\\n- Respect coding convention, language standard syntax, documentation.\\n- Experience with cross-browser compatibility techniques.\\n- Experience with frontend technologies or frontend frameworks.\\n- Proactive, good interpersonal and problem-solving skill.\\n- Team player and able to work independently.\\n- Familiar with git.\\n- Loves trying out new technologies and sharing with team what problems do the new technologies address. All kinds of \"new technologies\" is welcomed, from FP-like languages (e.g. ReasonML, PureScript, Elm), CSS-in-JS implementations, Data-loading mechanisms (e.g. Relay, Apollo), to experience sharing on using certain components, or webpack plugins / linter configs / codemods / boilerplates that improves developer experience (DX).\\n\\n[Nice to have]\\n\\n- React.js, CSS Modules, Webpack.\\n- Test frameworks: Jest, Mocha.\\n- Capable of testing across multiple browsers, platforms.\\n- Experience in Node.js, GraphQL, MongoDB, MySQL.\\n- Experience in web performance optimization and the pixel pipeline.\\n- Experience in CSS Pre/Post-processors (PostCSS, SASS or LESS).\\n- Experience in ES6/ES2017 transpiler (Babel, TypeScript, PureScript, BuckleScript, ClosureScript, etc.). \\n\\n**Why join us?**\\n\\nWe believe in building a great working environment where passionate individual can give their best, and to work with a talented team. To reward Appiers for their contribution, we also work hard to offer perks and benefits to make their life better \\n\\n**Perks and benefits**\\n\\n- Company office locations at the heart of central business district (CBD) in all our countries.\\n- Well stocked pantry with snacks and drinks\\n- Competitive salary\\n- Equity in one of the most exciting Artificial Intelligence startup in Asia\\n- Health insurance for all employees\\n- Your choice between Mac and Microsoft OS\\n- Frequent company and team gatherings to celebrate success and life in general\\n',\n",
              "    'id': 'cjvdn99pb008q07581kq5ksfz',\n",
              "    'title': 'Software Engineer, Frontend Development'},\n",
              "   {'cities': [],\n",
              "    'company': {'name': 'Inside Labs'},\n",
              "    'description': 'We’re looking for an awesome Software Developer to join our dynamic, young and driven team. As a member of the Inside Labs team, you’ll have the opportunity to work with a group of talented people building world-class web and mobile apps using cutting edge technologies. We expect you to innovate, work hard, have fun, and share ideas regularly. You’ll be responsible for seeing product features and/or projects through the full development life cycle.\\n\\n# Responsibilities\\n\\n- Design and implement highly reliable technical infrastructure\\n- Implement complex business logic\\n- Maintain production quality applications\\n- Manage project progress and be able to deliver on time \\n\\n# Requirements\\n\\n- 3+ years working experiences with Javascript and familiarity with ES6\\n- Experience with one or more of the following technologies: Node.js, PostgreSQL, MongoDB, Redis, Typescript, GraphQL, React, React Native\\n- Good understanding of functional programming\\n- Strong troubleshooting skills\\n- First hand understanding of the full lifecycle development process, including business and functional requirements, developing technical designs, implementing reliable and scalable solutions, and design and analysis\\n- Experience and/or interest in working on the entire tech stack.\\n- Comfortable with basic dev-ops tasks: AWS deployment, linux, etc.\\n- Can work on a small team, in a fast paced environment\\n- Great communication skills\\n- Team player with a get shit done attitude\\n\\nThe right attitude is considered as important as demonstrated skills!\\n\\n**Who we are**\\n\\nWe are a small team of passionate mountain dwellers on a mission to redefine your experience in nature through technology. We started as the digital arm of the Weisse Arena Gruppe (LAAX), but have recently been spun out into an independent company. Our initial role was to demonstrate agility and speed in generating new customer centric services and products based on technology in LAAX. We’re currently in the process of growing our team with the aim to build additional products which fit our philosophy of redefining experiences in nature through technology.\\n',\n",
              "    'id': 'cjvdmahxd004w0758atpe4xr0',\n",
              "    'title': 'Backend Typescript / Javascript Developer'},\n",
              "   {'cities': [{'name': 'Mexico City'},\n",
              "     {'name': 'Colima'},\n",
              "     {'name': 'Merida'}],\n",
              "    'company': {'name': '4th Source'},\n",
              "    'description': '#### **Required skills and experience**\\n\\n2+ years experience:\\n\\n- MVC=Model, View, Controller pattern\\n- GraphQL\\n- JavaScript\\n- Java SE 7+\\n- Java EE\\n- Hibernate 4.x\\n- Spring core 4.x\\n- JAX-RS implementation like Jersey, CXF, Easy Rest\\n- Maven\\n- JUnit\\n- Jenkins\\n- Json\\n- Eclipse\\n- Logging tool like log4j\\n- JPA\\n- XML/XSD\\n- JQPL\\n- SQL\\n- GIT\\n\\n**Other requirements**\\n\\nAdvanced English level, 60% (Speaking & Writing) – Mandatory\\n\\n#### **Job Location:\\xa0**\\n\\nCdmx, Colima or Merida.\\n\\n#### **Start Date:\\xa0**\\n\\nAs soon as possible\\n\\n#### **Salary:\\xa0**\\n\\nBased on experience\\n\\n#### **Travel Required:\\xa0**\\n\\nRequired or Visa needed\\n',\n",
              "    'id': 'cjv804s6q011j0791px9b545d',\n",
              "    'title': 'Intermediate Java Developer With GraphQL'},\n",
              "   {'cities': [{'name': 'Wrocław'}],\n",
              "    'company': {'name': 'Mirumee'},\n",
              "    'description': '**YOUR PROFILE:**\\n\\n- Solid development skills\\n- Strong understanding of JavaScript\\n- Familiarity with modern ECMAScript specification\\n- Experience in communicating with REST and GraphQL APIs\\n- Knowledge of HTML5, CSS3 with preprocessors and frameworks\\n- Experience with common front-end development tools such as Webpack, NPM, DevTools\\n- Experience with version control systems\\n- Desire to learn\\n- Good command of English (both written and spoken)\\n\\n\\u200b\\n\\n**YOUR RESPONSIBILITIES:**\\n\\n- Building and maintaining Single Page Applications in React.js\\n- Working with server-side application templates\\n- Translating designs and wireframes into high quality code\\n- Communicating with REST and GraphQL APIs\\n\\n\\u200b\\n\\n**NICE TO HAVE:**\\n\\n- Experience with open source development\\n- Desire to grow into a leadership position\\n- Public speaking and article writing skills\\n',\n",
              "    'id': 'cjv7zjznd00x00791gn6tygze',\n",
              "    'title': 'Regular Front-end Developer'},\n",
              "   {'cities': [{'name': 'Wrocław'}],\n",
              "    'company': {'name': 'Mirumee'},\n",
              "    'description': '**YOUR PROFILE:**\\n\\n- Software architecture skills\\n- Project leadership experience\\n- Deep understanding of JavaScript\\n- Familiarity with modern ECMAScript specification\\n- Experience in communicating with REST and GraphQL APIs\\n- Knowledge of HTML5, CSS3 with preprocessors and frameworks\\n- Practical experience with tools such as Webpack, NPM, DevTools\\n- Experience with version control systems\\n- Taking full responsibility for the projects you create\\n- Good command of English (both written and spoken)\\n\\n\\u200b\\n\\n**YOUR RESPONSIBILITIES:**\\n\\n- Supervising and mentoring team members\\n- Leading the building of Single Page Applications in React.js\\n- Working with server-side application templates\\n- Ensuring the high quality of all code translated from designs and wireframes\\n- Communicating with REST and GraphQL APIs\\n\\n\\u200b\\n\\n**NICE TO HAVE:**\\n\\n- Public speaking and article writing skills\\n',\n",
              "    'id': 'cjv7zfpu500vt0791vxx1h4p9',\n",
              "    'title': 'Senior Front-end Developer'},\n",
              "   {'cities': [{'name': 'Skien'}],\n",
              "    'company': {'name': 'Crystallize'},\n",
              "    'description': \"As a frontend developer you will join the product engineering team at Crystallize to create the UI for our [blazing fast GraphQL based ecommerce service](https://crystallize.com/product).\\n\\nYou will be developing web based frontends in React. We are looking for full stack abilities from server architecture, data management, delivery and presentation, but with strong focus on frontends.\\n\\nYou should have a strong developer background, ideally also an eye for layout and user interfaces.\\n\\nYou should also be able to manage cloud services on AWS and have an understanding of the full stack required to build modern scalable applications.\\n\\nOur stack typically includes:\\n\\n- React / React Native\\n- NextJS, NodeJS / Express\\n- GraphQL\\n- Redis\\n\\nThe position is full time at the office in Skien, Norway. We're able to help if you are considering re-locating.\\n\\n## **About Crystallize**\\n\\nCrystallize is a headless commerce service enabling developers to build tailor-made e-commerce experiences with subscriptions and virtual products. The core of Crystallize is our blazing fast GraphQL API. Developer experience and time to market is our main drivers as milliseconds matter.\\n\",\n",
              "    'id': 'cjv23vj27019o0733yppqvbh5',\n",
              "    'title': 'Frontend Developer'},\n",
              "   {'cities': [{'name': 'Berlin'}],\n",
              "    'company': {'name': 'EverEstate'},\n",
              "    'description': 'We believe that the process of buying real estate is undergoing dramatic change. Customers need full information transparency and smart processes, to better make this important life decision. We want to become a trustworthy partner, through deep customer understanding and outstanding user comfort. We are looking to change the way people buy real estate and set new standards with our digital platform, ensuring satisfied buyers around the world.\\n\\n**YOUR MISSION**\\n\\nAs Backend JavaScript Engineer you will have an outsized impact and build the foundation for our consumer-centric products that define the future of our company. You will work in an agile environment with service-oriented tech stack written in Node.js.\\n\\n- Build distributed and continuously integrated systems that scale\\n- Architect, develop and operate a Node.js backend with GraphQL API\\n- Create and integrate decoupled microservices with well-designed REST APIs\\n- Drive our architecture forward with smart abstractions and clean dependency structures\\n\\n**YOUR PROFILE**\\n\\n- Hard-earned production skills in developing and operating a large-scale Node.js backend\\n- Deep understanding of system design, data modeling and software architecture\\n- Knowledge about GraphQL and REST API design\\n- You care about shipping high quality, reusable code\\n- You combine thoughtfulness with pragmatism and a passion to get things done\\n\\n**OUR BENEFITS**\\n\\nFrom day one you will be part of our motivated team and work together with us to revolutionise the real estate world. We are an international team that puts all its heart and soul into creating an extraordinary customer experience. Become part of a team with a start-up mentality in an established company.\\n\\n- The opportunity to contribute and develop your ideas.\\n- Short and open communication channels and transparent decision-making processes\\n- A creative and team-oriented working environment\\n- The chance to play an active role in an international and experienced team and to continuously develop yourself further\\n- Fruit, company lunches & regular team events\\n\\n**YOUR APPLICATION**\\n\\nApply now with all relevant documents, stating your earliest possible starting date and your salary expectations.\\n\\nWe look forward to hearing from you!\\n\\nYour EverEstate Team\\n',\n",
              "    'id': 'cjv78ogff00hk07400ax7q2zr',\n",
              "    'title': '(Senior) Backend Node.js Developer (m/f/d)'},\n",
              "   {'cities': [{'name': 'Berlin'}],\n",
              "    'company': {'name': 'EverEstate'},\n",
              "    'description': 'We believe that the process of buying real estate is undergoing dramatic change. Customers need full information transparency and smart processes, to better make this important life decision. We want to become a trustworthy partner, through deep customer understanding and outstanding user comfort. We are looking to change the way people buy real estate and set new standards with our digital platform, ensuring satisfied buyers around the world.\\n\\n**YOUR MISSION**\\n\\nAs Frontend JavaScript Engineer you will have an outsized impact and will build consumer-centric products that define the future of our company. You will work in an agile environment with state-of-the-art tech frontend stack based on React.js and Relay.\\n\\n- Bring delightful user interactions to life\\n- Write robust and well-tested frontend React.js modules\\n- Build efficient and reusable systems and abstractions\\n- Use Relay for declarative data fetching from our GraphQL API\\n\\n**YOUR PROFILE**\\n\\n- Attention to pixels and passion for clean, well-tested code that works in modern browsers\\n- Deep understanding of React.js and experience in writing logic-heavy frontend applications\\n- Good knowledge of HTML, CSS, browser APIs and the DOM\\n- Experience in data handling with Relay or Redux\\n- You combine thoughtfulness with pragmatism and a passion to get things done\\n\\n**OUR BENEFITS**\\n\\nFrom day one you will be part of our motivated team and work together with us to revolutionise the real estate world. We are an international team that puts all its heart and soul into creating an extraordinary customer experience. Become part of a team with a start-up mentality in an established company.\\n\\n- The opportunity to contribute and develop your ideas.\\n- Short and open communication channels and transparent decision-making processes\\n- A creative and team-oriented working environment\\n- The chance to play an active role in an international and experienced team and to continuously develop yourself further\\n- Fruit, company lunches & regular team events\\n\\n**YOUR APPLICATION**\\n\\nApply now with all relevant documents, stating your earliest possible starting date and your salary expectations.\\n\\nWe look forward to hearing from you!\\n\\nYour EverEstate Team\\n',\n",
              "    'id': 'cjv78llmr00gg0740rf5hcvhz',\n",
              "    'title': '(Senior) Frontend React.js Developer (m/f/d)'},\n",
              "   {'cities': [{'name': 'Berlin'}],\n",
              "    'company': {'name': 'EverEstate'},\n",
              "    'description': 'We believe that the process of buying real estate is undergoing dramatic change. Customers need full information transparency and smart processes, to better make this important life decision. We want to become a trustworthy partner, through deep customer understanding and outstanding user comfort. We are looking to change the way people buy real estate and set new standards with our digital platform, ensuring satisfied buyers around the world.\\n\\n**YOUR MISSION**\\n\\nAs Fullstack JavaScript Engineer you will have an outsized impact and build the foundation for our consumer-centric products that drive the future of our company. You will work in an agile environment with a modular technology stack written in Node.js & React.\\n\\n- Build the technology future of real estate in a scalable, clean way\\n- Develop robust, modular frontend components in React.js\\n- Create and integrate decoupled microservices with CI/CD automations\\n- Work with GraphQL to provide well-designed APIs for our frontend applications\\n- Drive our architecture forward with smart abstractions and clean dependency structures\\n\\n**YOUR PROFILE**\\n\\n- Hard-earned production skills in developing and operating a large-scale Node.js backend\\n- Strong understanding of React.js and experience in data handling with Relay or Redux\\n- Deep understanding of API design, data modeling and software architecture\\n- You care about shipping high quality, reusable code\\n- You combine thoughtfulness with pragmatism and a passion to get things done\\n\\n**OUR BENEFITS**\\n\\nFrom day one you will be part of our motivated team and work together with us to revolutionise the real estate world. We are an international team that puts all its heart and soul into creating an extraordinary customer experience. Become part of a team with a start-up mentality in an established company.\\n\\n- The opportunity to contribute and develop your ideas.\\n- Short and open communication channels and transparent decision-making processes\\n- A creative and team-oriented working environment\\n- The chance to play an active role in an international and experienced team and to continuously develop yourself further\\n- Fruit, company lunches & regular team events\\n\\n**YOUR APPLICATION**\\n\\nApply now with all relevant documents, stating your earliest possible starting date and your salary expectations.\\n\\nWe look forward to hearing from you!\\n\\nYour EverEstate Team\\n',\n",
              "    'id': 'cjv78iepl00fh0740u2k4lvle',\n",
              "    'title': 'Senior Fullstack JavaScript Developer (m/f/d)'},\n",
              "   {'cities': [{'name': 'Copenhagen'}],\n",
              "    'company': {'name': 'Digital Warehouse, YouSee'},\n",
              "    'description': \"**Become part of YouSee - Denmark's largest entertainment universe - and join us in developing next level software solutions, based on the latest frontend technologies and methodologies.**\\n\\nWe are looking for an experienced Javascript/React developer who will be part of building and developing first-class code to yousee.dk and thereby improving the customer experience.\\n\\nAs a Javascript developer at Yousee, you will be part of a cross-functional squad of other developers, Scrum masters, UX designers and web editors who are all responsible for ensuring new solutions where customers are at the center of everything we do.\\n\\nWe care about code quality so code reviews, good test coverage and pair programming/helping each other out are part of our day-to-day life.\\n\\nWe offer a developer position where you get the chance to be part of a company in rapid development. Moreover, we work intensively to create a unique culture characterized by an informal tone combined with a lot of commitment and professionalism.\\n\\nYour educational background is less important, but it's a big plus if you have a strong theoretical background. However, the essential thing is that you love to code and challenge yourself as well as your team.\\n\\n**You have…\\xa0**\\n\\n- At least 5 years of commercial experience as a Javascript developer with in-depth knowledge of React and Redux.\\n- Preferably experience with Redux-Saga and GraphQL.\\n- Up-to-date knowledge of ECMAScript 6+ and are comfortable with asynchronous programming.\\n- Broad knowledge of web technologies and methodology such as semantic HTML, SASS and BEM.\\n- Experience using build technologies such as Node, Gulp and Webpack.\\n- Preferably experience with Test-driven development using tools such as Jest and Cypress.\\n- Understanding of responsive design principles, web content accessibility and search engine optimization.\\n- Knowledge of the architectural differences between single and multi-page applications.\\n- Experience with Git, Feature Branching and Continuous Integration.\\n- Preferably experience in Scrum or similar agile working methodology.\\n- Good collaborative skills and the ability to adapt to last minute change requests.\\n- The ability to dive into complex issues without losing focus.\\n\\n**Interested?**\\nWe call for interviews regularly, so send your application as soon as possible and at the latest May 31st 2019. If you have any questions about the position, you are welcome to contact Martin Hilderscheid at +45 2340 4460. Application can be sent in Danish or English. Please specify where you saw the job advertisement.\\n\",\n",
              "    'id': 'cjv7841pq00cu0740wlawuohj',\n",
              "    'title': 'Experienced Javascript/React developer'},\n",
              "   {'cities': [{'name': 'Houston'}],\n",
              "    'company': {'name': 'GoCo'},\n",
              "    'description': 'Work directly with our CTO to build our core web application, using cutting edge technologies. This is a coding position with massive opportunities for leadership and career advancement as the company grows rapidly. You will be encouraged and hopefully excited to wear many hats, including shaping the business and product vision, giving input on User Experience, vetting new technologies, designing our software architecture, and helping with hiring and recruiting.\\n\\nHere are the most important qualities we are looking for:\\n\\n- Expertise building APIs for consumption by Single Page Applications \\n- Expert in SQL, specifically Postgres\\n- Experience with Ruby on Rails \\n- Ability to rapidly iterate and roll out new code \\n- Eagerness to learn new languages and technologies\\n- Passionate about user experience, and not shy to give your input\\n- Track record of building applications that can scale to millions of users \\n- Comfortable working in Linux environments\\n- Have fun, and work hard!\\n',\n",
              "    'id': 'cjv5bhu5z00wh0779xrse54zk',\n",
              "    'title': 'API Developer (Rails / GraphQL)'},\n",
              "   {'cities': [{'name': 'New York'}],\n",
              "    'company': {'name': 'Glossier'},\n",
              "    'description': \"We’re hiring engineers to elevate Glossier as an inviting, fun way to buy beauty products. You’ll join a team focused on building a delightful e-commerce and in-store experience and fostering the most welcoming community to discuss skin care and makeup. At Glossier, we work in product teams that ship features to production early, then iterate based on internal and customer feedback. We pay attention to performance, write tests for our code, and care about design. We are also mindful of building an inclusive culture, where decisions are made transparently and we support each other's learning and growth. We’ve built our own point-of-sale application for iOS, and it’s relied upon to power our [NYC, LA and pop-up stores](https://www.glossier.com/locations). It processes millions of dollars in transactions, and we have an exciting roadmap of improvements for the application to improve the experience for staff and customers in stores. Glossier is also working on a to-be-announced application, and we’re looking for engineers who are interested in shaping the direction of a greenfield product. \\n\\n### **Our Technology Stack**\\n\\n- Swift for our point-of-sale application and future projects\\n- GraphQL for our API\\n- React, Redux, Webpack, and Apollo on the frontend\\n- Ruby on Rails for the backend\\n- AWS to host our infrastructure\\n- Postgres, Redis, and Redshift\\n\\n### **In this role, during your first month you'll:**\\n\\n- Connect with an onboarding buddy, who’ll help you settle in by introducing you to team members throughout Glossier.\\n- Learn about Glossier’s engineering principles through pairing sessions with developers.\\n- Work within a product team to ship a well-tested feature or enhancement to production. We love using feature flags to control how changes are rolled out.\\n\\n### **During your first three months you'll:**\\n\\n- Deploy frequent improvements, and maybe break something! We have a blameless post-mortem process so that when things go wrong, we can make our systems and processes more resilient.\\n- Set personal development goals with your manager, using our publicly available [Engineering ladder](https://medium.com/glossier/building-an-engineering-ladder-at-glossier-e7fc3a390695) as a guide. We have tracks for Individual Contributors and Managers, so you can grow in your career no matter where your interests lie.\\n\\n### **During your first year you'll:**\\n\\n- Be a flag-bearer of our diverse and inclusive culture.\\n- Make meaningful additions to a variety of projects of increasing complexity.\\n- Contribute to an RFC (Request for Comments) proposal (or create your own) that improves our team's culture, processes, or architecture.\\n- Give a tech talk. We hold internal talks every two weeks – it’s an opportunity for team members to show their work and present on topics relating to our practice.\\n- Write a blog post on [Into The Tech](https://medium.com/glossier), our Technology team’s blog.\\n\\n### **You:**\\n\\n- Have a reputation for being inclusive, innovative, clever, fun, and thoughtful. :)\\n- Are motivated by working in a fast-growing, dynamic, and iterative environment.\\n\\n### **About your application and the interview process:**\\n\\nGlossier is an equal opportunity employer and we value diversity. We do not discriminate on the basis of race, religion, color, national origin, gender, sexual orientation, age, marital status, veteran status, or disability status. If you’re unsure about your qualifications for this position, we still encourage you to apply. We’re looking for engineers who have experience, but know that not everyone’s had a chance to work with the technologies in our stack. What’s most important is that you have a growth mindset, and know how to reliably ship software. Our interview process typically involves a phone screen with an internal recruiter, followed by an exploratory conversation with our VP of Engineering. After that, we’ll invite you to our offices for an on-site interview on a range of technical and interpersonal topics. One of our interviews involves pair programming – we want to see what it’s like to work with you on problems you might encounter in the real world. We know that live coding can be stressful at times, and will do our best to craft a friendly and collaborative experience. \\n\\n### **About Glossier**\\n\\nGlossier is a beauty company that lives in NYC, is sold on the internet, and promotes a skincare-first philosophy that celebrates beauty in real life.\\n\\n_We are an Equal Employment Opportunity (“EEO”) Employer. It has been and will continue to be a fundamental policy of Glossier not to discriminate on the basis of race, color, creed, religion, gender, gender identity, pregnancy, marital status, partnership status, domestic violence victim status, sexual orientation, age, national origin, alienage or citizenship status, veteran or military status, disability, medical condition, genetic information, caregiver status, unemployment status or any other characteristic prohibited by federal, state and/or local laws. This policy applies to all aspects of employment, including hiring, promotion, demotion, compensation, training, working conditions, transfer, job assignment, benefits, layoff, and termination._\\n\",\n",
              "    'id': 'cjv59hfll00sf0779n80kyy4c',\n",
              "    'title': 'iOS Engineer'},\n",
              "   {'cities': [{'name': 'New York'}],\n",
              "    'company': {'name': 'Glossier'},\n",
              "    'description': \"We’re hiring Engineering Managers to elevate Glossier as an inviting, fun way to buy beauty products. You’ll join a team focused on building a delightful e-commerce and in-store experience, and fostering the most welcoming community to discuss skin care and makeup. At Glossier, we work in product teams that ship features to production early, then iterate based on internal and customer feedback. We pay attention to performance, write tests for our code, and care about design. We are also mindful of building an inclusive culture, where decisions are made transparently and we support each other's learning and growth.\\n\\n### **Our technology stack**\\n\\n- Ruby on Rails for the backend\\n- GraphQL for our API\\n- React, Redux, Webpack, and Apollo on the frontend\\n- AWS to host our infrastructure\\n- Postgres, Redis, and Redshift\\n- Swift for our point-of-sale application\\n\\n### **In this role, during your first month you’ll:**\\n\\n- Connect with an onboarding buddy, who’ll help you settle in by introducing you to team members throughout Glossier.\\n- Learn about Glossier’s engineering principles through pairing sessions with developers.\\n- Get to know the engineers on your team by facilitating handoffs with their previous manager.\\n\\n### **During your first three months you’ll:**\\n\\n- Collaborate with engineers, product managers, and designers on the team to define and deliver on the product roadmap.\\n- Deploy improvements to production, and maybe break something! As an Engineering Manager you typically won’t be on the critical path of development, but you’ll still contribute to our codebase.\\n- Look for opportunities to improve the experience of working at Glossier. We're always interested in trying techniques that build communication and trust in the team.\\n- Set personal development goals, both for you and your reports. Our [Engineering Ladder](https://medium.com/glossier/building-an-engineering-ladder-at-glossier-e7fc3a390695) is publicly available, and is a useful tool to help support the growth of our team.\\n\\n### **During your first year you’ll:**\\n\\n- Be a part of incredible product launches that change the way people talk about beauty online.\\n- Grow the engineers around you by giving them clear and actionable feedback.\\n- Be a flag-bearer of our diverse and inclusive culture.\\n- Build the team by finding amazing engineers and improving our interview experience.\\n- Give regular presentations that level up the team; we hold internal talks for the Technology team every two weeks.\\n- Contribute to Glossier's presence in the technology community through speaking engagements, industry meet-ups, or writing articles for our [Into The Tech blog](https://medium.com/glossier).\\n\\n### **You**\\n\\n- Have a reputation for being inclusive, innovative, clever, fun, and thoughtful. :)\\n- Are motivated by working in a fast-growing, dynamic, and iterative environment.\\n\\n### **About your application and the interview process**\\n\\nIf you’re unsure about your qualifications for this position, we still encourage you to apply. We’re looking for engineers who have experience, but know that not everyone’s had a chance to use the technologies in our stack. What’s most important is that you have a growth mindset, and know how to reliably ship software. Our interview process typically involves a phone screen with an internal recruiter, followed by an exploratory conversation with our VP of Engineering. After that, we’ll invite you to our offices for an on-site interview on a range of technical and interpersonal topics. One of our interviews involves pair programming – we want to see what it’s like to work with you on problems you might encounter in the real world. We know that live coding can be stressful at times, and will do our best to craft a friendly and collaborative experience.\\n\\n### **About Glossier\\xa0**\\n\\nGlossier is a beauty company that lives in NYC, is sold on the internet, and promotes a skincare-first philosophy that celebrates beauty in real life.\\xa0\\n\\n_We are an Equal Employment Opportunity (“EEO”) Employer. It has been and will continue to be a fundamental policy of Glossier not to discriminate on the basis of race, color, creed, religion, gender, gender identity, pregnancy, marital status, partnership status, domestic violence victim status, sexual orientation, age, national origin, alienage or citizenship status, veteran or military status, disability, medical condition, genetic information, caregiver status, unemployment status or any other characteristic prohibited by federal, state and/or local laws. This policy applies to all aspects of employment, including hiring, promotion, demotion, compensation, training, working conditions, transfer, job assignment, benefits, layoff, and termination._\\n\",\n",
              "    'id': 'cjv59o77y00tj0779fpdq125e',\n",
              "    'title': 'Engineering Manager'},\n",
              "   {'cities': [{'name': 'New York'}],\n",
              "    'company': {'name': 'Glossier'},\n",
              "    'description': \"We’re hiring Senior Engineers to elevate Glossier as an inviting, fun way to buy beauty products. You’ll join a team focused on building a delightful e-commerce and in-store experience, and fostering the most welcoming community to discuss skin care and makeup. At Glossier, we work in product teams that ship features to production early, then iterate based on internal and customer feedback. We pay attention to performance, write tests for our code, and care about design. We are also mindful of building an inclusive culture, where decisions are made transparently and we support each other's learning and growth.\\n\\n### **Our technology stack**\\n\\n- Ruby on Rails for the backend\\n- GraphQL for our API\\n- React, Redux, Webpack, and Apollo on the frontend\\n- AWS to host our infrastructure\\n- Postgres, Redis, and Redshift\\n- Swift for our point-of-sale application\\n\\n### **In this role, during your first month you’ll:**\\n\\n- Connect with an onboarding buddy, who’ll help you settle in by introducing you to team members throughout Glossier.\\n- Learn about Glossier’s engineering principles through pairing sessions with developers.\\n- Work within a product team to ship a well-tested feature or enhancement to production. We love using feature flags to control how changes are rolled out.\\n\\n### **During your first three months you’ll:**\\n\\n- Deploy frequent improvements, and maybe break something! We have a blameless post-mortem process so that when things go wrong, we can make our systems and processes more resilient.\\n- Set personal development goals with your manager, using our publicly available [Engineering ladder](https://medium.com/glossier/building-an-engineering-ladder-at-glossier-e7fc3a390695) as a guide. We have tracks for Individual Contributors and Managers, so you can grow in your career no matter where your interests lie.\\n\\n### **During your first year you’ll:**\\n\\n- Be a flag-bearer of our diverse and inclusive culture.\\n- Have end-to-end responsibility for projects of increasing complexity.\\n- Contribute an RFC (Request for Comments) proposal that improves our team's culture, processes, or architecture.\\n- Give a tech talk. We hold internal talks every two weeks – it’s an opportunity for team members to show their work and present on topics relating to our practice.\\n- Write a blog post on [Into The Tech](https://medium.com/glossier), our Technology team’s blog.\\n- Help grow the engineers around you, including those in our [apprenticeship program](https://medium.com/glossier/how-glossiers-summer-of-code-program-helped-launch-my-career-as-a-front-end-engineer-c34b6563f079).\\n\\n### **You**\\n\\n- Have a reputation for being inclusive, innovative, clever, fun, and thoughtful. :)\\n- Are motivated by working in a fast-growing, dynamic, and iterative environment.\\n\\n### **About your application and the interview process**\\n\\nIf you’re unsure about your qualifications for this position, we still encourage you to apply. We’re looking for engineers who have experience, but know that not everyone’s had a chance to work with the technologies in our stack. What’s most important is that you have a growth mindset, and know how to reliably ship software. Our interview process typically involves a phone screen with an internal recruiter, followed by an exploratory conversation with our VP of Engineering. After that, we’ll invite you to our offices for an on-site interview on a range of technical and interpersonal topics. One of our interviews involves pair programming – we want to see what it’s like to work with you on problems you might encounter in the real world. We know that live coding can be stressful at times, and will do our best to craft a friendly and collaborative experience. \\n\\n### **About Glossier**\\n\\nGlossier is a beauty company that lives in NYC, is sold on the internet, and promotes a skincare-first philosophy that celebrates beauty in real life.\\n\\n_We are an Equal Employment Opportunity (“EEO”) Employer. It has been and will continue to be a fundamental policy of Glossier not to discriminate on the basis of race, color, creed, religion, gender, gender identity, pregnancy, marital status, partnership status, domestic violence victim status, sexual orientation, age, national origin, alienage or citizenship status, veteran or military status, disability, medical condition, genetic information, caregiver status, unemployment status or any other characteristic prohibited by federal, state and/or local laws. This policy applies to all aspects of employment, including hiring, promotion, demotion, compensation, training, working conditions, transfer, job assignment, benefits, layoff, and termination._\\n\",\n",
              "    'id': 'cjv597dki00qw0779ypz51map',\n",
              "    'title': 'Senior Engineer'},\n",
              "   {'cities': [{'name': 'Atlanta'}],\n",
              "    'company': {'name': 'New Story'},\n",
              "    'description': 'Apply for purpose-filled, well paying work that’s ending global homelessness. We need a skilled javascript developer to help us on our Housing Innovation Toolkit. It’s a SAAS platform that helps housing organizations improve their effectiveness and increase their impact.\\n\\nYou have the chance to contribute to our React Native applications, which leverage offline-first to make our technology accessible in the most remote areas around the world.\\n\\nOur stack is Ruby on Rails, React, React Native, Postgres, **GraphQL**, Heroku, and AWS. Ruby on Rails skills are great, but React experience is a must.\\n\\n**You will enjoy**\\n\\n• Passionate, ambitious team.\\n\\n• Work that has a direct impact on families around the world.\\n\\n• A steady flow of complex problems.\\n\\n**Qualifications**\\n\\n• Previous experience in software development, computer engineering, or other related fields\\n\\n• Knowledge of Javascript, specifically React and React Native\\n\\n• Familiarity with relational databases such as MySQL and PostgreSQL\\n\\n• Detail-oriented\\n\\n• Strong analytical and critical thinking skills\\n\\n• Ruby on Rails and GraphQL experience are a plus.\\n',\n",
              "    'id': 'cjv2g9l3x02c407335pzjxzsp',\n",
              "    'title': 'Software Engineer'},\n",
              "   {'cities': [{'name': 'New York'}],\n",
              "    'company': {'name': 'Glossier'},\n",
              "    'description': 'We’re hiring a Senior Site Reliability Engineer to elevate Glossier.com’s resiliency and improve developer productivity. You’ll join a small Tech Platform team focused on building a robust, observable, secure, scalable infrastructure supporting delightful e-commerce and in-store experience, and fostering the most welcoming community to discuss skin care and makeup.\\n\\nYou’ll join a broader Glossier Tech team that has a supportive, inclusive culture, and values collaboration and constructive feedback.\\n\\n### **In this role, you will:**\\n\\n- Be the first dedicated SRE on a remote-friendly Tech Platform team.\\n- Build and maintain our AWS infrastructure with well-documented, tested, approachable software that you’re proud of.\\n- Continually identify risks and bottlenecks in our technical infrastructure and work to alleviate them.\\n- Work closely with other Tech teams to create tools and processes that let them deliver product features quickly and reliably.\\n- Facilitate Learning Reviews (a.k.a. blameless post mortems) to better avoid or mitigate site incidents.\\n- Kick off greenfield projects to solve future scaling challenges and empower the team, and performing well-tested maintenance to mission-critical infrastructure.\\n- Participate in our on-call rotation, and engender an ever-healthier on-call practice. (We average about one incident per month outside of usual work hours.)\\n- Set personal development goals with your manager, using our publicly available [Engineering ladder](https://medium.com/glossier/building-an-engineering-ladder-at-glossier-e7fc3a390695) as a guide. We have tracks for Individual Contributors and Managers, so you can grow in your career no matter where your interests lie.\\n- Give and receive timely, candid, and constructive feedback to help yourself and your colleagues learn and grow.\\n\\n### **You may be a good fit for this role if you have interest and experience:**\\n\\n- Developing and maintaining complex web apps on cloud infrastructure (especially AWS)\\n- Creating deployment tooling with an eye towards developer happiness\\n- Building Docker containers and operating Docker schedulers\\n- Improving Cloud Security and configuring VPC networking\\n- Maintaining self-service monitoring and alerting tools\\n- Teaching colleagues about DevOps culture, tools, and practices\\n- Writing well-factored, easily-tested code (especially in Ruby or Javascript)\\n\\n#### **Our technology stack:**\\n\\n- Ruby on Rails and JavaScript for the backend\\n- GraphQL for our API\\n- React, Redux, Webpack, and Apollo on the frontend\\n- AWS to host our infrastructure\\n- Postgres on RDS, Redis, and Redshift for data stores\\n- Datadog and Pagerduty for monitoring and alerting\\n- A smattering of CloudFormation, Terraform, and AWS Lambda functions\\n\\n### **About your application and our interview process:**\\n\\nIf you’re unsure about your qualifications for this position, we still encourage you to apply. We’re looking for engineers who have experience, but know that not everyone’s had a chance to work with the technologies in our stack. What’s most important is that you have a growth mindset, and can demonstrate productive habits to deliver valuable code.\\n\\nGlossier has offices in New York and Montreal. We’re open to remote candidates eligible to work in the United States or Canada. Remote candidates would be expected to travel about one week per quarter.\\n\\nOur interview process typically involves a phone screen with an internal recruiter, followed by an exploratory conversation with our Director of Engineering. After that, we’ll invite you to our offices for an on-site interview on a range of technical and interpersonal topics. One of our interviews involves pair programming – we want to see what it’s like to work with you on problems you might encounter in the real world. We know that live coding can be stressful at times, and will do our best to craft a friendly and collaborative experience.\\n\\n### **About Glossier**\\n\\nGlossier is a beauty company that lives in NYC, is sold on the internet, and promotes a skincare-first philosophy that celebrates beauty in real life.\\n\\n_We are an Equal Employment Opportunity (“EEO”) Employer. It has been and will continue to be a fundamental policy of Glossier not to discriminate on the basis of race, color, creed, religion, gender, gender identity, pregnancy, marital status, partnership status, domestic violence victim status, sexual orientation, age, national origin, alienage or citizenship status, veteran or military status, disability, medical condition, genetic information, caregiver status, unemployment status or any other characteristic prohibited by federal, state and/or local laws. This policy applies to all aspects of employment, including hiring, promotion, demotion, compensation, training, working conditions, transfer, job assignment, benefits, layoff, and termination._\\n',\n",
              "    'id': 'cjv58vzdf00oa07794cx8qs9e',\n",
              "    'title': 'Senior Site Reliability Engineer'},\n",
              "   {'cities': [{'name': 'New York'}],\n",
              "    'company': {'name': '1stdibs'},\n",
              "    'description': \"[++1stdibs.com++](https://www.1stdibs.com/) is currently seeking enthusiastic and curious front-end engineering interns to join us for the summer!\\n\\nThis is a great summer internship opportunity for someone interested in exploring a career in web development. You’ll have the opportunity to contribute to the development and implementation of new user-facing products and features, new shared packages, and collaborate with our services team on internal APIs. \\xa0\\n\\nSee our[ ++Github++](https://github.com/1stdibs) for some of what we do.\\n\\n**What you’ll do \\xa0\\xa0\\xa0**  \\n\\n- Move toward a thorough understanding of core client-side technologies: HTML5, CSS3 and JavaScript\\n- Get hands-on experience with a state-of-the-art front-end stack which includes React, Node.js, Express, GraphQL, Relay, webpack, Git (Github) and Babel (ES6)\\n- Be excited by the opportunities and challenges afforded by responsive and adaptive design\\n- Gain real-world experience with Node.js, React, and GraphQL, as well as \\xa0how to integrate with external APIs\\n- Learn best practices writing unit and integration tests in Jest\\n- Work with our top Product team which includes former leaders from Gilt, eBay and Etsy\\n\\n**What you’ll bring**\\n\\n- Enthusiasm to gain experience developing for high-traffic websites\\n- Ability to troubleshoot and problem-solve\\n- Intellectual curiosity and thoughtful opinions\\n- Excitement to experience developing consumer-facing websites in a professional production environment\\n- An appreciation for one-of-a-kind items such as furniture, art and jewelry always welcome\\n- An interest in ice cream, trivia nights, bike riding, field trips around the city, and being part of an awesome intern group\\n\\nOur internships are paid, full-time (40 hours per week) opportunities that run from early June through August.\\n\\n1stdibs is the world’s largest online luxury marketplace for rare and desirable objects. It has become the go-to source for the world's leading interior designers and consumers to find antiques, furniture, jewelry, vintage fashion and fine art.\\n\\nBacked by Benchmark Capital, Insight Venture Partners, Index Ventures, Spark Capital and Alibaba, 1stdibs is a unique blend of expert curators and seasoned Internet executives from companies including Amazon, Google, eBay, Mlb.com, PayPal,\\xa0and Twitter.\\n\\n_1stdibs is an equal opportunity employer. We celebrate diversity and we are committed to creating an inclusive environment for all employees._\\n\",\n",
              "    'id': 'cjv5221wu002e07799eyxyzle',\n",
              "    'title': 'Front-End Intern'},\n",
              "   {'cities': [{'name': 'Rouen'}],\n",
              "    'company': {'name': 'Saagie'},\n",
              "    'description': '## **About**\\n\\n[Saagie](https://www.saagie.com/) (pronounced \"sadgee\") is a startup enabling companies to **shift their Big Data projects from their datalabs up to production**, and to embed AI into their business in record times.\\n\\nIt provides **the perfect devops platform** embedding the most relevant technologies (Spark, Kafka, HDFS clusters, ...) and enabling to **orchestrate your data workflows**(extraction, cleaning & refining, predictive modeling...) to build and run AI-based applications, all in the most compliant and secured structure. It\\'s unique design **enables to onboard easily the various tenants of such projects** (from data scientists and engineers to devs and ops), in a small amount of time.\\n\\nAs a ready-to-deploy and fully-managed platform, Saagie is massively used in the Banking, Insurance and Industry businesses.\\n\\n## **Job description**\\n\\n👩\\u200d💻👨\\u200d💻We are looking for an Experienced Front-end Engineer, with ⚛️React experience, to join our product team (office in Rouen - Normandy, or working remotely).\\n\\n### **Responsibilities**\\n\\nYou\\'ll be in charge of developing **User Interfaces** and improving our **product micro Front-end architecture**.\\n\\nYou\\'ll be working in a fully Agile team in the **product team** in direct realtions with Back-end Developers, UI/UX Designers, QA Testers and Product managers.\\n\\nYour missions will be:\\n\\n**👩\\u200d💻👨\\u200d💻Design & Develop** web applications (mostly ⚛️React) designed for the end user, helped by our [💅Design System](https://go.saagie.com/design-system), and maintainable by your teammates.\\n\\n**\\U0001f91fContribute** to improving our micro Front-end architecture.\\n\\n**🛠Improve** existing interfaces with UX and performance in mind.\\n\\n**🏭Industrialize** your developments so that they are integrated as soon as possible into our daily deliveries to production.\\n\\n### **About the team**\\n\\nYou will be part of the **Product team** which consists of twenty people with Back-end developers, DevOps, QA Testers, UI/UX Designer, and Product Managers.\\n\\nYou will work in a **friendly and open minded work environment**.\\n\\n### **Why working at Saagie?**\\n\\n- **Real agile organization**. Human before process.\\n- Flexible work schedules and **remote work** allowed.\\n- Time for **technological watch** & **open source projects** works.\\n- **Conferences lover**? We can sponsor you! (Limited to Europe).\\n- Salary between 35K € and 47K € (According to experience).\\n\\n## **Preferred experience**\\n\\n- Good knowledge of **HTML, CSS, and JavaScript**.\\n- Experience with **modern JavaScript libraries** and tooling. \\n- Experience with **React** in a production environment.\\n- Be able to **build Front-end projects architectures** and explain why an approach is better than another one.\\n- Knowledge of how to **test** a Web Application.\\n- Ability to balance desire to **ship code quickly** to our customers with the responsibility of **making good technical decisions**.\\n- Proactiveness, good communication and fast learning.\\n- Interested in UI/UX design.\\n- Knowledge of GraphQL (Apollo client), backend development (especially Kotlin and Spring) and functional programming is a plus.\\n- At least 4 years of experience in Front-end development. \\n- At least English speaking (French appreciated)\\n\\n## **Recruitment process**\\n\\nYou\\'ll meet Cédric _(Head of Product Engineering)_ in our offices in Rouen or by video call.\\n\\nIf there is a match, you\\'ll spend a day in Rouen to meet the whole team and have an interview with our CTO.\\n',\n",
              "    'id': 'cjv48i0c102yd07279vvrteha',\n",
              "    'title': 'Experienced Front-end Engineer'},\n",
              "   {'cities': [{'name': 'Toronto'}],\n",
              "    'company': {'name': 'Jupiter'},\n",
              "    'description': 'We\\'re looking for someone to help build and support new features as we scale out the product and company. You will be primarily working with React, React Native, Node.js, and GraphQL.\\n\\nThis role is largely technical however you will be working with the rest of the team to ensure our clients receive the very best customer experience. This occasionally means working on the product roadmap or internal/external documentation.\\n\\nWe\\'re looking for someone who is particularly interested in designing and creating systems within the constraints of a start-up.\\n\\nDay-to-day you will be:\\n\\n- Designing and implementing new features\\n- Estimating effort and timelines and working to define/refine product roadmap\\n- Building internal tooling\\n- Maintaining current codebase\\n- Writing effective code which is stable, secure, scalable, and efficient\\n- Taking part in mentorship activities\\n\\nPlease email us with a brief intro, your resume, and relevant links to [careers@tryjupiter.com](mailto:careers@tryjupiter.com) with the subject line: \"_Senior Developer_.\"\\n',\n",
              "    'id': 'cjv3yh41501bi07277e6fa0fr',\n",
              "    'title': 'Senior Software Developer'},\n",
              "   {'cities': [{'name': 'Toronto'}],\n",
              "    'company': {'name': 'Jupiter'},\n",
              "    'description': 'We\\'re looking for someone to help build and support new features as we scale out the product and company. You will be primarily working with React, React Native, Node.js, and GraphQL.\\n\\nThis role is largely technical however you will be working with the rest of the team to ensure our clients receive the very best customer experience. This occasionally means working on the product roadmap or internal/external documentation.\\n\\nWe\\'re open to candidates who have different development backgrounds as long as you have a very healthy learner\\'s mentality. **We\\'re looking for potential not years in the field.**\\n\\nDay-to-day you will be:\\n\\n- Planning and implementing new features based on the product roadmap\\n- Maintaining current codebase\\n- Writing effective code which is stable, secure, scalable, and efficient\\n\\nPlease email us with a brief intro, your resume, and relevant links to [careers@tryjupiter.com](mailto:careers@tryjupiter.com) with the subject line: \"_Developer_.\"\\n',\n",
              "    'id': 'cjv3u1l9m00n307276hnclkqc',\n",
              "    'title': 'Software Developer'},\n",
              "   {'cities': [{'name': 'San Francisco'}],\n",
              "    'company': {'name': 'Amplitude'},\n",
              "    'description': 'At Amplitude, we’re building analytics that helps our customers use data to build better products and drive growth. We’re already the analytics platform of choice for many top product teams around the world including Microsoft, Square, Twitter, and Hubspot. Our team is defining the future of how companies interact with data to build better products. We’re looking for a senior full stack product engineer to help build out our analytics platform, someone who isn’t afraid to take on the challenges of building new features for an evolving product. As part of the Product Engineering Team, you will be responsible for building innovative interfaces and rich user experiences for our core product. The team is small and fast moving, and you will be expected to iterate quickly and make software design decisions on product features. You will become intimately familiar with React, Redux, and ES6. You’ll spend time writing type-safe JavaScript with Flow, as well as working with Python, Node, Postgres, and GraphQL. The product you’ll build is what customers see and use every single day. \\n\\n**Responsibilities:**\\n\\n- Take product ideas from ideation to implementation\\n- Develop large-scale interactive web applications in JavaScript, HTML, and CSS\\n- Integrate with backend services and build out endpoints with Python and GraphQL\\n- Collaborate with product and design teams to iterate on our product\\n- Lead engineering discussions and mentor others on engineering best practices\\n- Participate in design and code reviews\\n\\n**Skills and Experience:**\\n\\n- B.S., M.S., or Ph.D. in Computer Science or another technical field\\n- 5+ years of experience working in a frontend engineering role\\n- Experience in a technical leadership role on an engineering team\\n- Fluency with one or more JavaScript application frameworks (React/Redux, Angular, Backbone, etc.)\\n- Enjoy building UIs with modern tools like Babel and ES6, React and Redux, Webpack and Flow\\n- You have a deep understanding of current and emerging trends of the web platform\\n- Experience with client-side software design, performance, and optimization challenges working with large applications\\n- Excellent attention to detail and demonstrated design and UX sensibilities\\n- Understanding of Python, Ruby, and/or node web servers and SQL databases\\n- Real passion for solving challenging problems and iterating quickly\\n- Experience with web or mobile analytics, or data visualizations and d3 is a plus\\n\\n**About Amplitude**\\n\\nAt Amplitude, we’re on a mission to help product teams understand their users’ behavior so that they can build better products. We’ve built a product analytics platform that enables anyone, regardless of analytics experience, to listen to what their users are telling them through user behavior.\\n\\nFounded in 2012, Amplitude is located in San Francisco’s SOMA neighborhood, and we are backed by IVP, Battery Ventures, Benchmark Capital, and Y Combinator. You can learn more about our team, culture, and environment at [https://amplitude.com/careers](https://amplitude.com/careers).\\n\\nAmplitude provides equal employment opportunities (EEO). All applicants are considered without regards to race, color, religion, national origin, age, sex, marital status, ancestry, physical or mental disability, veteran status, or sexual orientation.\\n\\n#LI-SA1\\xa0\\n',\n",
              "    'id': 'cjv2rpmj105fg07338femtt06',\n",
              "    'title': 'Senior Product Engineer'},\n",
              "   {'cities': [{'name': 'San Francisco'}],\n",
              "    'company': {'name': 'Amplitude'},\n",
              "    'description': '**Summary:**\\n\\nPassionate about building massively scalable systems? Want to work with a top class team of engineers ranging from new graduates to seasoned managers and architects? Want to make a billion-dollar impact? If so, Amplitude might be the place for you. Enterprise Saas companies have traditionally grown with sales headcount. The growth function is, traditionally called “demand generation” in enterprise Saas, and has relied heavily on programs that don’t scale and are not measurable.\\xa0 Amplitude is looking for a visionary growth engineer who can help write the playbook for enterprise Saas Growth Engineering. This function will accelerate Amplitude’s success by\\xa0 leveraging product, data and engineering to drive scalable, consistent and measurable growth. Growth Engineering at Amplitude is a unique opportunity because we are creating a new category in an exploding market.\\xa0 \\n\\n**What does this team do?**\\n\\nThe Growth Engineering team is dedicated to applying product, engineering, and data to keep Amplitude growing as fast as possible. To effectively grow Amplitude, we build features, infrastructure, and experiments to maximize growth. Our work ranges from iterating on our core user experience across our entire stack, to creating recommendation and personalization systems. We build models to better predict how our customers behave over the long run in order to grow sustainably and profitably. Finally, we are responsible for the infrastructure that powers our growth, including our experimentation framework and automated marketing systems. \\n\\n**What will you do?**\\n\\nYou will be building software to help drive double-digit growth month-over-month. How you do that is up to you and your team - as long as you can measure and backup your results. Your work ranges from backend infrastructure like extending our experimentation platform, owning customer-facing features like personalization systems end-to-end, to optimizing our endpoint load time to help move conversion. We focus on building quantifiably high impact features through prototyping and experimentation. It is your responsibility to ensure that these features and systems are maintainable, scalable, and can be built into more sophisticated solutions, by you, or by relevant teams. \\n\\n**Key Responsibilities:**\\n\\n- Drive consistent and scalable growth through product, engineering and data leverage\\n- Build the infrastructure that enables us to understand our customers journey end to end. It’s hard to optimize that which you do not understand.\\xa0\\n- Build features with quantifiably high impact through prototyping and experimentation\\n- Ship features and services, that directly and scalably drive growth\\n- Design, build, and maintain APIs, services, and systems that power Amplitude’s growth\\n- Build tools that help our non-engineering teams (e.g. marketing, go-to-market) teams scale\\n- Work with Python, Node, Postgres, and GraphQL to build scalable, efficient experiments across the customer journey\\n- Integrate with other backend query-processing services and infrastructure\\n- Lead engineering discussions and mentor others on engineering best practices\\n\\n**Requirements:**\\n\\n- B.S., M.S., or Ph.D. in Computer Science or another technical field\\n- 5-8+ years of experience working in a full stack, API engineering, or application services role\\n- 2+ years\\xa0 of experience on Growth team is a huge plus\\n- Significant experience building web services and APIs, and working with SQL databases like Postgres or MySQL\\n- Strong proficiency with either Python, Java, or JavaScript\\n- Some experience working with JavaScript, HTML, and CSS\\n- Prior experience with GraphQL is a plus\\n- Strong foundation in programming, algorithms, and software application design\\n- Real passion for solving challenging problems and iterating quickly\\n- Excellent communication skills with both technical and non-technical audiences\\n- Growth mindset, humility, and the burning desire to own your domain and your work\\n- Demonstrated focus on continuous improvement of code, systems, and processes through analysis and metrics.\\n- Technical leadership of an engineering team is a plus\\n\\n**About Amplitude**\\n\\nAt Amplitude, we’re on a mission to help product teams understand their users’ behavior so that they can build better products. We’ve built a product analytics platform that enables anyone, regardless of analytics experience, to listen to what their users are telling them through user behavior.\\n\\nFounded in 2012, Amplitude is located in San Francisco’s SOMA neighborhood, and we are backed by IVP, Battery Ventures, Benchmark Capital, and Y Combinator. You can learn more about our team, culture, and environment at [https://amplitude.com/careers](https://amplitude.com/careers).\\n\\nAmplitude provides equal employment opportunities (EEO). All applicants are considered without regards to race, color, religion, national origin, age, sex, marital status, ancestry, physical or mental disability, veteran status, or sexual orientation.\\n\\n#LI-HM1\\xa0\\n',\n",
              "    'id': 'cjv2qu4sl05b707331hnug02o',\n",
              "    'title': 'Senior Growth Engineer'},\n",
              "   {'cities': [{'name': 'New York'}],\n",
              "    'company': {'name': 'Cheddar'},\n",
              "    'description': '**About Cheddar:**\\n\\nCheddar is the leading post-cable news, media, and entertainment company and currently broadcasts two live video news networks: Cheddar, a business news network covering the most innovative executives, founders, products, and technologies transforming our lives and economy; and Cheddar Big News, a fast-paced, young, non-partisan general news and headline news network.\\n\\nThe company broadcasts from the trading floor of the New York Stock Exchange, its street level studio in the glass corner of the Sprint Store in the Flatiron Building, WeWork in Los Angeles, and the White House.\\n\\nCheddar was founded by Jon Steinberg, President and Chief Operating Officer of BuzzFeed from 2010 to 2014. Its investors include Lightspeed Venture Partners, Raine Ventures, Goldman Sachs, Liberty Global, Comcast Ventures, AT&T, Amazon, Antenna Group, Ribbit Capital, The New York Stock Exchange, Altice USA, 7 Global Capital, and Denstu Ventures.\\n\\n**About this role:**\\n\\nWe are seeking an experienced iOS engineer to help us build and grow Cheddar’s thriving business news network. You’ll be joining a lean team of passionate engineers and designers who care deeply about delivering amazing experiences to hundreds of thousands of daily viewers. In this role, you’ll have the opportunity to work across a variety of platforms, engaging with cutting edge technology for web, mobile, OTT, and broadcast. We are looking for someone who is excited to learn, tackle new challenges, and make an incredible impact on our products.\\n\\nYou should have proven experience building iOS apps that are available in the App Store and be extremely capable in Swift. If you happen to have a bit of experience with Android, too that would be fantastic, but is not required. You will be working closely with other engineers, and ideally you are familiar with cross-platform mobile frameworks and hybrid mobile technologies or very keen to learn. We welcome new ideas, tools, and technologies, and you should be eager to share and teach as a part of our collaborative team. This is a lead position and will be expected to mentor, pair, and provide technical leadership to junior mobile engineers on our team.\\n\\nWe are excited by what we’re building, and we care about the quality of our code, as well as our user experience. We will expect you to balance high standards and thoughtful development with a pragmatic approach to getting things done. Our culture is fast-moving, and engineers who like to work on a wide variety of projects, try new technologies, and collaborate with cross-functional teams thrive with us. If this sounds like you, we’d love to talk.\\n\\n**Required Skills and Experience:**\\n\\n- At least 4 years of professional experience in software and mobile engineering, including experience with consumer-facing mobile apps \\n- Experience architecting, developing, and implementing product features and improvements\\n- Strong experience with iOS and a willingness to learn cross-platform technologies\\n- Strong familiarity with Swift\\n- Excited to explore technologies, develop new skills, and share knowledge\\n- Flexible, pragmatic, and oriented toward finding solutions\\n- Communicative, collaborative, and open-minded, with a track record of working cross-functionally\\n\\n**Our Benefits and Culture:** \\n\\nThe Cheddar team moves at lightning speed and our employees have the opportunity to make an extraordinary impact. We are growing fast and achieving milestones every day. Our team is direct, relentless, ethical, proactive, and different. All of our full time employees receive a competitive compensation and benefits package, which includes stock options, health, dental, and vision insurance, disability and life insurance, 401K, discounted gym membership, commuter benefits, generous paid leave, drinks and snacks, team events, happy hours, and more.\\n\\n**Diversity:**\\n\\nCheddar is an equal opportunity employer, and we actively cultivate an inclusive workplace that celebrates diversity. We welcome all candidates and are committed to hiring people with a wide variety of experiences and backgrounds. All employment decisions are made without regard to race, color, ancestry, religion, national origin, age, familial or marital status, sex, sexual orientation, pregnancy, gender identity or expression, disability, genetic information, veteran status, or any other classification protected by federal, state, or local law.\\n',\n",
              "    'id': 'cjv2llal1056y0733zh8pjsrw',\n",
              "    'title': 'Senior iOS Engineer'},\n",
              "   {'cities': [{'name': 'San Francisco'}],\n",
              "    'company': {'name': 'StackShare'},\n",
              "    'description': \"We're a mission-driven team here at StackShare that's growing quickly- we recently announced our Series A ([https://techcrunch.com/2018/01/09/developer-social-network-stackshare-raises-5-2-million-from-e-ventures/](https://techcrunch.com/2018/01/09/developer-social-network-stackshare-raises-5-2-million-from-e-ventures/))!\\n\\nWe're building a network for developer knowledge- StackShare is home to over 250K developers, engineers, CTOs, and VPEs from some of the world's best companies including Airbnb, Dropbox, Facebook, and more. Our vision is to transform the way that all SaaS tools and infrastructure are bought and sold by building the world's first technology graph. \\n\\nWe're currently a team of 14- we've worked at places like Amazon, Google, Etsy, Squarespace, StubHub, and Heroku. We're looking for an awesome Backend Engineer to join us as teammate #15 to help build that future.\\n\\nThis position is based in San Francisco, CA at our new office in beautiful South Park. \\n\\nOur stack: [https://stackshare.io/stackshare/stackshare](https://stackshare.io/stackshare/stackshare). Read more about our stack in a recent post that was featured in Ruby Weekly: [https://stackshare.io/posts/modernizing-stackshare-front-end-react-rails](https://stackshare.io/posts/modernizing-stackshare-front-end-react-rails).\\n\\n**ABOUT THE ROLE:**\\n\\nStackShare is on a mission to provide its users with the best insights about tools and technologies used in Software Development\\n\\nStackShare houses the most comprehensive tech stack dataset on the Internets. Where else can you go to find a break down of Medium's Mobile, Operations, Data Pipeline, and Website stacks (hint: only [https://stackshare.io/medium/stacks](https://stackshare.io/medium/stacks))? You will help with building this data pipeline and will employ creative methodologies to build a comprehensive list of stacks for all the companies out there. You will also use this extensive data set to provide unique insights to our users that they won't get anywhere else.\\n\\nStackShare community has been sharing, to create new and even more valuable products for the community that ultimately help them learn more about the technologies they care about through the people and companies they trust.\\n\\nSome stuff you can expect to work on: \\nFind creative avenues for gathering data applicable to various tech stacks \\nAnalyze first- and third-party data sets and connecting to company/industry Key Performance Indicator’s \\nDevelop processes to ensure consistent execution of data collection\\n\\nWhat we do have is an awesome community of over 200K developers, well over 50K tech stacks shared by this community, and thousands of the best SaaS and open source tools. For more deets on what's possible with all this data, check out this post: [https://stackshare.io/posts/the-next-generation-of-software-stacks](https://stackshare.io/posts/the-next-generation-of-software-stacks).\\n\\nIf you love dev tools and backend data, let's chat!\\n\",\n",
              "    'id': 'cjv2j18jd03rd07339frvy4rs',\n",
              "    'title': 'Backend Engineer'},\n",
              "   {'cities': [{'name': 'Skien'}],\n",
              "    'company': {'name': 'Crystallize'},\n",
              "    'description': 'As a unicorn you will join the product design & engineering stable in Crystallize where we curate designers and developers. Unicorns are a rare breed but we know they exist. We have one already.\\n\\nBeing a unicorn you know that you will be designing user interfaces for web and native Apps for our headless commerce service. But you will actually also build the frontend code and administration interfaces for this. At Crystallize the unicorn process is roughly:\\n\\n- Using Sketch to make wireframes and clickthroughs for interaction design\\n- User testing of clickthroughs\\n- Dressing wireframes in beautiful design using Photoshop (or Sketch)\\n- Implementing the frontend using React or React Native\\n- Functional, performance and SEO testing\\n- Deploying live using Now.sh or AWS\\n\\nYou should have a strong design background combined with programming skills.\\xa0\\n\\nOur tech stack typically includes:\\n\\n- React / React Native\\n- Node.js/ Express\\n- GraphQL\\n- [Crystallize for Product Information Management](https://crystallize.com/)\\n- AWS and/or Now.sh for production\\n\\nThere is a reason why they are called unicorns. They are rare, but we really really want more.. Are you one?\\n\\n## **About Crystallize**\\n\\nCrystallize is a headless commerce service enabling developers to build tailor-made e-commerce experiences with subscriptions and virtual products. The core of Crystallize is our blazing fast GraphQL API. Developer experience and time to market are our main drivers as milliseconds matter.\\n',\n",
              "    'id': 'cjv24092m01bb07331fguypk3',\n",
              "    'title': 'Unicorn Designer Developer'},\n",
              "   {'cities': [{'name': 'Skien'}],\n",
              "    'company': {'name': 'Crystallize'},\n",
              "    'description': 'As a backend developer you will join the product engineering team at Crystallize to create the serverless GraphQL and REST API for our [blazing fast ecommerce service](https://crystallize.com/product).\\n\\nYou will be developing API driven backends. We are looking for full stack abilities from server architecture, data management, delivery and presentation, but with strong focus on APIs and backend development.\\n\\nAs a candidate for Crystallize you have a bachelor/master education in software engineering. You love building software that can scale and perform.\\n\\nOur stack typically includes:\\n\\n- Node.JS / Express\\n- GraphQL\\n- REST endpoints\\n- AWS SQS/SNS\\n- AWS API Gateway\\n- AWS Lambda Services\\n- Redis\\n\\nYou should also be able to manage cloud services on AWS and have an understanding of the full stack required to build modern scalable applications. And of course have a good feel for dev-ops technologies like GitHub, AWS, Docker and you know, the good stuff you need for continuous integration and agile development.\\n\\nAt Crystallize we have a diverse team and can offer varied but challenging work being part of a team launching the most innovative products supported by digital brilliance.\\xa0\\n\\n## **About Crystallize**\\n\\nCrystallize is a headless commerce service enabling developers to build tailor-made e-commerce experiences with subscriptions and virtual products. The core of Crystallize is our blazing fast GraphQL API. Developer experience and time to market are our main drivers as milliseconds matter.\\n',\n",
              "    'id': 'cjv23r7c6017r0733vl5w4ols',\n",
              "    'title': 'Backend Developer'},\n",
              "   {'cities': [{'name': 'San Francisco'}],\n",
              "    'company': {'name': 'Twitter'},\n",
              "    'description': \"**Who We Are:\\xa0**We provide internal interfaces and tools to conveniently and efficiently access Twitter data from a variety of sources. Our work directly impacts the lives of our users and the success of our business.\\n\\nOperating our own systems at hyper-growth levels is a rewarding challenge; it is what helps make us great. We are a tightly knit and passionate group that loves working together, and we are looking for exceptional additions to our flock. We challenge and support each other to do great work every day.\\n\\n**What You’ll Do:\\xa0**You'll join our product infrastructure team aiming to radically improve the way Twitter clients get their data. Day-to-day you'll be designing, building, and maintaining the Twitter GraphQL service, working to onboard new clients, and adding support for new kinds of data, as well as prototyping tools that support our the engineers building the core Twitter product.\\n\\nTwitter [++GraphQL++](http://go/graphql) is already serving tens of millions of queries every day, and that's just the start.\\n\\nYou'll write user-friendly guides and documentation to make it easy for client and server engineers to start using GraphQL, and spend time with client teams to identify where GraphQL can be most valuable.\\n\\nYour work will make our apps much more data-efficient, helping Twitter reach countries with developing telecommunications networks and allow client engineers to build high-quality products, fast.\\n\\nAt Twitter, you can have a truly global impact.\\n\\n**You have:**\\n\\n- An interest in GraphQL or related technology\\n- Built and maintained high-performance, scalable systems\\n- Great verbal and written communication skills, with a desire to work closely with internal customers to understand their needs and solve their problems\\n- Experience in API & service architecture design\\n- Solid understanding of the client/server technology stack (HTTP, REST, compression, serialization)\\n- Experience with Scala, Java, Clojure or other server-side technology\\n- Experience working on a native (iOS or Android) or web application, so you understand the complexities and requirements of client-side software engineers\\n- Endless curiosity and ability to work both collaboratively and independently\\n\\n**Blog Post about GraphQL at Twitter:** [++https://about.sourcegraph.com/graphql/graphql-at-twitter++](https://about.sourcegraph.com/graphql/graphql-at-twitter)\\n\\n_We are committed to an inclusive and diverse Twitter. Twitter is an equal opportunity employer. We do not discriminate based on race, ethnicity, color, ancestry, national origin, religion, sex, sexual orientation, gender identity, age, disability, veteran status, genetic information, marital status or any other legally protected status._\\n\\n_San Francisco applicants: Pursuant to the San Francisco Fair Chance Ordinance, we will consider for employment qualified applicants with arrest and conviction records._\\n\",\n",
              "    'id': 'cjv1fmae101kx07227d781vr1',\n",
              "    'title': 'Software Engineer - GraphQL'},\n",
              "   {'cities': [{'name': 'San Francisco'}],\n",
              "    'company': {'name': 'Twitter'},\n",
              "    'description': '**Who We Are:**\\n\\nThe mission of our Consumer Product Infrastructure team is to radically improve the pace of feature development at Twitter. We build internal interfaces and tools that make it easy to access data a variety of sources.\\n\\nWorking together on building and operating our own systems at hyper-growth levels is a rare and rewarding challenge. We are a tightly-knit and supportive group that loves doing great work together, and we are looking for exceptional additions to our flock.\\n\\n**What You’ll Do:**\\n\\nYou will lead the Consumer API team, driving its technical strategy and roadmap – crafting success metrics in close collaboration with your peers across the company. You will bring a strong perspective that inspires change and motivates engineers to develop simple solutions to complex problems. You and your team will work with many engineering teams as well as cross-functionally to develop high-quality solutions. You will coach and mentor your team and support their professional growth and development.\\n\\nAt Twitter, you can have a truly global impact.\\n\\n**Who You Are:**\\n\\n- You have led projects with a complicated stakeholder space and know how to build cross-functional alignment\\n- You have excellent communication skills and can clearly articulate desired outcomes\\n- You have strong empathy for internal customers\\n- You have a track record of delivering new products and iteratively improving them over time\\n- You have an interest in GraphQL or related technology\\n- You are experienced in API design and microservice architecture\\n- You have the technical capacity to partner with tech leads and help drive incident resolution\\n- You are a great source of engineering talent and have proven ability to hire\\n- You have experience in performance management, career development, etc\\n- You are a strong advocate of software engineering best practices and bring a disciplined approach to testing, continuous delivery, and reducing technical debt\\n\\n**Requirements:**\\n\\n- Previously managed a team of 5 or more engineers\\n- Minimum of 2+ years in software engineering management\\n- BA/BS or higher in Computer Science (or equivalent work experience)\\n- Have worked as a software developer\\n\\n**Blog Post about GraphQL at Twitter:** [++https://about.sourcegraph.com/graphql/graphql-at-twitter++](https://about.sourcegraph.com/graphql/graphql-at-twitter)\\n\\n_We are committed to an inclusive and diverse Twitter. Twitter is an equal opportunity employer. We do not discriminate based on race, ethnicity, color, ancestry, national origin, religion, sex, sexual orientation, gender identity, age, disability, veteran status, genetic information, marital status or any other legally protected status._\\n\\n_San Francisco applicants: Pursuant to the San Francisco Fair Chance Ordinance, we will consider for employment qualified applicants with arrest and conviction records._\\n',\n",
              "    'id': 'cjv1fij8g01js072259ysjdwm',\n",
              "    'title': 'Engineering Manager - Consumer API'},\n",
              "   {'cities': [{'name': 'London'}],\n",
              "    'company': {'name': 'Twitter'},\n",
              "    'description': \"## Who are we?\\n\\nYou'd be joining a team made up of talented people from all over the world, and from many different backgrounds. \\n\\nWe work together to build TweetDeck, the product for professionals and power users who do Twitter at scale.\\n\\nWe care about making work happy and productive for everyone, with the option to work from home when you need, wellness benefits, regular #NoMeetingThursdays, #FocusTuesdays, and 6 months of parental leave. See our team member Andreas's [++Moment++](https://twitter.com/i/moments/826789348901269504) for more insight into team lunches, fun and lego building.\\n\\nWe love sharing knowledge and ideas. Within TweetDeck, we have fortnightly learning seminars. We regularly get together with the other Twitter UK engineering teams for tech talks. And there are many study groups you can join, the most recent being for Machine Learning.\\n\\n## What we’re excited about\\n\\nYou'll be joining TweetDeck at an exciting time, both technically and for our users. \\n\\nWe're currently exploring some brand new projects, which will mean building lots of cool new features.\\n\\nWe're also the first team to adopt Twitter's new GraphQL API – an exciting opportunity to explore big workflow improvements for the whole team, as well as getting to work on services that will transform Twitter engineering. \\n\\n## Community love\\n\\nThere’ll be plenty of opportunities to get involved in the tech community if that’s your thing. We regularly teach [++Code First: Girls++](http://www.codefirstgirls.org.uk/) courses, coding workshops for high school students, and recently hosted [++Codebar++](https://codebar.io/)’s annual conference and bi-monthly [++blackgirl.tech++](http://home.blackgirl.tech/) events. There is a [++Hacks/Hackers++](https://www.meetup.com/HacksHackersLondon/) meetup for journalists (big TweetDeck users) and engineers at Twitter UK every month. And we have company-wide #TwitterForGood days.\\n\\n## The tech stack\\n\\nThe codebase is really exciting. Tweets in columns sounds simple, right? But there is a whole world of complexity and logic to providing tweets and interactions in near-real-time. You'll constantly stumble into new areas and have opportunities to discover other parts of the Twitter codebase. There will always be something new to learn.\\n\\nWe have a microservices architecture, with a modern and clean backend codebase since our recent move from Python to Scala. We aim to write code that’s clear and efficient and make the best use of Scala’s object-oriented functional mix. You’re not expected to know Scala before you join (most of us didn’t), but to be keen to learn – our team includes experience with everything from Java, to Perl, to Clojure, to Ruby. \\n\\nWe use [++Finatra++](https://twitter.github.io/finatra/) as a framework for creating fast and testable HTTP services, which itself builds on the [++Finagle++](https://twitter.github.io/finagle/)RPC and [++TwitterServer++](https://twitter.github.io/twitter-server/). \\n\\nWe’ve also been introducing GraphQL to support our near-real-time delivery of events. \\n\\nOn the data analytics side, we use [++Scalding++](https://github.com/twitter/scalding) and Hadoop for learning about users and their behavior.\\n\\n## Who are you?\\n\\nFirst off, you don’t need a Computer Science degree to apply. We are keen to welcome applicants from all backgrounds. In fact, many people on the team don't have a CS degree or any degree for that matter. Our take-home code samples are real world and practical and require the kind of problem-solving that you will use on the job.\\n\\nBelow are some of the things we like to see in our applicants. The list might seem exhaustive, but don’t let it scare you off. If you’re passionate about services at scale and Twitter, and you think you might be who we're looking for, we encourage you to apply.\\n\\n## What we’re looking for:\\n\\n- You care about helping users succeed in their goals through the features you build\\n- You take a collaborative approach to work closely with and incorporating feedback from, product, design, and engineering\\n- You've mentored others, whether in your work or outside of it and are keen to support colleagues to learn and grow\\n- You can work both autonomously and as part of a team, including collaborating closely with engineers in remote offices\\n- You are interested in challenges at scale\\n- You have shown the ability to learn new programming languages, and/or have prior experience in a JVM-based and/or functional programming language\\n- You’re constructive and supportive in code reviews\\n- You’re disciplined about testing, quality assurance and writing clear, helpful documentation\\n- You are able to be self-directed and drive features and systems from technical design through to production\\n- You can build relationships with other teams and leverage opportunities to collaborate\\n- You’re willing to be periodically part of out-of-hours on-call schedule; we’re flexible if you need to change times - it’s about collectively supporting and owning services we create\\n\\nWe are committed to an inclusive and diverse Twitter. Twitter is an equal opportunity employer. We do not discriminate based on race, color, ethnicity, ancestry, national origin, religion, sex, gender, gender identity, gender expression, sexual orientation, age, disability, veteran status, genetic information, marital status or any legally protected status.\\n\",\n",
              "    'id': 'cjv1eyvy201g807227723ohsa',\n",
              "    'title': 'Backend Engineer (TweetDeck)'},\n",
              "   {'cities': [{'name': 'New York'}],\n",
              "    'company': {'name': 'The New York Times'},\n",
              "    'description': \"Every day, journalists at The New York Times report more than 200 stories from dozens of countries around the world on topics ranging from major international events to the best way to roast a chicken. Those stories are read, listened to, and watched by more than 100 million digital readers each month across our web and mobile products.\\n\\nAll engineers at The New York Times take great pride in building products that live up to the quality and reputation of our journalism. We are looking for backend engineers on a variety of teams to join our organization in impactful, hands-on roles. We value transparency and openness, diversity, learning, community, and continuous improvement. Check out some of our [Times Open blog](https://open.blogs.nytimes.com/) posts, written by engineers and other technical team members: [on working remotely](https://open.nytimes.com/how-to-grow-as-an-engineer-working-remotely-3baff8211f3e), [on developing your career](https://open.nytimes.com/we-dont-just-develop-software-we-re-developing-careers-too-5f4e28e3eee6), and [working with next gen technology](https://open.nytimes.com/supporting-ar-experiences-in-new-york-times-mobile-apps-48c3731a4dbf). Follow us[ @nytdevs on Twitter](https://twitter.com/nytdevs) to see what we’re up to and come be a part of the digital revolution of a 168-year-old institution with a “[mission worth believing in](https://www.youtube.com/watch?v=gY0Fdz350GE).”\\n\\n**You will:**\\n\\n- Contribute to technical discussions to gather requirements and develop product features or solutions while maintaining standard methodologies\\n- Research and document proposed solutions\\n- Build, maintain, and debug server-side applications and tooling\\n- Write unit and integration tests\\n- Develop processes for automating, testing, and deploying your work\\n- Collaborate with Project Management and Product Management and other professionals within your team and across the organization\\n- Contribute to our mission of reaching 10+ million paid subscriptions by 2025\\n\\n**For this role, you should:**\\n\\n- Have empathy for existing solutions and issues\\n- Have pride in your work\\n- Be able to work in a collegial environment with peers from diverse backgrounds and skills\\n- Be a committed bug hunter\\n- Enjoy commenting your code\\n\\n**You should apply if you:**\\n\\n- Have programming and syntax knowledge in Go, Python, Java (7+), Scala, or other similar backend programming languages\\n- Understand data modeling in both SQL based and NoSQL database systems\\n- Understand version control using Git and Github.com\\n\\n**And you have** **experience or interest in** **learning:**\\n\\n- System design and architecture, with an emphasis on building for scale\\n- Docker/Kubernetes\\n- Public cloud platform services: Amazon Web Services (AWS) or Google Cloud Platform (GCP).\\n- Continuous Integration and Continuous Delivery techniques and tooling\\n- Multi-tier application architecture & concepts of networking, load balancing, monitoring and \\\\*nix OS\\n\\n**Some of the teams hiring are:**\\n\\n**Data Ad Products**\\n\\nThe team of software engineers responsible for managing the data platform, microservices, and internal tools and web apps for the advertising business.\\n\\n**Publishing**\\n\\nThe ideal browser-based interface for ensuring creative collaboration in reporting, conceiving, editing and publishing content of the future doesn’t yet exist. We’re making it, and we’re looking for people to join us.\\n\\n**Delivery Engineering**\\n\\nJoin the team that builds developer tools to empower engineering teams to deliver applications faster\\n\\n**The Subscription Platform** Group [works on our e-commerce platforms](https://open.nytimes.com/growing-a-successful-and-collaborative-team-4e4c608ab2fc), anything related to subscriptions, billing and payments for our digital and home delivery subscribers.\\n\\n**Cooking**\\n\\nEnrich people’s lives by making them better, more confident cooks.\\n\\n**Discovery**\\n\\nTeam is focused on making The Times an indispensable destination for curious readers by showcasing our journalistic judgment and creativity in an easily navigable experience.\\n\\n**Content Delivery API (GraphQL)**The Content Delivery API is the primary data source for NYTimes user-facing applications. It is designed and expected to handle bursts exceeding 10,000+ requests per second during breaking news events and also keep up with the general site traffic generated from the website, iOS, and Android apps. \\n\\n**Culture **\\n\\n- We’ve won more Pulitzer Prizes than any other organization (including three in 2018), and you will help power, distribute and expand what is possible for our award-winning journalism.\\n- We believe diversity fuels innovation and creativity, and we have a variety of employee groups dedicated to fostering a diverse and inclusive work environment.\\n- We are a New York-based engineering organization with a remote-friendly workplace that includes engineers around the world.\\n- We are committed to career development and have a formal mentoring program. We encourage our engineers to participate in conferences and we frequently host talks by industry leaders. Recently, we’ve had Sheryl Sandberg, Melinda Gates and Ta-Nehisi Coates.\\n- Every person within the tech organization is expected to spend five full days focusing on learning. We have a generous tuition reimbursement program and you can use this time on career-relevant activities like attending formal classes, internal company training, online training, a self-developed learning program and have the opportunity to teach others.\\n- We run a Maker Week event twice a year, where Design, Product, Project, Marketing and Technology come together to work on compelling, creative, multi-functional projects.\\n\\n**Benefits and Perks:**\\n\\n- Make an impact by supporting our original, independent and deeply reported journalism.\\n- We provide competitive health, dental, vision and life insurance for employees and their families\\n- We support responsible retirement planning with a generous 401(k) company match.\\n- We offer a competitive\\xa0parental leave.\\n- We are committed to career development and ongoing learning supported by a formal mentoring program as well as $8,000 annually for tuition reimbursement.\\n- We have frequent panel discussions and talks by a wide variety of newsmakers and industry leaders.\\n- Join a community committed to the richness of diversity, experiences and talents in the world we cover, supported by a variety of employee resource groups.\\n\\n#LI-NC1\\n\\nThe New York Times is committed to a diverse and inclusive workforce, one that reflects the varied global community we serve. Our journalism and the products we build in the service of that journalism greatly benefit from a range of perspectives, which can only come from diversity of all types, across our ranks, at all levels of the organization. Achieving true diversity and inclusion is the right thing to do. It is also the smart thing for our business. So we strongly encourage women, veterans, people with disabilities, people of color and gender nonconforming candidates to apply.\\n\\nThe New York Times Company is an Equal Opportunity Employer and does not discriminate on the basis of an individual's sex, age, race, color, creed, national origin, alienage, religion, marital status, pregnancy, sexual orientation or affectional preference, gender identity and expression, disability, genetic trait or predisposition, carrier status, citizenship, veteran or military status and other personal characteristics protected by law. All applications will receive consideration for employment without regard to legally protected characteristics.\\n\",\n",
              "    'id': 'cjv1bu5ws00wk0722s5i7p32u',\n",
              "    'title': 'Backend Software Engineer'},\n",
              "   {'cities': [{'name': 'New York'}],\n",
              "    'company': {'name': 'The New York Times'},\n",
              "    'description': \"Join The New York Times as an Engineer Manager, supporting and growing a robust community of engineers. We’re looking for managers across different teams, all focused on building a strong and inclusive team culture as well as working on individual engineers performance, training and hiring, along with day to day management. \\n\\nThe New York Times is respected for its ambitious, high-quality journalism, which has earned it an unmatched number of Pulitzer Prizes, and for its reach and influence. We are transforming the nation’s “newspaper of record” into a media-tech powerhouse. We have a strong Technology department of nearly 500 people, who are well-regarded in the community; they speak at conferences and write about their work. More at: https://open.nytimes.com/ \\n\\n\\n**How We Work**\\n\\nWe employ an Agile/Scrum methodology to deliver reliable software in a predictable way. We push code to production on a regular cadence, and optimize for speed of delivery without compromising on quality. Engineering Managers, while not always directly responsible for delivery, are most definitely responsible for creating a culture and processes that keep developers happy and in the flow as they work on building value. We support Engineering Managers in this role by providing:\\n\\n- Management and professional development training offered in-house\\n- Reimbursement for self-directed management training off-site\\n- Clearly defined career ladders\\n- Managers who really care about your career development and strongly support it\\n- Monthly all-managers meetings and roundtables to share knowledge and learn from peers\\n- A guaranteed week dedicated to learning each year\\n\\n**What You’ll Do**\\n\\n- Recruit, hire, and retain software engineers\\n- Coach and mentor a team of 5-10 software engineers\\n- Give constructive feedback to help your direct reports grow and develop in their professional careers\\n- Facilitate work and remove obstacles\\n- Create and optimize software delivery and operational processes\\n- Work closely with product owners, project managers and other stakeholders to ensure team’s deliveries\\n- Join a highly engaged community of engineering managers who care about engineering culture\\n- Lead a team who is building critical systems or user-facing products that are core to the mission of the New York Times\\n\\n**Must Have**\\n\\n- At least 1-2 years of Engineering Management experience, or at least 5 years of prior software development experience and an interest in becoming a manager of engineers\\n- A strong interest in fostering a safe and inclusive team culture where engineers of diverse backgrounds can thrive\\n- Experience with building and running products or systems in a production environment\\n- A willingness and drive to build high performing teams that others can learn from\\n\\n**Current Open Roles**\\n\\n- _Subscription Platforms Group:_ Join the management team leading the 6 teams that run the technology backbone for our billion-dollar subscriptions business. \\n- _Web Platforms:_ The Web Platforms team is focused on maintaining and evolving the platform powering nytimes.com.\\n- _Games (Mobile and Web):_ Manage engineers on a cross-functional team creating [++puzzles and games++](https://www.nytimes.com/crosswords) for Times subscribers. One team is focused on native apps, and the other uses React, Go, and node.js.\\n- _Publishing Pipeline:_ Come manage the team that is building [++The New York Times Publishing Pipeline++](https://open.nytimes.com/publishing-with-apache-kafka-at-the-new-york-times-7f0e3b7d2077), using Apache Kafka.\\n- _Discovery - Engagement, Mobile:_ The Discovery Group is focused on making The Times an indispensable destination for curious readers by showcasing our journalistic judgment and creativity in an easily navigable native app experience.\\n- _Reader Guidance:_ Manage a small full-stack (React, Go, node.js) team that creates new and interesting digital experiences that help our readers learn and improve their lives.\\n- _Content Delivery API (GraphQL):_ The Content Delivery API is the primary data source for NYTimes user-facing applications. It is designed and expected to handle bursts exceeding 10,000+ requests per second during breaking news events and also keep up with the general site traffic generated from the website, iOS, and Android apps. \\n- _Data Engineering:_ Help lead the teams building the data infrastructure, data API's, and testing and targeting systems that power the data platform of The New York Times.\\n\\n**Culture and Benefits**\\n\\n- You will be helping to power, distribute and expand what is possible for our award-winning journalism. We’ve won more Pulitzer Prizes than any other organization (including three in 2018), and you can celebrate with the award winners in our newsroom.\\n- We believe diversity fuels innovation and creativity, and we have a variety of employee groups dedicated to fostering a diverse and inclusive workplace.\\n- We are a New York- based engineering organization with a remote-friendly workplace that includes engineers around the world.\\n- We are committed to career development and have a formal mentoring program. We encourage our engineers to participate in conferences and we frequently host talks by industry leaders (Sheryl Sandberg, Melinda Gates and Ta-Nehisi Coates are a few recent examples).\\n- Every person within the tech organization is expected to spend five full days focusing on learning. \\xa0We have a generous tuition reimbursement program and you can use this time on career-relevant activities like attending a formal class, internal company training, online training, a self-developed learning program or even by teaching others.\\n- We run a Maker Week event twice a year, where Design, Product, Project, Marketing and Technology come together to work on compelling, creative, cross-functional projects.\\n- We offer a generous parental leave policy. We also offer competitive health and dental insurance as well as 401(k) matching.\\n\\n#LI-AM1\\n\\nThe New York Times is committed to a diverse and inclusive workforce, one that reflects the varied global community we serve. Our journalism and the products we build in the service of that journalism greatly benefit from a range of perspectives, which can only come from diversity of all types, across our ranks, at all levels of the organization. Achieving true diversity and inclusion is the right thing to do. It is also the smart thing for our business. So we strongly encourage women, veterans, people with disabilities, people of color and gender nonconforming candidates to apply.\\n\\nThe New York Times Company is an Equal Opportunity Employer and does not discriminate on the basis of an individual's sex, age, race, color, creed, national origin, alienage, religion, marital status, pregnancy, sexual orientation or affectional preference, gender identity and expression, disability, genetic trait or predisposition, carrier status, citizenship, veteran or military status and other personal characteristics protected by law. All applications will receive consideration for employment without regard to legally protected characteristics.\\n\",\n",
              "    'id': 'cjv1ad4vu00pn07227suaso7q',\n",
              "    'title': 'Engineering Manager'},\n",
              "   {'cities': [{'name': 'New York'}],\n",
              "    'company': {'name': 'The New York Times'},\n",
              "    'description': \"The New York Times is seeking a passionate, experienced Technical Product Manager to lead the platforms team responsible for the GraphQL layer powering our core New York Times website and mobile applications. This role will be especially critical in helping the organization prepare for serving news in the 2020 presidential election, and more broadly, redefining what subscription-driven journalism can be.\\n \\n\\nOur mission is to provide our customers with a deeply useful news service that helps them understand the world and lead richer lives. We are focused on building best-in-class products to satisfy our users curiosity across all surfaces where they need us: from our website and native apps to off-platform partners and newsletters. We work to understand both our consumers and our business deeply and evolve the product quickly.\\n\\nThe ideal candidate will possess a strong blend of strategic thinking and operational skills to get features out the door. You will work in a highly collaborative, cross-functional environment with multiple stakeholders. Your focus will be in establishing a GraphQL data platform that can be leveraged by web and native app feature teams to build consumer-driven products that achieve broader newsroom and business goals of the organization.\\n\\n**We are seeking someone who:**\\n\\n- Can vigilantly prioritize in a rapidly-changing environment;\\n- Can bring clarity to ambiguous and complex situations;\\n- Operates with a sense of urgency;\\n- Understands the technical concepts behind the core components of our GraphQL-based platform and can communicate the what and why of these technologies to both technical and non-technical people;\\n- Understands the tradeoffs between various language and implementation paths and can properly balance the need for product speed, flexibility, and stability with the cost of technical debt;\\n- Can take a high-level, strategic view on the developer experience provided by the data platform and grasp how it impacts product development;\\n- Can articulate and advocate for a product development ecosystem that enhances product capabilities through a properly designed end-to-end stack;\\n- Comfortable coordinating across diverse teams from Systems and Infrastructure to Design and Editorial;\\n- Understands the importance of user research, data, testing, and judgment in the product development process;\\n- Can step outside their defined role in order to get something done;\\n- Is in their element at the intersection of technology, operations, and business; and\\n- Is infinitely curious about the ever-changing platforms on which users consume content.\\n- Is able to work collaboratively with a team of senior backend engineers and architects\\n\\n**Responsibilities:**\\n\\n- Identify opportunities for the GraphQL Platform based on user needs, technical capabilities, revenue impact, and input from stakeholders\\n- Use consumer feedback, site metrics, market research, and competitive analysis to create compelling cases for what we should do and why\\n- Identify, define and drive priorities across multiple technology teams\\n- Define the product roadmap including the strategic approach, key phases of product releases, milestones and deliverables for core news experiences\\n- Represent the needs of both our users and our business to the various technology teams that comprise our flagship website\\n- Ruthlessly prioritize what the team works on and be able to clearly explain why these initiatives are important to our larger company goals\\n- Clearly and effectively communicate the what, the why and the how up and down the organization including, but not limited to major launches, status of roadmap and goals\\n- Build strong cross-departmental collaborative relationships with stakeholders that generate positive feedback (this includes the engaging program stakeholders in the goal-setting process, defining high-level priorities, keeping them in the loop, and smooth execution amongst them)\\n- Scope feature requirements, write use cases and specifications for product launches via Github, JIRA, Confluence and other tools\\n- Monitor key performance metrics, clearly communicate what the numbers represent, and provide insight to drive product development recommendations\\n\\n**Qualifications:**\\n\\n- Passion for The New York Times and our mission.\\n- Minimum of 3 years of product management or technical experience at a medium-large scale media or consumer product focused company.\\n- Bachelor's degree in Computer Science or a related technical field\\n- Excellent customer intuition; demonstrated success in contributing to innovative and user-friendly, customer-facing features and communicating these through vision-setting documentation and architectural diagrams.\\n- Strong technical background, including knowledge of frontend, backend, infrastructure and mobile application technologies, and experience in an agile environment.\\n- Ability to work collaboratively in a highly matrixed organization to create a results-driven, team-oriented environment.\\n- Nimbleness and comfort with ambiguity; a track record of responding quickly to rapidly evolving threats and opportunities.\\n- Ability to know an audience and to communicate clearly and concisely across written, verbal and visual mediums.\\n\\n**Benefits and Perks:**\\n\\n- Make an impact by supporting our original, independent and deeply reported journalism.\\n- We provide competitive health, dental, vision and life insurance for employees and their families\\n- We support responsible retirement planning with a generous 401(k) company match.\\n- We offer a competitive\\xa0parental leave.\\n- We are committed to career development and ongoing learning, and provide employees $8,000 annually for tuition reimbursement.\\n- We have frequent panel discussions and talks by a wide variety of newsmakers and industry leaders.\\n- Join a community committed to the richness of diversity, experiences and talents in the world we cover, supported by a variety of employee resource groups.\\n\\n#LI-JC1\\n\\nThe New York Times is committed to a diverse and inclusive workforce, one that reflects the varied global community we serve. Our journalism and the products we build in the service of that journalism greatly benefit from a range of perspectives, which can only come from diversity of all types, across our ranks, at all levels of the organization. Achieving true diversity and inclusion is the right thing to do. It is also the smart thing for our business. So we strongly encourage women, veterans, people with disabilities, people of color and gender nonconforming candidates to apply.\\n\\nThe New York Times Company is an Equal Opportunity Employer and does not discriminate on the basis of an individual's sex, age, race, color, creed, national origin, alienage, religion, marital status, pregnancy, sexual orientation or affectional preference, gender identity and expression, disability, genetic trait or predisposition, carrier status, citizenship, veteran or military status and other personal characteristics protected by law. All applications will receive consideration for employment without regard to legally protected characteristics.\\n\",\n",
              "    'id': 'cjv1a7jzr00nz072208jtyil3',\n",
              "    'title': 'Technical Product Manager, GraphQL Platforms'},\n",
              "   {'cities': [{'name': 'New York'}],\n",
              "    'company': {'name': 'The New York Times'},\n",
              "    'description': \"Every day, journalists at the New York Times report more than 200 stories from dozens of countries around the world on topics ranging from major international events to the best way to roast a chicken. Those stories are read, listened to and watched by millions of users across our web and mobile products.\\n\\nAs a frontend engineer at the New York Times, you will have the opportunity to work on the most impactful surfaces of our products, from custom editing interfaces for our journalists to web, mobile and email products for millions of users around the world. You can also contribute to the development of new products beyond our core journalism, such as the Crossword and NYT Cooking.\\n\\nWe are looking for frontend engineers of all levels and backgrounds to join our product teams. We have a number of teams currently looking for frontend engineers.\\n\\nCustomer Product\\n\\nHave a meaningful impact on the future of the business by improving the experience of subscribing to the Times.\\n\\nMultimedia\\n\\nImprove our video, audio, augmented reality and virtual reality platforms.\\n\\nReader Experience\\n\\nWork closely with the newsroom to develop new features and services for our readers.\\n\\nCMS\\n\\nJoin the team that builds the tools that our journalists use to do their work.\\n\\nNews Experience\\n\\nWork closely with the newsroom on our core news products.\\n\\nAd Frameworks\\n\\nHelp us build a premium advertising experience on par with our journalism.\\n\\nParenting\\n\\nBuild a fantastic new resource for parents, helping them feel more confident by building on the Times' strong foundation of well-researched journalism.\\n\\nCooking\\n\\nEnrich people’s lives by making them better, more confident cooks.\\n\\n**As a Frontend Engineer, you will:**\\n\\n- Join a cross-functional team that includes peers from design, product and often editors from the newsroom\\n- Work with current technologies including React, GraphQL and CSS Modules\\n- Have a voice in the direction of our products\\n- Work at scale to help deliver our journalism to millions of users around the world\\n- Have the opportunity to work with all parts of the stack and contribute to broader architectural discussions within the organization\\n- Be encouraged to participate in open-source projects and share your work at conferences and the[ ++Times Open++](https://open.nytimes.com/) blog.\\n\\n**To thrive in this role, you should:**\\n\\n- At least one year of professional experience working with current web technologies\\n- Be able to work in a highly collaborative environment with peers from different backgrounds and skill sets\\n- Enjoy finding creative solutions to technical challenges and appreciate the balance between strong convictions and a pragmatic approach\\n- Show curiosity about the world and a desire to learn and grow\\n- Have pride in your work\\n\\nCulture and Benefits\\n\\n- You will be helping to power, distribute and expand what is possible for our award-winning journalism. We’ve won more Pulitzer Prizes than any other organization (including three in 2018), and you can celebrate with the award winners in our newsroom.\\n- We believe diversity fuels innovation and creativity, and we have a variety of employee groups dedicated to fostering a diverse and inclusive workplace.\\n- We are a New York- based engineering organization with a remote-friendly workplace that includes engineers around the world.\\n- We are committed to career development and have a formal mentoring program. We encourage our engineers to participate in conferences and we frequently host talks by industry leaders (Sheryl Sandberg, Melinda Gates and Ta-Nehisi Coates are a few recent examples).\\n- Every person within the tech organization is expected to spend five full days focusing on learning. \\xa0We have a generous tuition reimbursement program and you can use this time on career-relevant activities like attending a formal class, internal company training, online training, a self-developed learning program or even by teaching others.\\n- We run a Maker Week event twice a year, where Design, Product, Project, Marketing and Technology come together to work on compelling, creative, cross-functional projects.\\n- We offer a generous parental leave policy. We also offer competitive health and dental insurance as well as 401(k) matching.\\n\\n#LI-SL1\\n\\nThe New York Times is committed to a diverse and inclusive workforce, one that reflects the varied global community we serve. Our journalism and the products we build in the service of that journalism greatly benefit from a range of perspectives, which can only come from diversity of all types, across our ranks, at all levels of the organization. Achieving true diversity and inclusion is the right thing to do. It is also the smart thing for our business. So we strongly encourage women, veterans, people with disabilities, people of color and gender nonconforming candidates to apply.\\n\\nThe New York Times Company is an Equal Opportunity Employer and does not discriminate on the basis of an individual's sex, age, race, color, creed, national origin, alienage, religion, marital status, pregnancy, sexual orientation or affectional preference, gender identity and expression, disability, genetic trait or predisposition, carrier status, citizenship, veteran or military status and other personal characteristics protected by law. All applications will receive consideration for employment without regard to legally protected characteristics.\\n\",\n",
              "    'id': 'cjv19z8e800lu0722qzvn4ynv',\n",
              "    'title': 'Web Engineer'},\n",
              "   {'cities': [{'name': 'New York'}],\n",
              "    'company': {'name': 'Bustle Digital Group'},\n",
              "    'description': 'Bustle is seeking people to join our diverse team of engineers who are building and maintaining a world class publishing platform using the best tools and technologies available.\\n\\n### **Responsibilities** \\n\\n- Write APIs that handle millions of calls every day. Work with modern backend technologies like Node.js, GraphQL, Redis, and Elasticsearch.\\n- Build completely serverless systems on top of AWS services like Lambda, Kinesis, and Api Gateway. At Bustle, we are always trying out the latest and greatest that AWS and competitors have to offer.\\n- Write clean, functional, reusable, and testable \"ES Next\" code through tooling with Babel and TypeScript.\\n- Contribute to our many existing open source projects, or create your own.\\n- Experiment with new languages, frameworks, and libraries, and understand why they might be a good fit.\\n- Help set the direction of what our platform will look like as we adapt to changes for years to come.\\n\\n### **Requirements**\\n\\n- You have a minimum of 4 years experience working as a software engineer\\n- You like learning and teaching\\n- You have knowledge of JavaScript and experience with other languages\\n- You are comfortable with cloud infrastructure (Google Cloud or AWS)\\n- You like improving the areas in which you live and work. (Code, Processes, Communication)\\n- You have good interpersonal skills and the ability to communicate with colleagues across various levels of seniority\\n\\n_Don’t meet these requirements? We encourage you to apply regardless. All exceptional candidates will be considered._\\n',\n",
              "    'id': 'cjuvpgnxt03si0735lewc2ixb',\n",
              "    'title': 'Platform Engineer'},\n",
              "   {'cities': [{'name': 'London'}],\n",
              "    'company': {'name': 'Verve'},\n",
              "    'description': 'Verve is building a global platform that enables advocates to sell the products they love to their friends. Our entire service is built using Python 3, Django, GraphQL, React.js and SASS and we need a Frontend Engineer to join our team and contribute significantly to the software and system design of our services. You’ll be working in an inclusive team that values collaboration and learning in a company growing rapidly and taking on new challenges.\\n\\n## **REQUIREMENTS**\\n\\nIn the next 12 months you will:\\n\\n- Contribute towards meeting your team goals by growing our existing platform using React.js, GraphQL, Relay, Apollo and SASS on top of multiple internal and external APIs integrating various ticketing providers and payment processing platforms.\\n- Collaborate with your team to gain understanding of our clients, customers and internal users needs to be able to implement solutions that solve their problems\\n- Participate in a collaborative engineering culture by engaging in peer to peer feedback and code reviews to support the continuous improvement of your team as measured by Spotify squad health checks\\n- Use test automation and agile practices to deliver features continuously to production to provide an excellent customer experience in a fast-paced startup environment\\n- Be trusted with access to all of our production systems and take part in our DevOps culture by participating in daily releases and technical customer support rota\\n\\n## **BENEFITS**\\n\\n**About Verve**\\n\\nVerve is building a platform which enables our global network of advocates to sell products and services they love to their friends in exchange for unique experiences and rewards. We‘ve established a beachhead in live entertainment and work with some of the biggest events in the world, and are rapidly expanding our festival and event portfolio across the U.S., UK, Europe, and Australasia. As we continue to expand rapidly within this market, we’re also developing and launching exciting new technology for events to connect directly with their biggest fans. At Verve we believe in a culture of freedom and ownership.\\n\\nWe empower you to own the value you create and impact on our future success. And we believe that to act as an owner you should be empowered to work in the way that enables you to deliver the best results – how and when you do is up to you. You choose your hours, where you work, the meetings you attend and the amount of holiday to take in order to create the most value and be at your best.\\n\\n_Verve care deeply about helping the tech industry become a more inclusive and diverse place and we work hard to lead by example. We are committed to Equal Employment Opportunity through attracting and retaining a complementary team of employees and building an inclusive environment for all._\\n\\n_**Salary:**_ _£50k-£60k base + equity; unlimited holiday_\\n',\n",
              "    'id': 'cjuvo4tcn03h207350gilussi',\n",
              "    'title': 'Frontend Engineer'},\n",
              "   {'cities': [{'name': 'London'}],\n",
              "    'company': {'name': 'Verve'},\n",
              "    'description': 'Verve is building a global platform that enables advocates to sell the products they love to their friends. Our entire service is built using Python 3, Django, GraphQL, React.js and SASS and we need a Senior Frontend Engineer to join our team and contribute significantly to the software and system design of our services. You’ll be working in an inclusive team that values collaboration and learning in a company growing rapidly and taking on new challenges.\\n\\n## **REQUIREMENTS**\\n\\nIn the next 12 months you will:\\n\\n- Contribute towards our company success by growing our existing platform using React.js, GraphQL, Relay, Apollo and SASS on top of multiple internal services and including external APIs (including integrate various ticketing providers and payment processing platforms)\\n- Collaborate with product, design and other teams to gain sufficient business understanding to serve the needs of our clients, customers and colleagues and to support your team members in delivering solutions\\n- Balance the trade-offs of delivering sustainable code that provides an excellent customer experience in a fast-paced startup environment\\n- Model good leadership behaviour by engaging in peer to peer feedback and code reviews to foster a healthy, collaborative engineering culture as measured by Spotify-style squad health checks\\n- Use test automation and agile practices to deliver features continuously to production, measured by feedback and daily releases going smoothly\\n- Be trusted with access to all of our production systems and improve our DevOps culture by participating in daily releases and technical customer support rota\\n\\n## **BENEFITS**\\n\\n**About Verve**\\n\\nVerve is building a platform which enables our global network of advocates to sell products and services they love to their friends in exchange for unique experiences and rewards. We‘ve established a beachhead in live entertainment and work with some of the biggest events in the world, and are rapidly expanding our festival and event portfolio across the U.S., UK, Europe, and Australasia. As we continue to expand rapidly within this market, we’re also developing and launching exciting new technology for events to connect directly with their biggest fans. At Verve we believe in a culture of freedom and ownership.\\n\\nWe empower you to own the value you create and impact on our future success. And we believe that to act as an owner you should be empowered to work in the way that enables you to deliver the best results – how and when you do is up to you. You choose your hours, where you work, the meetings you attend and the amount of holiday to take in order to create the most value and be at your best.\\n\\n_Verve care deeply about helping the tech industry become a more inclusive and diverse place and we work hard to lead by example. We are committed to Equal Employment Opportunity through attracting and retaining a complementary team of employees and building an inclusive environment for all._\\n\\n_**Salary:**_ _£70k-£75k base + equity; unlimited holiday_\\n',\n",
              "    'id': 'cjuvo26eu03g407350guu2gee',\n",
              "    'title': 'Senior Frontend Engineer'},\n",
              "   {'cities': [{'name': 'London'}],\n",
              "    'company': {'name': 'Verve'},\n",
              "    'description': 'Verve is building a global platform that enables advocates to sell the products they love to their friends. Our entire service is built using Python 3, Django, GraphQL, React.js and SASS and we need a Senior Backend Engineer to join our team and contribute significantly to the software and system design of our services. You’ll be working in an inclusive team that values collaboration and learning in a company growing rapidly and taking on new challenges.\\n\\n## **REQUIREMENTS**\\n\\nIn the next 12 months you will:\\n\\n- Contribute towards our company success by growing our existing platform using Python 3, Django 2.0 and GraphQL on top of multiple internal services and including external APIs (including integrate various ticketing providers and payment processing platforms)\\n- Collaborate with product, design and other teams to gain sufficient business understanding to serve the needs of our clients, customers and colleagues and to support your team members in delivering solutions\\n- Balance the trade-offs of delivering sustainable code that provides an excellent customer experience in a fast-paced startup environment\\n- Model good leadership behaviour by engaging in peer to peer feedback and code reviews to foster a healthy, collaborative engineering culture as measured by Spotify-style squad health checks\\n- Use test automation and agile practices to deliver features continuously to production, measured by feedback and daily releases going smoothly\\n- Be trusted with access to all of our production systems and improve our DevOps culture by participating in daily releases and technical customer support rota\\n\\n## **BENEFITS**\\n\\n**About Verve**\\n\\nVerve is building a platform which enables our global network of advocates to sell products and services they love to their friends in exchange for unique experiences and rewards. We‘ve established a beachhead in live entertainment and work with some of the biggest events in the world, and are rapidly expanding our festival and event portfolio across the U.S., UK, Europe, and Australasia. As we continue to expand rapidly within this market, we’re also developing and launching exciting new technology for events to connect directly with their biggest fans. At Verve we believe in a culture of freedom and ownership.\\n\\nWe empower you to own the value you create and impact on our future success. And we believe that to act as an owner you should be empowered to work in the way that enables you to deliver the best results – how and when you do is up to you. You choose your hours, where you work, the meetings you attend and the amount of holiday to take in order to create the most value and be at your best.\\n\\n_Verve care deeply about helping the tech industry become a more inclusive and diverse place and we work hard to lead by example. We are committed to Equal Employment Opportunity through attracting and retaining a complementary team of employees and building an inclusive environment for all._\\n\\n_**Salary:**_ _£70k-£75k base + equity; unlimited holiday_\\n',\n",
              "    'id': 'cjuvnyqqf03f10735p43xo5a0',\n",
              "    'title': 'Senior Backend Engineer'},\n",
              "   {'cities': [{'name': 'London'}],\n",
              "    'company': {'name': 'Verve'},\n",
              "    'description': 'Verve is building a global platform that enables advocates to sell the products they love to their friends. Our entire service is built using Python 3, Django, GraphQL, React.js and SASS and we need a Backend Engineer to join our team and contribute significantly to the software and system design of our services. You’ll be working in an inclusive team that values collaboration and learning in a company growing rapidly and taking on new challenges.\\n\\n## **REQUIREMENTS**\\n\\nIn the next 12 months you will:\\n\\n- Contribute towards meeting your team goals by growing our existing platform using Python, Django and Graphene on top of multiple internal and external APIs integrating various ticketing providers and payment processing platforms.\\n- Collaborate with your team to gain understanding of our clients, customers and internal users needs to be able to implement solutions that solve their problems\\n- Participate in a collaborative engineering culture by engaging in peer to peer feedback and code reviews to support the continuous improvement of your team as measured by Spotify squad health checks\\n- Use test automation and agile practices to deliver features continuously to production to provide an excellent customer experience in a fast-paced startup environment\\n- Be trusted with access to all of our production systems and take part in our DevOps culture by participating in daily releases and technical customer support rota\\n\\n## **BENEFITS**\\n\\n**About Verve**\\n\\nVerve is building a platform which enables our global network of advocates to sell products and services they love to their friends in exchange for unique experiences and rewards. We‘ve established a beachhead in live entertainment and work with some of the biggest events in the world, and are rapidly expanding our festival and event portfolio across the U.S., UK, Europe, and Australasia. As we continue to expand rapidly within this market, we’re also developing and launching exciting new technology for events to connect directly with their biggest fans. At Verve we believe in a culture of freedom and ownership.\\n\\nWe empower you to own the value you create and impact on our future success. And we believe that to act as an owner you should be empowered to work in the way that enables you to deliver the best results – how and when you do is up to you. You choose your hours, where you work, the meetings you attend and the amount of holiday to take in order to create the most value and be at your best.\\n\\n_Verve care deeply about helping the tech industry become a more inclusive and diverse place and we work hard to lead by example. We are committed to Equal Employment Opportunity through attracting and retaining a complementary team of employees and building an inclusive environment for all._\\n\\n_**Salary:**_ _£50k-£60k base + equity; unlimited holiday_\\n',\n",
              "    'id': 'cjuvnvgsb03df0735p7ixb5k6',\n",
              "    'title': 'Backend Engineer'},\n",
              "   {'cities': [{'name': 'San Francisco'}],\n",
              "    'company': {'name': 'Verbling'},\n",
              "    'description': \"Javascript and specifically React are crucial to Verbling. We are looking for someone who's excited about getting their hands dirty in all parts of the stack.\\n\\nThis is a selection of the frameworks, services, and tools that make up Verbling: Node.js, React, React Native, GraphQL, Relay, MongoDB, Redis, ElasticSearch, Docker.\\n\\nExcited to explore these in depth? Here’s what we’re looking for:\\n\\nYou are an experienced Javascript developer who wants to get in on building the future of ed tech from the bottom up. You want to be an integral part in inventing new ways for people to learn foreign languages.\\n\\nYou love to learn, and equally love to share your knowledge with others. You’re both a listener and contributor. You are a great communicator and you take care to understand before making yourself understood.\\n\\nYour code is architected for scalability, re-use, and testability. Your operators are always === and you are a master of closures. You have strong opinions on code structure and modularization. You're pretty darn excited about React, Relay, generators, and ES6/7.\\n\\n## **Responsibilities**\\n\\nWhat you’ll be doing\\n\\n- Own and drive projects from idea spec to production\\n- Work closely with product and design teams\\n- Continually iterate on product features using analytics and user feedback\\n\\n## **Requirements**\\n\\nWhat we expect\\n\\n- 4-year Computer Science degree or 4+ years professional software development experience.\\n- Javascript experience\\n- Always thinking about scalability and performance bottlenecks\\n- A test-driven mindset\\n- Submit the Verbling take-home engineering challenge, provided upon application\\n\\n## **Bonus**\\n\\nNice to have\\n\\n- Experience with Node.js and React Native\\n- Interest in spoken languages\\n- Open-source contributions\\n- Experience in NoSQL; MongoDB, CouchDB, Redis, or similar\\n- Experience in GraphQL/Relay\\n\",\n",
              "    'id': 'cjuvney9q03b30735uzbz7cvb',\n",
              "    'title': 'React Engineer'},\n",
              "   {'cities': [{'name': 'Berlin'}, {'name': 'Giessen'}],\n",
              "    'company': {'name': 'GraphCMS'},\n",
              "    'description': \"We are looking for a Lead Frontend Developer, who will help us improve the most advanced headless content management system on the market and who knows how to design and architect complex applications. Someone who knows their _\\\\*\\\\*\\\\_proto\\\\_\\\\*\\\\*_ from their _\\\\_prototype\\\\__. Someone who has solid experience in modern frontend libraries and tools, like Typescript, React, GraphQL, and who cares about performance, accessibility, maintainability, modularity, pragmatism, security, etc. Someone who enjoys working on applications that focus on providing the best user experience.\\n\\nThis is your opportunity to have an immense impact on an aspiring startup.\\n\\nWhen working for GraphCMS, you aren't just working for a software company - you are working to build the most advanced content management system out there, either by supporting our software team, by growing our reach or by closing deals with our customers. You will play an essential part in the history of GraphCMS and can help to make it huge!\\xa0\\xa0\\n\\nGraphCMS offers a dynamic workplace environment, that helps everyone to unfold their creativity. We don't believe in the nine-to-five mentality, your work hours are as flexible as you are. The enthusiastic and thriving work culture will push you towards your best performance and your impact will be immediately observable. Help us to show the world, why we are the best!\\n\\n**Responsibilities**\\n\\n- Take ownership in architecting, building, testing, and delivering our web application using Typescript, Webpack, React, Graphql\\n- Develop clean, secure, extensible, reusable, and maintainable code meeting architectural objectives.\\n- Collaborate with cross-functional teams to define, design, and ship new features\\n- Research, evaluate, and implement new technologies to maximise technology efficiency\\n- Constant improvement of our frontend capabilities\\n- Be heavily involved in the end-to-end lifecycle of features, from concept to deployment\\n- Contribute to technical and architectural decision-making, which aligns with overall company and engineering strategy\\n- Lead the team to produce high-quality code and continuously improve it\\n- Help the team find and analyze pain points in the platform, and work together on strategic solutions to address them\\n- Help the team manage tech debts and how to tackle them. Analyze and understand the impact of proposed Engineering initiatives, giving visibility of initiatives across the team and support their implementation\\n- Report to the Head of Development\\n- Teach us what we don’t know and how you want to improve GraphCMS\\n\\n### **Requirements**\\n\\n- You’ve got experience leading a team through successful architectural and/or technical decisions\\n- You show maturity in tradeoffs, make sound decisions, and plan well\\n- Good oral and written communication in English (German is a plus)\\n- You’ve got experience working on a dynamic product that is ever changing and evolving rapidly\\n- You take ownership and feel responsible for the product as a whole\\n- You have been a driver for good coding practices and principles\\n- You have a deep understanding of Javascript and have experience with various technologies, such as React. Having experience with the full stack is a plus\\n- Prior experience in leading technical teams\\n- You’re an empathetic person with a big appetite for success\\n\\n**Nice To Have**\\n\\n- Experience with SaaS products\\n- Experience with GraphQL and its tools\\n\\n**What We Offer**\\n\\n- Inspiring workplace environment\\n- Competitive Salaries\\n- MacBooks\\n- Education\\n- Team mentality\\n- Enthusiastic startup culture\\n- Personal Growth\\n\\n**Bonus:\\xa0**If you aren’t the right one for the job, but you know our perfect candidate, send us your referral - we will reward you with a\\xa0**1,5k bonus**, if this person gets hired!\\n\",\n",
              "    'id': 'cjuvmzut4032n0735ytyq3ztv',\n",
              "    'title': 'Lead Frontend Developer (m/f/d)'},\n",
              "   {'cities': [{'name': 'Bangalore'}],\n",
              "    'company': {'name': 'Hasura'},\n",
              "    'description': '### **Careers at Hasura**\\n\\n[Hasura](https://hasura.io/) is a venture-backed open-source technology company with offices in San Francisco and Bangalore.\\n\\nOur core project, the Hasura GraphQL engine, sits at the intersection of the GraphQL & serverless movements and empowers developers to build powerful, scalable applications easily. Since launch, the Hasura GraphQL Engine has been one of the fastest growing open-source projects in the world.\\n\\nWe are very excited to be at the junction of these 2 massive ecosystem trends, and we are looking for amazing people who are as excited as we are to join us on this journey!\\n\\n### **About the role:**\\n\\nWe are looking to recruit a full-stack engineer who’ll become an expert on building and managing apps with GraphQL Engine, and will use this expertise to support developers in the Hasura community and in Enterprises by helping them troubleshoot their issues and guide them on how to get the best out of Hasura.\\n\\nYou will also be expected to gradually take ownership of community content in the GraphQL Engine repo, anticipating and catering to the needs of the community with boilerplates, sample apps, tools, etc.\\n\\n### **Some of the specific responsibilities include:**\\n\\n1. Support developers by helping them diagnose and troubleshoot issues, and, if required, coordinate with other members of the engineering team to see these issues through to resolution within agreed time limits.\\n2. Provide feedback from the community, and highlight commonly seen issues and points of friction in the developer experience. You will then work with the product team on incorporating the feedback into the product roadmap and documentation.\\n3. Curate and own the roadmap for the community content in the GraphQL Engine repo. You will be expected to triage requests for new content or anticipate the need for such content in conjunction with product releases, and then deliver this content to the community.\\n4. Showcase community content on the Hasura website, blog, social media or on 3rd party blogs.\\n5. Develop tools and content to help improve how we support developers or organisations using GraphQL Engine.\\n\\n### **What we are looking for:**\\n\\n1. Experience with application development across the stack like javascript-based frameworks like ReactJS, etc. for frontend and backend frameworks like Rails, Django, NodeJS/Express etc.\\n2. An understanding or working knowledge of GraphQL, Serverless, Docker/Kubernetes will be considered a major plus.\\n3. Very good written & spoken communication skills in English. Other languages will be a plus.\\n4. Empathy - the ability to understand and put the needs of the community first.\\n5. Being very organized & communicating proactively.\\n6. Any prior experience in a dev advocacy, customer success role, or experience with similar roles/responsibilities as part of personal/work projects will be a plus.\\n\\n### **Working at Hasura:**\\n\\nWe are a small team at the beginning of our journey to in GraphQL and serverless ecosystems. Through your work at Hasura, you will have the opportunity to make a lasting impact on both Hasura as well as the larger technology community.\\n\\nAs a team, we take a lot of pride in our work. We obsess over the user experience, and our first priority as a company will always be to make things easier for the user. We are an equal opportunity employer and do not tolerate discrimination of any kind.\\n\\nThis role offers a lot of learning opportunities for cutting-edge technologies across the stack. You will constantly interact and learn with engineers who use them on a daily-basis and are the driving the next-generation app development experience using GraphQL and serverless.\\n\\n### **Benefits:** \\n\\n1. Competitive salary\\n2. Health insurance\\n3. Generous vacation policy\\n\\n### **How to apply**\\n\\nIf this role interests you, please send your resume to [work@hasura.io](mailto:work@hasura.io). Please do include your portfolio, a writing sample (e.g. a blog post on implementing a developer use-case) and any other relevant links/material.\\n',\n",
              "    'id': 'cjuvg9w2202yt0735as732bqx',\n",
              "    'title': 'Full-stack Developer'},\n",
              "   {'cities': [{'name': 'Bangalore'}],\n",
              "    'company': {'name': 'Hasura'},\n",
              "    'description': '[Hasura.io](https://hasura.io/) is hiring senior Haskell developers. We build [tools for developers](https://github.com/hasura/) to lessen the effort that goes into building backends for applications. One of our core products is [graphql-engine](https://github.com/hasura/graphql-engine) which gives the developer a realtime GraphQL backend on a Postgres database.\\n\\nWe are a fairly small team. We are hiring a Senior Haskell Developer.\\n\\n### **Requirements:**\\n\\nWe are looking for someone who\\n\\n- has extensive Haskell experience\\n- has architected large scale applications in Haskell\\n- has an understanding of the current best practices for writing production quality code\\n- knows how to optimise Haskell code for performance\\n- can guide the less experienced Haskell developers on the team\\n\\nGood to have\\n\\n- Experience working with relational databases, Postgres in particular\\n- Interested in speaking at conferences\\n',\n",
              "    'id': 'cjuvg4w1g02wk0735x798yok6',\n",
              "    'title': 'Senior Haskell Engineer'},\n",
              "   {'cities': [{'name': 'New York'}],\n",
              "    'company': {'name': 'Kickstarter'},\n",
              "    'description': \"Kickstarter is looking for a Senior Full Stack Engineer in our Brooklyn office to work on high-visibility features that allow creators to build and grow their project’s community on the platform.\\n\\n**About the Team**\\n\\nOn the Project Community team, we’re helping creators reach, gather, and build backer communities around their projects. We’re tackling issues like helping creators reach their network, designing better channels for creators and backers to communicate more effectively, and developing resources for both practical and creative support. Come join our team as we work to strengthen communities for all Kickstarter creators!\\n\\n**About the Role**\\n\\nWe’re looking for an engineer who loves participating in the entire process of creating a feature—from ideation to implementation. We're seeking a collaborative engineer who is passionate and supportive, and can apply their technical experience across the stack. Our engineering team works closely with product managers, designers, insights (data team), and more to iteratively research, experiment, and develop solutions to solve real problems for Kickstarter creators and backers.\\n\\n**About You**\\n\\n- You love pair programming and are excited about working collaboratively with other engineers.\\xa0\\n- You are a great facilitator and advisor in technical decision making.\\n- You have experience with agile methodologies or other iterative processes.\\n- You are an empathetic advocate for engineering best practices.\\n- You have experience, or are excited about, working with TypeScript, React, Redux, Apollo, or similar frameworks.\\n- You have experience with backend engineering, either through frameworks such as Ruby on Rails or microservices.\\n- You have interest in or experience with GraphQL.\\n- You have experience with SQL and NoSQL databases.\\n- You work with an eye toward performance while building new features.\\n- You have experience iterating on and maintaining live products.\\n- You have excellent communication skills and are comfortable giving and receiving feedback.\\n- We are supportive of applicants with non-standard background for a software engineer (those who have transitioned from other careers, people without engineering degrees, etc.)\\n\",\n",
              "    'id': 'cjuvfpm4n02mf07356tkie8yc',\n",
              "    'title': 'Senior Full Stack Engineer, Project Community'},\n",
              "   {'cities': [{'name': 'New York'}],\n",
              "    'company': {'name': 'Kickstarter'},\n",
              "    'description': 'Kickstarter is seeking an experienced software engineer in our Brooklyn office who wants to help bring creative projects to life through our GraphQL API.\\n\\n**About the Team**\\n\\nKickstarter’s API will enable developers and third-party partners to connect directly with our community. Working alongside the product organization at large, our small and mighty API team is defining the essential elements of our platform to unlock developers’ imaginations. We work in close partnership with designers and product managers in an iterative and data-driven process, building and refining our platform to support our mission of bringing creative projects to life.\\n\\n**About the Role**\\n\\nIn this role you will be building and maintaining features with an understanding of how to design APIs at scale.\\xa0You enjoy collaborating with various teams and communicate frequently with those who interact with our API and backend systems. The API team is a growing team that focuses on improving the Kickstarter experience for our internal and external partners through our GraphQL API. You will be a core contributor to the growth and maturity of our new API by helping us build it from the early stages.\\n\\n**About You**\\n\\n- You have 3+ years of professional experience designing fullstack or backend applications.\\n- You have experience in designing and shipping APIs.\\n- You work with a strength towards user-friendly API design, clear implementation and performant solutions.\\n- You have a strong understanding of databases and data structures.\\n- You have excellent communication skills and are good at giving and receiving feedback.\\n- You enjoy working collaboratively and participating in team discussions and planning.\\n- You have experience mentoring other engineers on various languages and/or frameworks.\\n- You have experience working iteratively and maintaining live products.\\n- You write tests to ensure delivery of high-quality software.\\n- Bonus (optional but nice to have skills!) - familiarity with working on a production GraphQL environment and/or production API environment.\\n\\nKickstarter is an equal opportunity employer. As part of our commitment to fight for equality, we work to ensure a fair and consistent interview process. We celebrate diversity and we are committed to an inclusive work environment.\\n',\n",
              "    'id': 'cjuvfm26d02lb07350v12c2d6',\n",
              "    'title': 'Senior Software Engineer, API'},\n",
              "   {'cities': [{'name': 'New York'}],\n",
              "    'company': {'name': 'Kickstarter'},\n",
              "    'description': \"Kickstarter PBC is looking for a motivated Front-End Engineer to join our System Integrity team.\\n\\n**About the Team\\xa0**\\n\\nSystem Integrity is a new team for Kickstarter, working to ensure that the services we offer are fair and functioning for backers, creators, and Kickstarter PBC. We’re a curious, collaborative and multidisciplinary team who employ a unique and diverse skill set to make the communities of Kickstarter equitable and sustainable. Harnessing insights from data science, behavioral economics and system design, we strive to develop products and policies that will allow Kickstarter’s model to flourish. We utilize both proactive and reactive approaches to strategically evaluate the systemic impacts of new and changing features as well as to identify opportunities and threats to the health of Kickstarter’s ecosystem. Currently we’re working to use machine learning to gain a deeper understanding of how backers feel about supporting creators on Kickstarter, in addition to developing means of increasing campaign transparency.\\n\\n**About the Role** \\n\\nAs a Front End Engineer, you’ll work closely with designers, product managers and other engineers to create beautiful, usable interfaces for desktop and mobile web. With the ultimate goal of building trust within our ecosystem, you'll develop new features that both inspire creators to share the inner workings of their creative processes and make backers feel informed and engaged as they take part in a creator's journey.\\n\\nWe build features with a modern frontend stack including React, Redux, Apollo, TypeScript, Atomic CSS and Sass on top of a GraphQL API and a Ruby on Rails backend. We use iterative and data-driven processes to build and refine our platform that supports our mission of bringing creative projects to life.\\n\\n**About You\\xa0**\\n\\n- You empathize with creators and recognize the challenges of the creative process and bringing projects to life.\\xa0\\n- You have solid professional experience working with React or similar frameworks as well as Javascript and CSS.\\n- You enjoy working collaboratively and participating in team discussions and planning.\\xa0\\n- You have a pragmatic approach to writing well-tested code.\\xa0\\n- You have experience working iteratively and maintaining live products.\\xa0\\n\\nKickstarter is an equal opportunity employer. As part of our commitment to fight for equality, we work to ensure a fair and consistent interview process. We celebrate diversity and we are committed to an inclusive work environment.\\n\",\n",
              "    'id': 'cjuvfio1402jo0735ydkqxs3s',\n",
              "    'title': 'Front End Engineer'},\n",
              "   {'cities': [{'name': 'London'}],\n",
              "    'company': {'name': 'Formidable'},\n",
              "    'description': \"You're not an expert developer yet, but you will be. You want to take a crack at something big, and we want to buy into the ground floor of your stellar talent. That’s why we want to hire you now.\\n\\n\\n\\nFormidable in London is looking for developers who may not have a traditional software development background. We’re eager to take a chance on smart, motivated people with a demonstrated ability to get functional web apps to clients. This role provides on-the-job training doing real work for real clients with coworkers who are actively pushing the boundaries of the modern open-source web.\\n\\n\\nYou've been exploring the modern JavaScript stack—tools like Node, GraphQL, React, or React Native. You’re ready to take on bigger projects with higher coding requirements, and we’re ready to give them to you.\\n\\n\\nAt Formidable, you’ll build bleeding-edge web apps at scale. You’ll work across the full stack, from server-side APIs to client-side UI. You’ll be involved in the development process from brainstorming all the way through to production. Above all, you’ll level up in your craft: work with powerful technologies, get frequent code reviews from your friendly veteran colleagues, and learn from continuing-education programs. Soon, we hope, you’ll be a senior engineer who runs projects, leads a team, and mentors aspiring developers who are where you are today.\\n\\n\\nHow will we know you have potential to grow in this role? You already have completed projects to your name. You care about what we care about: clean code, sensible architecture, and readability over cleverness. And you’re OK with being uncomfortable, admitting when you don’t know something, and working with others to get better. Software engineering is difficult, and we’ll expect you to learn quickly and meet our high standards.\\nStill sound good? Let’s talk.\\n\\n\\n**What You’ll Do**\\n• Join a Formidable team as an engineer\\n• Gather requirements\\n• Write clean, readable code, mostly Javascript\\n• Write tests\\n• Expand your full-stack development knowledge\\n▾ React\\n▾ React Native\\n▾ Node\\n▾ GraphQL\\n• Collaborate, give and receive feedback, and grow\\n\\n\\n**What You Have**\\n• Portfolio of completed projects—websites or apps\\n• Drive to learn and grow\\n• Understanding of engineering for the web: client/server architecture, REST, etc.\\n• Front-end experience:\\n▾ HTML5 & CSS3\\n▾ DOM manipulation\\n▾ Some experience with React\\n\\n\\n**Extra Credit**\\n• Experience gathering requirements & interfacing with clients\\n• Familiarity with standard design patterns, data structures, and algorithms\\n• React Native or Native mobile development\\n• Code school graduate and/or CS Background\\n\\n\\n\\n\\n**Formidable** is a Seattle, Denver, and London-based boutique engineering consultancy and open source software organization, specializing in React.js, React Native, GraphQL, Node.js, and the architecture of large-scale JavaScript applications. We are a team of experts working together to handle the toughest software problems. We build products for some of the world's biggest companies while helping their internal teams develop the skill set to build and maintain thoughtful and scalable systems. \\n\\nInclusion is one of our core values. We don’t discriminate by race, religion, national origin, gender identity, sexual orientation, age, marital status, veteran status, or disability status.\\n\\n\\nAll persons hired will be required to verify identity and eligibility to work in the United Kingdom. We are not offering UK/EU working visa sponsorship at this time.\\n\",\n",
              "    'id': 'cjuvezoh002gb07350tvhvgnr',\n",
              "    'title': 'Future Senior Software Engineer'},\n",
              "   {'cities': [{'name': 'London'}],\n",
              "    'company': {'name': 'Formidable'},\n",
              "    'description': \"Formidable is a Seattle, Denver, and London-based boutique engineering consultancy and open source software organization, specializing in React.js, React Native, GraphQL, Node.js, and the architecture of large-scale JavaScript applications. We are a team of experts working together to handle the toughest software problems. We build products for some of the world's biggest companies while helping their internal teams develop the skill set to build and maintain thoughtful and scalable systems. \\n\\n\\nAs a Cross-Stack React Engineer at Formidable in London, you will use the modern JavaScript stack to implement new web & mobile applications, features, and tools for some of the largest and most successful companies in the world. You will work closely with client teams, providing project leadership and technical expertise to achieve maintainable and sustainable solutions. You'll also have the opportunity to work on community-leading open-source projects. \\n\\n\\nWe offer a position in our small, tight-knit team of experts who genuinely enjoy working together. We believe working hard and smart goes hand-in-hand with a 40-hour work week and flexible, remote-friendly work schedule. Formidable works hard to cultivate a culture of supportive learning and knowledge exchange, so you can expect \\xa0to stay on top of industry trends and tools, and to constantly cultivate your skill set as a part of our team.\\n\\n\\nYou are someone who enjoys building ambitious user interfaces with React, both for native and the web. You value great user experience above all else (even when it’s tempting to try out the latest framework of the week), but you’re not a stranger to managing complexity with state management libraries and well-thought out architecture. \\n\\n\\nYou are excited about using React Native, and ready to help us take it to prime time. You are a strong individual contributor who is happy to own your projects and work closely with clients to provide the tools they need for their web and mobile applications.\\n**You have:**\\n• A high degree of fluency in JavaScript, with knowledge of the good and bad parts.\\n• Experience with Git and code collaboration in teams.\\n• Commitment to diversity and inclusivity in the industry.\\n• Demonstrable ability to learn quickly.\\n• Extensive experience with React or React-like libraries for web or native.\\n• Experience in web front-end development and build tooling.\\n• Experience with React Native development.\\n• Familiarity with design patterns, data structures, and algorithms.\\n\\n\\n**Extra credit:**\\n• Experience with native iOS development with Swift or Objective-C\\n• Experience with native Android development with Java or Kotlin\\n• Experience with full-stack development using Node.js or GraphQL\\n• Experience leading teams.\\n\\nFormidable is committed to hiring the best people for the job, regardless of race, religion, national origin, gender identity, sexual orientation, age, marital status, veteran status, or disability status.\\n\\n\\nAll persons hired will be required to verify identity and eligibility to work in the United Kingdom. We are not offering UK/EU working visa sponsorship at this time.\\n\",\n",
              "    'id': 'cjuveovrz02cb0735ondjwe1e',\n",
              "    'title': 'Cross-Stack React Engineer'},\n",
              "   {'cities': [{'name': 'Miami'}, {'name': 'Toronto'}],\n",
              "    'company': {'name': 'Formidable'},\n",
              "    'description': '**Formidable** is a Seattle, Denver, and London-based boutique engineering consultancy and open-source software organization, specializing in [React.js](http://react.js/), React Native, GraphQL, [Node.js](http://node.js/), and the architecture of large-scale JavaScript applications. \\n\\nWe are a team of experts working together to handle the toughest software problems. We build products for some of the world\\'s biggest companies while helping their internal teams develop the skill set to design and maintain thoughtful and scalable systems. \\n\\n\\nAt Formidable, we work hard to cultivate a culture of supportive learning and knowledge exchange. We make sure our employees get opportunities to grow within the company and participate in daily decision-making processes. Our engineers are leaders in the community and are frequently invited to speak at key conferences.\\n\\n\\nWe are seeking an experienced JavaScript engineer to work on-site at our client\\'s office in Miami. In this role, you will work in a distributed team alongside Formidable and client engineers, using modern React, emotion, GraphQL, Node, AWS Lambda, and cloud services to implement next-generation multi-tenant and multi-platform applications. You will be our on-site representative, building trust with the client and guide the team in your areas of expertise.\\n\\n\\nAre you comfortable building system architecture and writing discoverable, consistent APIs? Do you take pride in writing comprehensive unit and integration test suites for both the frontend and backend? Are you the go-to person on your team for technical advice? Are you a patient and effective communicator, sharing your knowledge and challenging colleagues to get out of their comfort zone?\\n\\n\\nIf answered “yes” to most of these questions and want to join a collaborative community that supports diversity and understands the importance of maintaining a work-life balance, we would love to talk to you.\\n\\n\\nThe title of this job posting is \"Full-Stack\", but if you are leaning more heavily toward either front-end or back-end development, you should still apply!\\n\\n\\nSoftware Engineers at Formidable implement new applications, features, and tools for companies ranging in size from startups to Fortune 100s. You will regularly collaborate with client teams to provide project leadership, mentorship, and technical expertise. When you’re not working on client projects, you’ll have a chance to contribute to our community-leading open-source software.\\n\\n### **You Have:**\\n\\n- 5+ years of experience as a professional software developer.\\n- Familiarity with design patterns, data structures, and algorithms.\\n- High degree of fluency in JavaScript, with knowledge of modern techniques as well as core JS concepts.\\n- Extensive domain knowledge and experience working with React core APIs, including context and hooks.\\n- Experience writing and integrating with GraphQL services.\\n- Node.js frameworks like Express and Hapi.\\n- Mentorship experience.\\n- Demonstrated ability to learn quickly.\\n- Experience with code reviews and code collaboration in teams using Git.\\n- Familiarity with frontend build tooling (Webpack/Parcel, Babel, NPM/Yarn).\\n\\n### **Extra Credit:**\\n\\n- Experience leading teams.\\n- Persistence layers like AWS DynamoDB and PostgreSQL.\\n- Proficiency in frontend markup and styling with CSS and CSS-in-JS libraries like emotion.\\n- Experience building scalable systems on cloud infrastructure.\\n- Experience with React Native, or native mobile development.\\n- You have a degree in Computer Science or Software Engineering.\\n- You contribute to open-source software.\\n\\nInclusion is one of our core values. We don’t discriminate by race, religion, national origin, gender identity, sexual orientation, age, marital status, veteran status, or disability status.\\n\\n\\nAll persons hired will be required to verify identity and eligibility to work in the United States. We are not offering US working visa sponsorships at this time. Relocation assistance is not available for this position.\\n',\n",
              "    'id': 'cjuve6b2g02360735bpjdhabq',\n",
              "    'title': 'Full-Stack JavaScript Engineer'},\n",
              "   {'cities': [],\n",
              "    'company': {'name': 'ProKeep'},\n",
              "    'description': 'ProKeep is seeking a full stack developer for a messaging platform that is experiencing rapid growth in the construction industry. This developer will work on adding functionality to and scaling our API as well as enhancing our internal administrative application.\\n\\nThis is an exciting opportunity for a full stack developer who wants to grow with a startup company.\\n\\n**About ProKeep**\\xa0- ProKeep is a software company that has developed a messaging platform for the $100+ billion wholesale distribution market (i.e. plumbing, electrical, HVAC, etc). We are post product, post revenue and growing fast in the US and Canada. \\n\\nOur team is small, nimble, and devoted to making our customers lives easier with simple to use technology. We envision a world where distributors using our tools are more efficient and able to build stronger relationships with their customers.\\n\\n# Responsibilities\\n\\nWe are looking for a developer who is excited to make significant contributions to our API and other backend systems. You will be primarily focused on enhancing our API, but we are a small and highly collaborative team, so from time to time you may also take a diversion into devops or our React client application. You don’t have to be an expert with all the tools in our stack, but an interest in working on projects at all levels of the stack will be helpful as we expand the breadth of our platform. You should have strong opinions about tools and architecture, but should also be able to explain those opinions persuasive, not abrasively. You should also take pride in writing performant, logically structured, and readable code, but be pragmatic enough to realize that sometimes shipped code is better than perfect code.\\n\\n# Requirements\\n\\n- 5+ years experience working as a full stack developer.\\n- Experience building web apps and GraphQL APIs with Elixir, Phoenix, and Absinthe.\\n- Understanding of the Erlang VM and using it to build distributed systems.\\n- Ability to write performant Ecto/SQL queries and tune as needed.\\n- Experience writing automated tests and following coding standards.\\n- Familiarity with consuming REST or GraphQL based APIs.\\n- Willingness to perform code reviews and refactor existing code.\\n- Experience with devops, AWS, GitLab CI.\\n- Experience working in a geographically distributed team.\\n- Desire to collaborate with other developers and ability to communicate over various channels (email, phone, Slack, Google Hangouts, etc.)\\n- Work PST hours \\n\\n# Salary\\n\\n$70,000 to $80,000\\n\\n\\u200b\\n\\nIf interested, please email jobs@prokeep.com to introduce yourself and start the process.\\n',\n",
              "    'id': 'cjuvcje8s01f407350cwe653y',\n",
              "    'title': 'Full Stack Developer W/ Elixir Experience'},\n",
              "   {'cities': [{'name': 'London'}, {'name': 'Cambridge'}],\n",
              "    'company': {'name': 'Mixcloud'},\n",
              "    'description': \"We are looking for someone with proven experience delivering a sizeable React (or better, React Native) application to production. Good knowledge of JS and React is essential, experience with mobile platforms is a considerable plus. We have millions of users across our mobile offerings, so experience in improving and maintaining performance is also a bonus. \\n\\nWe use Relay to manage the data from our GraphQL API, so experience with that (or something similar like Apollo) is fantastic. We also test heavily and enforce type-safety on the frontend, so let us know if you have experience with Jest and Flow. \\n\\nWe have a large userbase, but a small development team with a flat and flexible structure. This means you'll have the opportunity to learn new skills in new areas, and that the work is generally diverse and interesting.\\n\\n## **REQUIREMENTS**\\n\\n- Strong JavaScript background\\n- Experience of a large production React application\\n- Bonus points for experience of React Native or mobile app development\\n\\n## **BENEFITS**\\n\\nWe are a rapidly expanding music tech business. We offer a culture of personal development and role growth. You will have the pleasure of working with a small team that punches above its weight, giving you the opportunity to explore creative ideas and expand on your role.\\n\\nThis is a London or Cambridge based position.\\n\\nIn addition to base salary, Mixcloud offers myriad benefits such as generous stock options, unlimited holiday policy, a flexible working culture, a great office environment and strong opportunities for personal development.\\n\",\n",
              "    'id': 'cjuvb97og01a80735dbsl7fpk',\n",
              "    'title': 'React/React Native Developer'},\n",
              "   {'cities': [{'name': 'London'}, {'name': 'Cambridge'}],\n",
              "    'company': {'name': 'Mixcloud'},\n",
              "    'description': \"**THE ROLE:**\\n\\nWe are looking for a Python developer with experience running a large Django application at scale. Ideally you will have good knowledge of the framework - from the SQL produced by the ORM to how to run it in production.\\n\\nFurthermore it's a big plus if you have knowledge of GraphQL, designing backend architecture, or training others.\\n\\nWe have a large userbase, but a small development team with a flat and flexible structure. This means you'll have the opportunity to learn new skills in new areas, and that the work is generally diverse and interesting.\\n\\n\\n**ABOUT MIXCLOUD:**\\n\\nMixcloud is an audio streaming platform connecting a global community of listeners and creators through audio culture. Listeners can access a unique collection of over 15 million radio shows, DJ mixes and podcasts produced and uploaded by over 1.3 million passionate tastemakers and curators around the globe.\\n\\nOur mission is to build a fair and sustainable ecosystem for audio culture. As a critical part of the global music and cultural landscape, we empower DJs, radio hosts, podcasters and tastemakers to build and inspire fan bases.\\n\\nMixcloud also helps connect brands to music and culture under our brand partnerships arm, LOUD. We create cutting-edge cultural solutions for brands such as adidas, W Hotels, Sonos, Dr. Martens, Eventbrite, and more.\\n\\nWhilst we have a great foundation in place, this is the beginning of the next phase of our journey. We are looking for smart and hungry people to join our incredible team and help us realise our vision.\\n\\n## **REQUIREMENTS**\\n\\n- Strong Python knowledge\\n- Experience with web technologies at scale, preferably Django\\n- Comfortable with managing servers and app deployment \\n- Bonus points for experience with JS / GraphQL\\n\\n## **BENEFITS**\\n\\nWe are a rapidly expanding music tech business. We offer a culture of personal development and role growth. You will have the pleasure of working with a small team that punches above its weight, giving you the opportunity to explore creative ideas and expand on your role.\\n\\nThis is a London or Cambridge based position.\\n\\nIn addition to base salary, Mixcloud offers myriad benefits such as generous stock options, unlimited holiday policy, a flexible working culture, a great office environment and strong opportunities for personal development.\\n\\nMixcloud is committed to being a diverse and inclusive workplace. We encourage applicants of different backgrounds, cultures, genders, experiences, abilities and perspectives to apply.\\n\\nAll qualified applicants will receive consideration for employment without regard to race, color, national origin, religion, sexual orientation, gender, gender identity, age, physical disability, or length of time spent unemployed.\\n\",\n",
              "    'id': 'cjuvb571b018607351syq4e73',\n",
              "    'title': 'Python / Django Developer'},\n",
              "   {'cities': [{'name': 'San Francisco'}],\n",
              "    'company': {'name': 'Apollo'},\n",
              "    'description': \"Design, build, and support the most popular GraphQL server implementation that the world's largest companies depend on for their GraphQL needs.\\nJoin the Apollo Server team to develop new features, share ideas, and build state of the art server libraries for real teams using GraphQL in production. We are an open source company — our products are built for developers, by developers, with the help of a worldwide community of contributors.\\nWe're on a mission to make product development as fast, easy, and productive as possible, and we're excited about GraphQL because it makes code faster to write and easier to understand.\\n\\n#### **What you'll do**\\n\\n- Design, discuss, and implement new features in Apollo open source projects that help people build GraphQL APIs on top of their data.\\n- Listen to developers, understand their needs, and represent them in the Apollo project roadmaps and issue lists.\\n- Work closely with contributors to merge pull requests and help new people get engaged in the project.\\n- Engage with the community on Medium, Stack Overflow, Slack, Spectrum, and at conferences.\\n- Collaborate with the maintainers of community GraphQL server implementations, GraphQL libraries, and other relevant technologies on proposed standards, feature ideas, and pull requests that advance the ecosystem.\\n\\n#### **About you**\\n\\n- You are excited about internal and external API architecture and development. Bonus points if that excitement includes GraphQL or Apollo!\\n- You like to keep up with the latest developments in the API and microservices ecosystem, including Express, GraphQL.js, Swagger, Lambda and other FaaS platforms, API gateway and management technologies, and more. Ideally, you have contributed to projects like these.\\n- You understand API development workflows, and care about building a high quality experience that makes developers happy.\\n- You enjoy helping people, having collaborative design discussions, and talking about your work, online and in person.\\n- You have a positive, sunny communication style – a “rising tide lifts all boats” mentality.\\n- You enjoy collaborating with others, reviewing code and getting your code reviewed, and seeking feedback often.\\n- You are not afraid to ask for help when you need it and generous with help when others ask.\\n- You know how to work with a team to make realistic estimates and manage expectations.\\n\\nThis position can be done from our San Francisco headquarters, or anywhere else in the world. \\nApollo is proud to be an equal opportunity workplace dedicated to pursuing and hiring a talented and diverse workforce.\\n\",\n",
              "    'id': 'cjuvandvo01430735nf44pwl0',\n",
              "    'title': 'Open Source Engineer'},\n",
              "   {'cities': [{'name': 'San Francisco'}],\n",
              "    'company': {'name': 'Apollo'},\n",
              "    'description': \"Help us build open source GraphQL client libraries and tools for mobile developers, share ideas with both the GraphQL and mobile communities, and collaborate with other companies on projects to move GraphQL forward. Join the Apollo Client team to develop new features, share ideas, and build state of the art client libraries for real teams using GraphQL in production. We are an open source company — our products are built for developers, by developers, with the help of a worldwide community of contributors. \\nWe're on a mission to make product development as fast, easy, and productive as possible, and we're excited about GraphQL because it makes code faster to write and easier to understand. GraphQL was created to solve mobile development pains, and we want to revive those beginnings and change how mobile applications are built.\\n\\n#### **What You'll Do**\\n\\n- Design, discuss, and implement new features in Apollo open source GraphQL clients for native mobile apps.\\n- Listen to developers and customers, understand their needs, and represent them in the Apollo project roadmaps and issue lists.\\n- Work closely with contributors to merge pull requests and help new people get engaged in the project.\\n- Engage with teams using Apollo native clients to improve their experience using the Apollo GraphQL Platform.\\n- Collaborate with the maintainers of community GraphQL libraries, GraphQL server implementations, and other relevant technologies on proposed standards, feature ideas, and pull requests that advance the ecosystem.\\n\\n#### **About You**\\n\\n- You're excited about GraphQL and Apollo!\\n- You have multiple years of experience architecting and designing native mobile apps, frameworks, and/or libraries.\\n- You have experience developing and delivering mobile applications. Experience with both iOS and Android is a definite plus, but we will consider candidates who are experienced working on only one of the two platforms.\\n- You have a solid understanding of GraphQL concepts.\\n- You have general knowledge of the overall Apollo GraphQL ecosystem, ideally with experience using Apollo iOS and/or Apollo Android.\\n- You have a strong love of open source software and you enjoy helping people, having collaborative design discussions, and talking about your work, both online and in person.\\n- You have a positive, sunny communication style – a “rising tide lifts all boats” mentality.\\n- You know how to work with a team to make realistic estimates, manage schedules, and delivery expectations.\\n\\nThis position can be done from our San Francisco headquarters, or anywhere else in the world.\\nApollo is proud to be an equal opportunity workplace dedicated to pursuing and hiring a talented and diverse workforce.\\n\",\n",
              "    'id': 'cjuvajnzp012z0735zsyq8lr1',\n",
              "    'title': 'Mobile Engineer'},\n",
              "   {'cities': [{'name': 'San Francisco'}],\n",
              "    'company': {'name': 'Apollo'},\n",
              "    'description': \"Build and scale the services and cloud infrastructure that the world's largest companies depend on for GraphQL insights and governance.\\nYou'll have the opportunity to learn and use a cutting edge Apollo stack, define our schemas and data models, and implement and maintain our backend systems, all while putting into practice the GraphQL-first methodologies that we teach and advocate. This is a great role for backend services engineers who love building robust, scalable, and highly performant systems, and are excited to support the next generation of developer tools.\\n\\n#### **What you'll do**\\n\\n- Build a set of microservices that provide GraphQL query registration to every Apollo development team.\\n- Implement authorization and a role management system for Apollo that supports the needs of sophisticated enterprise customers.\\n- Leverage OLAP infrastructure, built upon Druid, Kafka, and Postgres, to collect and aggregate high resolution execution timing data for billions of GraphQL queries.\\n- Design and build technical integrations between Apollo's cloud services and popular developer tools like Datadog, Pagerduty, and GitHub.\\n\\n#### **About you**\\n\\n- You're familiar with the modern services architecture, including technologies like Kubernetes, Kafka, and the JVM.\\n- You take pride in a highly scalable and robust infrastructure, and are excited to tackle difficult systems-level challenges.\\n- You're an experienced collaborator and love sharing your knowledge with and learning from a diverse, tight-knit team.\\n- You're excited at the opportunity to influence the direction of GraphQL by providing a unique backend-oriented perspective.\\n- You recognize the importance of site availability, system monitoring, and actively participating in the on-call rotation.\\n\\nThis position can be done from our San Francisco headquarters, or anywhere else in the world. \\nApollo is proud to be an equal opportunity workplace dedicated to pursuing and hiring a talented and diverse workforce.\\n\",\n",
              "    'id': 'cjuvaeyue010k0735f0icx2jr',\n",
              "    'title': 'Backend Software Engineer'},\n",
              "   {'cities': [{'name': 'San Francisco'}],\n",
              "    'company': {'name': 'Apollo'},\n",
              "    'description': \"\\nGraphQL is a revolutionary technology that allows product engineering teams to almost double the speed at which they ship new features. As an Apollo Solutions Architect, you will be one of the leaders helping major product teams in the industry go from proof of concept through production with GraphQL.\\nYou'll work directly with engineering teams at a range of companies to help them roll out GraphQL effectively and begin benefitting from our product.\\n\\n#### **What You'll Do**\\n\\n- **Advise —** Be a primary technical adviser for Apollo Enterprise customers; from their first POC, through production, and into expansion of GraphQL within and beyond their team.\\n- **Understand —** Work with users to understand their goals, roadmap, culture, technical architecture, and the right way to roll out Apollo in their company to best accomplish their aims.\\n- **Create —** Create targeted examples of Apollo products and tools in action for demos, sales, and specific customer implementation needs.\\n- **Coordinate —** Develop adoption/expansion plans for users and follow up with them to make sure that their projects remain on track. Identify and find ways to remove any roadblocks that could derail these plans~~.~~\\n- **Improve —** Triage and improve our documentation, OSS libraries, and platform from customer feedback or issues. Coordinate with tech leads internally to help us continue to build solutions to real world issues.\\n\\n#### **About You**\\n\\n- You're passionate about teams of all sizes succeeding at more than they thought possible.\\n- You value empathy and love talking with users and customers to solve their problems, which has made you a highly trusted and valued partner.\\n- You have a technical background with GraphQL and can create code samples, review and advise other engineers, and develop trusted engineer-to-engineer relationships.\\n- You've led a team of engineers on projects from POC to production, ideally having rolled out GraphQL at a company.\\n- You're an organized and reliable multitasker with great follow-through.\\n- You have a creative, “can do” attitude. You find creative ways around obstacles and do not rest until the user is satisfied.\\n- You're comfortable traveling 1-2 times per month for a day or two at a time to help companies in their adoption of GraphQL\\n\\nThis position can be done from our San Francisco headquarters or anywhere else in the US.\\nApollo is proud to be an equal opportunity workplace dedicated to pursuing and hiring a talented and diverse workforce.\\n\",\n",
              "    'id': 'cjuvabaje00zb0735qcabqza8',\n",
              "    'title': 'Apollo Solutions Architect'},\n",
              "   {'cities': [{'name': 'Berlin'}],\n",
              "    'company': {'name': 'Prisma'},\n",
              "    'description': \"At Prisma we are building the data layer for modern applications. If you are fascinated by the software that power large technology companies such as Twitter, Airbnb and Facebook but want the challenges and freedom that come with working in a small startup, then a job at Prisma might be for you.\\n\\nWith $4.5M in funding from top-tier SV investor Kleiner Perkins we are a small and dedicated team in Berlin working on making advanced data infrastructure developed at large tech companies accessible to all developers around the world.\\n\\nWe are focused on bottom-up adoption, and most of our software is open-source. At Prisma you will be part of a vibrant community and engage with our many users and customers on GitHub and Slack.\\n\\nWorking on the core of Prisma, you will have the opportunity to learn from a group of experienced engineers and work with modern technologies such as TypeScript, Node.JS, Electron, React, GatsbyJS, Cypress and a broad range of modern databases.\\n\\n## What you will do\\n\\nYou will work as an equal peer in our full stack. On a normal day at Prisma, you could be working on any of the following items:\\n\\n- Implement features in the upcoming product Prisma Admin like embedding a Prisma binary into the Electron app, a graph view for the datamodel or a plugin system for custom UIs.\\n- Improve the testing setup of Prisma Cloud\\n- Collaborate closely with our designer to improve the user experience in Prisma Cloud\\n- Plan and implement a new cloud provider integration for Prisma Cloud\\n- Work on new libraries & tools that will be used as building blocks internally and our users\\n\\n## About you\\n\\n- You have at least 3 years of experience with Javascript\\n- You can communicate fluently in English and can express your thoughts clearly in writing\\n\\nThe following points are plusses, but please do apply even if you don't fulfill every single one.\\n\\n- You are an experienced developer with deep expertise in JavaScript, preferably even TypeScript\\n- You have a background in design or working on a product\\n- You have worked on a complex project (comparable to applications like Slack, Notion, Front or VSCode) where you had to solve state handling challenges with a good architecture\\n- You care about the user experience people have while interacting with a tool\\n- You are the maintainer of an open source project\\n- You enjoy working closely with your peers and proactively seek to help others\\n- You seek feedback early and often and are not afraid to ask for help\\n\\nNote: This is an on-site position that require you to re-locate to Berlin. We offer a generous re-location package to help you settle in.\\n\",\n",
              "    'id': 'cjuv7gyjp00p90735ylvalfcw',\n",
              "    'title': 'JavaScript Engineer'},\n",
              "   {'cities': [{'name': 'Berlin'}],\n",
              "    'company': {'name': 'Prisma'},\n",
              "    'description': \"Nurture and grow the Prisma development team. In the coming year we will grow from two small teams with an informal leadership structure to several full teams. Your job will be to lead this process and build an engineering organisation with robust leadership and fast-moving motivated individuals.\\n\\n## Bring Technical Expertise\\n\\nYour ability to lead the team must be rooted in mutual trust and respect. As such, you must have a deep technical expertise and be able to contribute meaningfully to our various software projects. The first 3 months on the job you will spend most of your time writing code.\\n\\nPrisma's core product is a database proxy that exposes a GraphQL API. It is written in Scala and Rust. Experience with either is a plus, but not a must. It is more important that you have experience building a high-scale server product. You should take a look at [https://github.com/prisma](https://github.com/prisma) to familiarise yourself with our various open source projects.\\n\\n## Bridge product and engineering\\n\\nPrisma has a very product-focused culture. As the Engineering Manager you will be working closely with the product team to define our roadmap and shape new features. It's important that you reach close alignment with the founders on product decisions and are able to convey the vision convincingly to colleagues and external parties. You should be able to guide the engineers on your team who are working on very technical product specs.\\n\\nWe strive to deliver delightful products and so should you.\\n\\n## Create process and structure\\n\\nMaking sure our engineering team keeps operating as a well-oiled machine as we scale up is critical to our ability to deliver on our vision. This will be your responsibility. We are developing a mix of open- and closed-source projects as well as supporting projects that are primarily driven by the community. You will need to track this diverse set of software projects and build out structures and process to improve engineering velocity and ensure internal and external engineers have a great experience.\\n\\nYou will drive the entire development process including estimation, sprint planning, releases as well as developing a public roadmap.\\n\\n## Lead and mentor\\n\\nPrisma is a small team of highly motivated individuals. As we grow the team, many of your colleagues will face challenges and grow into roles they haven't filled before. An important part of your job is to provide mentorship and coaching to ensure that individuals on the team has the support they need to excel. Prior experience growing individuals into more senior roles and responsibilities as well as implementing structured management frameworks is a requirement for this job.\\n\\n## About you\\n\\nThe following points are plusses, but please do apply even if you don't fulfil every single one.\\n\\n- Passion for leading teams and developing employees\\n- Several years of experience as a software engineer delivering large backend systems (Scala and Rust is a plus)\\n- Still eager to get your hands dirty with day-to-day development tasks\\n- Experience in agile project and team management\\n- High aspiration for quality, balanced with pragmatism and a sense of urgency\\n- Effective English communication skills\\n\\nNote: This is an on-site position that require you to re-locate to Berlin. We offer a generous re-location package to help you settle in.\\n\",\n",
              "    'id': 'cjuv67iby00m7073524m7c01j',\n",
              "    'title': 'Engineering Manager'},\n",
              "   {'cities': [{'name': 'Berlin'}],\n",
              "    'company': {'name': 'Prisma'},\n",
              "    'description': 'As a developer support engineer you will help others adopt and build apps with Prisma - from individual developers using Prisma for a side project to engineers at large companies using Prisma to build complex systems.\\n\\nYou will communicate with external developers through Slack, the Prisma forum and our support ticket system to solve problems, triage bugs and debug customer code of all kinds. You will also work with internal engineering teams to identify bugs and suggest new features that will help our customers use Prisma.\\n\\n## You will:\\n\\n- Work with external developers through slack, forum and github issues to solve their technical problems.\\n- Collect feedback and friction points in order to improve Prisma and surrounding open source projects\\n- Develop processes, tooling and documentation to deliver the best possible developer support experience.\\n- Work with product and engineering teams to shape the future of Prisma.\\n\\n## You will be a good fit if:\\n\\n- You are proficient in multiple different languages such as JavaScript, TypeScript, Python, Go, Java and C#. Experience with JavaScript is a big plus, but new languages can be learned, so we care much more about your appetite for learning new languages and frameworks.\\n- You have experience with web development and frameworks such as React, VueJS or Angular. A previous position as a software engineer is a plus.\\n- You have worked on a project with RESTful APIs. Experience with GraphQL is a plus.\\n- You are a patient communicator who can keep multiple threads of communication open at the same time.\\n- You enjoy teaching and enabling other developers to be successful\\n\\nNote: This is an on-site position that require you to re-locate to Berlin. We offer a generous re-location package to help you settle in.\\n',\n",
              "    'id': 'cjuv5x5je00k70735fzuc3sis',\n",
              "    'title': 'Developer Support Engineer'},\n",
              "   {'cities': [{'name': 'Berlin'}],\n",
              "    'company': {'name': 'Prisma'},\n",
              "    'description': \"At Prisma we are building the data layer for modern applications. If you are fascinated by the software that power large technology companies such as Twitter, Airbnb and Facebook but want the challenges and freedom that come with working in a small startup, then a job at Prisma might be for you.\\n\\nWith $4.5M in funding from top-tier SV investor Kleiner Perkins we are a small and dedicated team in Berlin working on making advanced data infrastructure developed at large tech companies accessible to all developers around the world.\\n\\nWe are focused on bottom-up adoption, and most of our software is open-source. At Prisma you will be part of a vibrant community and engage with our many users and customers on GitHub and Slack.\\n\\nWorking on the core of Prisma, you will have the opportunity to learn from a group of experienced engineers and work with modern technologies such as Graal, Akka, Rust and a broad range of modern databases.\\n\\n## What you will do\\n\\nYou will work as an equal peer on our Core team. A normal day at Prisma could see you work on any of the following items:\\n\\n- Implement features in the core Prisma API such as atomic operations, advanced list operations and aggregation queries\\n- Set up a test infrastructure to drive our continuous efforts to improve the performance of Prisma\\n- Develop the specification for a new feature by engaging customers and the open source community\\n- Refactor the core query engine to support a new type of database\\n\\n## About you\\n\\nThe following points are plusses, but please do apply even if you don't fulfil every single one.\\n\\n- You are an experienced developer with deep expertise in a JVM language, preferably Scala\\n- You have experience with systems level programming, maybe even in Rust\\n- You have personally been responsible for a large system running on Kubernetes or similar modern cloud environment\\n- You have experience writing performant server code for demanding scalability requirements\\n- You can communicate fluently in english and can express your thoughts clearly in writing\\n- You enjoy working closely with your peers and proactively seek to help others\\n- You seek feedback early and often and am not afraid to ask for help\\n- You appreciate the value of planning and task estimation\\n\\nNote: This is an on-site position that require you to re-locate to Berlin. We offer a generous re-location package to help you settle in.\\xa0\\n\",\n",
              "    'id': 'cjuv53bpu00fs0735b5ljpmpc',\n",
              "    'title': 'Backend Engineer'}]}}"
            ]
          },
          "metadata": {
            "tags": []
          },
          "execution_count": 69
        }
      ]
    },
    {
      "cell_type": "markdown",
      "metadata": {
        "id": "Js5XsJsLZgu3"
      },
      "source": [
        "We can even build a Pandas DataFrame from our results"
      ]
    },
    {
      "cell_type": "code",
      "metadata": {
        "id": "SFj1AL4SvRrN"
      },
      "source": [
        "# filter down the JSON hierarchy\n",
        "jobs_df=pd.DataFrame(response.json()['data']['jobs'])"
      ],
      "execution_count": null,
      "outputs": []
    },
    {
      "cell_type": "code",
      "metadata": {
        "id": "6YtJZ6QnvY4c"
      },
      "source": [
        "# function to clean up the company name\n",
        "get_details=lambda x:x['name']"
      ],
      "execution_count": null,
      "outputs": []
    },
    {
      "cell_type": "code",
      "metadata": {
        "id": "tO79_CJtwhf7"
      },
      "source": [
        "jobs_df['company']=jobs_df.company.apply(get_details)"
      ],
      "execution_count": null,
      "outputs": []
    },
    {
      "cell_type": "code",
      "metadata": {
        "colab": {
          "base_uri": "https://localhost:8080/",
          "height": 467
        },
        "id": "jqNLeMS-xWQ6",
        "outputId": "dc202d20-9890-4c20-a94e-f3b2c1f8dcbd"
      },
      "source": [
        "jobs_df.head()"
      ],
      "execution_count": null,
      "outputs": [
        {
          "output_type": "execute_result",
          "data": {
            "text/html": [
              "<div>\n",
              "<style scoped>\n",
              "    .dataframe tbody tr th:only-of-type {\n",
              "        vertical-align: middle;\n",
              "    }\n",
              "\n",
              "    .dataframe tbody tr th {\n",
              "        vertical-align: top;\n",
              "    }\n",
              "\n",
              "    .dataframe thead th {\n",
              "        text-align: right;\n",
              "    }\n",
              "</style>\n",
              "<table border=\"1\" class=\"dataframe\">\n",
              "  <thead>\n",
              "    <tr style=\"text-align: right;\">\n",
              "      <th></th>\n",
              "      <th>id</th>\n",
              "      <th>title</th>\n",
              "      <th>cities</th>\n",
              "      <th>company</th>\n",
              "      <th>description</th>\n",
              "    </tr>\n",
              "  </thead>\n",
              "  <tbody>\n",
              "    <tr>\n",
              "      <th>0</th>\n",
              "      <td>cjz1ipl9x009a0758hg68h7vy</td>\n",
              "      <td>Senior Fullstack Engineer - Platform</td>\n",
              "      <td>[{'name': 'San Francisco'}]</td>\n",
              "      <td>Segment</td>\n",
              "      <td># **Overview **\\n\\nAt Segment, we believe comp...</td>\n",
              "    </tr>\n",
              "    <tr>\n",
              "      <th>1</th>\n",
              "      <td>cjwt2a8j700by0793lnvon5c9</td>\n",
              "      <td>Full Stack JavaScript Developer</td>\n",
              "      <td>[{'name': 'Berlin'}]</td>\n",
              "      <td>Unrealists</td>\n",
              "      <td>We are looking for a strong (Midlevel to Senio...</td>\n",
              "    </tr>\n",
              "    <tr>\n",
              "      <th>2</th>\n",
              "      <td>cjw1yogu0007j079339al4zyu</td>\n",
              "      <td>Senior Software Engineer, API Development</td>\n",
              "      <td>[{'name': 'London'}]</td>\n",
              "      <td>DeepCrawl</td>\n",
              "      <td>**Overview of DeepCrawl**\\n\\nDeepCrawl is the ...</td>\n",
              "    </tr>\n",
              "    <tr>\n",
              "      <th>3</th>\n",
              "      <td>cjwqsa7wj007d0778obv0dfs9</td>\n",
              "      <td>Experienced Backend Engineer - Go</td>\n",
              "      <td>[]</td>\n",
              "      <td>Theorem</td>\n",
              "      <td>Do you enjoy collaborating in a consultative e...</td>\n",
              "    </tr>\n",
              "    <tr>\n",
              "      <th>4</th>\n",
              "      <td>cjwnlolmk03hm0756mmvkw5d2</td>\n",
              "      <td>Senior Software Engineer - Frontend</td>\n",
              "      <td>[]</td>\n",
              "      <td>Close</td>\n",
              "      <td>**About Us**\\n\\nAt [Close](https://close.com/)...</td>\n",
              "    </tr>\n",
              "  </tbody>\n",
              "</table>\n",
              "</div>"
            ],
            "text/plain": [
              "                          id  ...                                        description\n",
              "0  cjz1ipl9x009a0758hg68h7vy  ...  # **Overview **\\n\\nAt Segment, we believe comp...\n",
              "1  cjwt2a8j700by0793lnvon5c9  ...  We are looking for a strong (Midlevel to Senio...\n",
              "2  cjw1yogu0007j079339al4zyu  ...  **Overview of DeepCrawl**\\n\\nDeepCrawl is the ...\n",
              "3  cjwqsa7wj007d0778obv0dfs9  ...  Do you enjoy collaborating in a consultative e...\n",
              "4  cjwnlolmk03hm0756mmvkw5d2  ...  **About Us**\\n\\nAt [Close](https://close.com/)...\n",
              "\n",
              "[5 rows x 5 columns]"
            ]
          },
          "metadata": {
            "tags": []
          },
          "execution_count": 80
        }
      ]
    },
    {
      "cell_type": "code",
      "metadata": {
        "id": "s5y8bImXxj9G"
      },
      "source": [
        "from gensim.summarization import keywords\n",
        "\n",
        "keywords_list=jobs_df.description.apply(lambda x: keywords(x).split('\\n'))"
      ],
      "execution_count": null,
      "outputs": []
    },
    {
      "cell_type": "code",
      "metadata": {
        "id": "wKzkPd4Ox6yg"
      },
      "source": [
        "from collections import Counter"
      ],
      "execution_count": null,
      "outputs": []
    },
    {
      "cell_type": "code",
      "metadata": {
        "id": "mge6r3NzyEK4"
      },
      "source": [
        "c=Counter()\n",
        "for job_kws in keywords_list:\n",
        "  c.update(job_kws)"
      ],
      "execution_count": null,
      "outputs": []
    },
    {
      "cell_type": "code",
      "metadata": {
        "colab": {
          "base_uri": "https://localhost:8080/"
        },
        "id": "y4IDYr0nyKOz",
        "outputId": "1c70f242-9a3e-447c-8108-b90ea360a271"
      },
      "source": [
        "c.most_common()[0:20]"
      ],
      "execution_count": null,
      "outputs": [
        {
          "output_type": "execute_result",
          "data": {
            "text/plain": [
              "[('experience', 42),\n",
              " ('work', 40),\n",
              " ('team', 39),\n",
              " ('working', 38),\n",
              " ('development', 34),\n",
              " ('products', 31),\n",
              " ('new', 30),\n",
              " ('build', 29),\n",
              " ('building', 27),\n",
              " ('product', 22),\n",
              " ('engineering', 21),\n",
              " ('status', 20),\n",
              " ('developers', 20),\n",
              " ('engineer', 20),\n",
              " ('engineers', 20),\n",
              " ('developer', 19),\n",
              " ('develop', 19),\n",
              " ('graphql', 19),\n",
              " ('production', 19),\n",
              " ('developing', 17)]"
            ]
          },
          "metadata": {
            "tags": []
          },
          "execution_count": 54
        }
      ]
    },
    {
      "cell_type": "code",
      "metadata": {
        "id": "UHwiFxkBahoB"
      },
      "source": [
        ""
      ],
      "execution_count": null,
      "outputs": []
    },
    {
      "cell_type": "markdown",
      "metadata": {
        "id": "APQ6emsmaiRc"
      },
      "source": [
        "What about limiting the results of our query?"
      ]
    },
    {
      "cell_type": "code",
      "metadata": {
        "id": "w42Lz5HfCeSz"
      },
      "source": [
        "query=\"\"\"{\n",
        "  jobs {\n",
        "    title\n",
        "    tags(first:1) {\n",
        "      name\n",
        "    }\n",
        "  }\n",
        "}\n",
        "\"\"\""
      ],
      "execution_count": null,
      "outputs": []
    },
    {
      "cell_type": "code",
      "metadata": {
        "id": "4yD9qBWDQbF5"
      },
      "source": [
        "response=requests.post(graphql_url,json={'query':query})"
      ],
      "execution_count": null,
      "outputs": []
    },
    {
      "cell_type": "code",
      "metadata": {
        "colab": {
          "base_uri": "https://localhost:8080/"
        },
        "id": "HF6e6CcKQfHS",
        "outputId": "c8931760-6a6f-42db-b4e8-8b0b18b1e008"
      },
      "source": [
        "response.json()"
      ],
      "execution_count": null,
      "outputs": [
        {
          "output_type": "execute_result",
          "data": {
            "text/plain": [
              "{'data': {'jobs': [{'tags': [{'name': 'TypeScript'}],\n",
              "    'title': 'Senior Fullstack Engineer - Platform'},\n",
              "   {'tags': [{'name': 'JavaScript'}],\n",
              "    'title': 'Full Stack JavaScript Developer'},\n",
              "   {'tags': [{'name': 'TypeScript'}],\n",
              "    'title': 'Senior Software Engineer, API Development'},\n",
              "   {'tags': [{'name': 'Backend'}],\n",
              "    'title': 'Experienced Backend Engineer - Go'},\n",
              "   {'tags': [{'name': 'JavaScript'}],\n",
              "    'title': 'Senior Software Engineer - Frontend'},\n",
              "   {'tags': [{'name': 'Backend'}],\n",
              "    'title': 'Senior Software Engineer - Backend'},\n",
              "   {'tags': [{'name': 'TypeScript'}],\n",
              "    'title': 'Full Stack Javascript Developer'},\n",
              "   {'tags': [{'name': 'Python'}], 'title': 'Deep Learning Engineer'},\n",
              "   {'tags': [{'name': 'JavaScript'}], 'title': 'Full Stack Engineer'},\n",
              "   {'tags': [{'name': 'JavaScript'}], 'title': 'React Developer'},\n",
              "   {'tags': [{'name': 'Swift'}], 'title': 'iOS Engineer'},\n",
              "   {'tags': [{'name': 'Android'}], 'title': 'Android Engineer'},\n",
              "   {'tags': [{'name': 'Frontend'}], 'title': 'Senior Frontend Engineer'},\n",
              "   {'tags': [{'name': 'TypeScript'}],\n",
              "    'title': 'React Focused Fullstack Developer'},\n",
              "   {'tags': [{'name': 'JavaScript'}], 'title': 'Software Developer Intern'},\n",
              "   {'tags': [{'name': 'JavaScript'}], 'title': 'React Frontend Developer'},\n",
              "   {'tags': [{'name': 'Backend'}],\n",
              "    'title': 'Senior Software Engineer, Backend Development'},\n",
              "   {'tags': [{'name': 'Scala'}],\n",
              "    'title': 'Software Engineer, Backend Development'},\n",
              "   {'tags': [{'name': 'JavaScript'}],\n",
              "    'title': 'Software Engineer, Frontend Development'},\n",
              "   {'tags': [{'name': 'JavaScript'}],\n",
              "    'title': 'Backend Typescript / Javascript Developer'},\n",
              "   {'tags': [{'name': 'JavaScript'}],\n",
              "    'title': 'Intermediate Java Developer With GraphQL'},\n",
              "   {'tags': [{'name': 'JavaScript'}], 'title': 'Regular Front-end Developer'},\n",
              "   {'tags': [{'name': 'JavaScript'}], 'title': 'Senior Front-end Developer'},\n",
              "   {'tags': [{'name': 'React'}], 'title': 'Frontend Developer'},\n",
              "   {'tags': [{'name': 'JavaScript'}],\n",
              "    'title': '(Senior) Backend Node.js Developer (m/f/d)'},\n",
              "   {'tags': [{'name': 'Relay'}],\n",
              "    'title': '(Senior) Frontend React.js Developer (m/f/d)'},\n",
              "   {'tags': [{'name': 'React'}],\n",
              "    'title': 'Senior Fullstack JavaScript Developer (m/f/d)'},\n",
              "   {'tags': [{'name': 'JavaScript'}],\n",
              "    'title': 'Experienced Javascript/React developer'},\n",
              "   {'tags': [{'name': 'Relay'}], 'title': 'API Developer (Rails / GraphQL)'},\n",
              "   {'tags': [{'name': 'Apollo'}], 'title': 'iOS Engineer'},\n",
              "   {'tags': [{'name': 'React'}], 'title': 'Engineering Manager'},\n",
              "   {'tags': [{'name': 'React'}], 'title': 'Senior Engineer'},\n",
              "   {'tags': [{'name': 'React'}], 'title': 'Software Engineer'},\n",
              "   {'tags': [{'name': 'JavaScript'}],\n",
              "    'title': 'Senior Site Reliability Engineer'},\n",
              "   {'tags': [{'name': 'Relay'}], 'title': 'Front-End Intern'},\n",
              "   {'tags': [{'name': 'React'}], 'title': 'Experienced Front-end Engineer'},\n",
              "   {'tags': [{'name': 'React'}], 'title': 'Senior Software Developer'},\n",
              "   {'tags': [{'name': 'React'}], 'title': 'Software Developer'},\n",
              "   {'tags': [{'name': 'React'}], 'title': 'Senior Product Engineer'},\n",
              "   {'tags': [{'name': 'JavaScript'}], 'title': 'Senior Growth Engineer'},\n",
              "   {'tags': [{'name': 'iOS'}], 'title': 'Senior iOS Engineer'},\n",
              "   {'tags': [{'name': 'JavaScript'}], 'title': 'Backend Engineer'},\n",
              "   {'tags': [{'name': 'React'}], 'title': 'Unicorn Designer Developer'},\n",
              "   {'tags': [{'name': 'Node.js'}], 'title': 'Backend Developer'},\n",
              "   {'tags': [{'name': 'Scala'}], 'title': 'Software Engineer - GraphQL'},\n",
              "   {'tags': [{'name': 'Management'}],\n",
              "    'title': 'Engineering Manager - Consumer API'},\n",
              "   {'tags': [{'name': 'Scala'}], 'title': 'Backend Engineer (TweetDeck)'},\n",
              "   {'tags': [{'name': 'Backend'}], 'title': 'Backend Software Engineer'},\n",
              "   {'tags': [{'name': 'Management'}], 'title': 'Engineering Manager'},\n",
              "   {'tags': [{'name': 'Management'}],\n",
              "    'title': 'Technical Product Manager, GraphQL Platforms'},\n",
              "   {'tags': [{'name': 'React'}], 'title': 'Web Engineer'},\n",
              "   {'tags': [{'name': 'Node.js'}], 'title': 'Platform Engineer'},\n",
              "   {'tags': [{'name': 'Relay'}], 'title': 'Frontend Engineer'},\n",
              "   {'tags': [{'name': 'Relay'}], 'title': 'Senior Frontend Engineer'},\n",
              "   {'tags': [{'name': 'Django'}], 'title': 'Senior Backend Engineer'},\n",
              "   {'tags': [{'name': 'Django'}], 'title': 'Backend Engineer'},\n",
              "   {'tags': [{'name': 'Relay'}], 'title': 'React Engineer'},\n",
              "   {'tags': [{'name': 'TypeScript'}],\n",
              "    'title': 'Lead Frontend Developer (m/f/d)'},\n",
              "   {'tags': [{'name': 'React'}], 'title': 'Full-stack Developer'},\n",
              "   {'tags': [{'name': 'Haskell'}], 'title': 'Senior Haskell Engineer'},\n",
              "   {'tags': [{'name': 'TypeScript'}],\n",
              "    'title': 'Senior Full Stack Engineer, Project Community'},\n",
              "   {'tags': [{'name': 'Backend'}], 'title': 'Senior Software Engineer, API'},\n",
              "   {'tags': [{'name': 'TypeScript'}], 'title': 'Front End Engineer'},\n",
              "   {'tags': [{'name': 'React'}], 'title': 'Future Senior Software Engineer'},\n",
              "   {'tags': [{'name': 'React'}], 'title': 'Cross-Stack React Engineer'},\n",
              "   {'tags': [{'name': 'JavaScript'}],\n",
              "    'title': 'Full-Stack JavaScript Engineer'},\n",
              "   {'tags': [{'name': 'Elixir'}],\n",
              "    'title': 'Full Stack Developer W/ Elixir Experience'},\n",
              "   {'tags': [{'name': 'Relay'}], 'title': 'React/React Native Developer'},\n",
              "   {'tags': [{'name': 'Django'}], 'title': 'Python / Django Developer'},\n",
              "   {'tags': [{'name': 'Apollo'}], 'title': 'Open Source Engineer'},\n",
              "   {'tags': [{'name': 'Apollo'}], 'title': 'Mobile Engineer'},\n",
              "   {'tags': [{'name': 'Apollo'}], 'title': 'Backend Software Engineer'},\n",
              "   {'tags': [{'name': 'Apollo'}], 'title': 'Apollo Solutions Architect'},\n",
              "   {'tags': [{'name': 'Prisma'}], 'title': 'JavaScript Engineer'},\n",
              "   {'tags': [{'name': 'Prisma'}], 'title': 'Engineering Manager'},\n",
              "   {'tags': [{'name': 'Prisma'}], 'title': 'Developer Support Engineer'},\n",
              "   {'tags': [{'name': 'Prisma'}], 'title': 'Backend Engineer'}]}}"
            ]
          },
          "metadata": {
            "tags": []
          },
          "execution_count": 60
        }
      ]
    },
    {
      "cell_type": "markdown",
      "metadata": {
        "id": "EhLnWwuSSFAE"
      },
      "source": [
        "## Resources for other APIs\n",
        "\n",
        "#### GraphQL\n",
        "\n",
        "https://github.com/APIs-guru/graphql-apis\n",
        "\n",
        "#### General (Mostly REST)\n",
        "https://github.com/public-apis/public-apis#environment\n"
      ]
    },
    {
      "cell_type": "markdown",
      "metadata": {
        "id": "RO5mBwtfYBoS"
      },
      "source": [
        "# Whats next?\n",
        "\n",
        "### Community\n",
        "- [Spotify: The Tech Pivot](https://open.spotify.com/show/5hsVXoBEshedfp4P9HSmTC)\n",
        "- [Apple Podcasts: The Tech Pivot](https://podcasts.apple.com/us/podcast/the-tech-pivot/id1547353713?uo=4&itscg=30200&itsct=podcast_box)\n",
        "\n",
        "### Keep Learning:\n",
        "The most important thing to do it keep learning!\n",
        "\n",
        "- [Data Science Prep Course](https://bit.ly/DSIPREP-32q7lQj) \n",
        "\n",
        "See all upcoming Galvanize online events [here](https://www.hackreactor.com/webinars)\n",
        "\n",
        "### Challenge ideas:\n",
        "- Find a new API to query\n",
        "- Try creating an API of your own (start with hello world!)\n",
        "- Integrate an API into your machine learning pipeline\n",
        "\n",
        "\n",
        "### Stay Connected:\n",
        "- Linkedin: [https://www.linkedin.com/in/andrewmeans/](https://www.linkedin.com/in/andrewmeans/)\n",
        "\n",
        "- email: andrew.means@galvanize.com"
      ]
    },
    {
      "cell_type": "code",
      "metadata": {
        "id": "2lpapdaCyTbC"
      },
      "source": [
        ""
      ],
      "execution_count": null,
      "outputs": []
    }
  ]
}